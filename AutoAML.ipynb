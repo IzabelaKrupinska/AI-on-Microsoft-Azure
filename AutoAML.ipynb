{
  "cells": [
    {
      "cell_type": "markdown",
      "source": [
        "## Dataset\n",
        "Zadanie regresji dla zbioru 'Titanic'.\n",
        "Source: https://gist.githubusercontent.com/michhar/2dfd2de0d4f8727f873422c5d959fff5/raw/fa71405126017e6a37bea592440b4bee94bf7b9e/titanic.csv\n",
        "Predykcja przeżycia 'Survived' na podstawie danych o pasażerach. "
      ],
      "metadata": {}
    },
    {
      "cell_type": "markdown",
      "source": [
        "## Auto ML z UI\n",
        "Step by step\n",
        "* Resource group -> Create\n",
        "* Machine Learning -> create\n",
        "* ml.azure.com\n",
        "* Manage -> Compute\n",
        "* create compute instance CPU Standard_DS3_v2\n",
        "* create compute clusters CPU Standard_DS3_v2\n",
        "* Assets -> Datasets create dataset from web\n",
        "* Headers from the first file\n",
        "* Automated ML -> New automated ML run\n",
        "* New experiment name\n",
        "* Type Resgression\n",
        "* Gotowe - można sprawdzić rezultaty"
      ],
      "metadata": {}
    },
    {
      "cell_type": "markdown",
      "source": [
        "## Jupyter Notebook"
      ],
      "metadata": {}
    },
    {
      "cell_type": "markdown",
      "source": [
        "### Azure ML Workspace"
      ],
      "metadata": {}
    },
    {
      "cell_type": "code",
      "source": [
        "pip install --upgrade --upgrade-strategy eager azureml-sdk"
      ],
      "outputs": [],
      "execution_count": null,
      "metadata": {
        "collapsed": true,
        "jupyter": {
          "source_hidden": false,
          "outputs_hidden": false
        },
        "nteract": {
          "transient": {
            "deleting": false
          }
        },
        "gather": {
          "logged": 1611666038078
        }
      }
    },
    {
      "cell_type": "code",
      "source": [
        "import azureml.core\n",
        "print(\"SDK version:\", azureml.core.VERSION)"
      ],
      "outputs": [
        {
          "output_type": "stream",
          "name": "stdout",
          "text": [
            "SDK version: 1.21.0\n"
          ]
        }
      ],
      "execution_count": 1,
      "metadata": {
        "gather": {
          "logged": 1611668593681
        }
      }
    },
    {
      "cell_type": "code",
      "source": [
        "from azureml.core import Workspace, Dataset\n",
        "ws = Workspace.from_config()"
      ],
      "outputs": [],
      "execution_count": 2,
      "metadata": {
        "jupyter": {
          "outputs_hidden": false,
          "source_hidden": false
        },
        "nteract": {
          "transient": {
            "deleting": false
          }
        },
        "gather": {
          "logged": 1611668601341
        }
      }
    },
    {
      "cell_type": "markdown",
      "source": [
        "### Load data"
      ],
      "metadata": {}
    },
    {
      "cell_type": "code",
      "source": [
        "aml_dataset = ws.datasets['titanic']\n",
        "\n",
        "full_df = aml_dataset.to_pandas_dataframe()\n",
        "\n",
        "full_df.head(5)"
      ],
      "outputs": [
        {
          "output_type": "execute_result",
          "execution_count": 6,
          "data": {
            "text/plain": "   PassengerId  Survived  Pclass  \\\n0            1         0       3   \n1            2         1       1   \n2            3         1       3   \n3            4         1       1   \n4            5         0       3   \n\n                                                Name     Sex   Age  SibSp  \\\n0                            Braund, Mr. Owen Harris    male  22.0      1   \n1  Cumings, Mrs. John Bradley (Florence Briggs Th...  female  38.0      1   \n2                             Heikkinen, Miss. Laina  female  26.0      0   \n3       Futrelle, Mrs. Jacques Heath (Lily May Peel)  female  35.0      1   \n4                           Allen, Mr. William Henry    male  35.0      0   \n\n   Parch            Ticket     Fare Cabin Embarked  \n0      0         A/5 21171   7.2500  None        S  \n1      0          PC 17599  71.2833   C85        C  \n2      0  STON/O2. 3101282   7.9250  None        S  \n3      0            113803  53.1000  C123        S  \n4      0            373450   8.0500  None        S  ",
            "text/html": "<div>\n<style scoped>\n    .dataframe tbody tr th:only-of-type {\n        vertical-align: middle;\n    }\n\n    .dataframe tbody tr th {\n        vertical-align: top;\n    }\n\n    .dataframe thead th {\n        text-align: right;\n    }\n</style>\n<table border=\"1\" class=\"dataframe\">\n  <thead>\n    <tr style=\"text-align: right;\">\n      <th></th>\n      <th>PassengerId</th>\n      <th>Survived</th>\n      <th>Pclass</th>\n      <th>Name</th>\n      <th>Sex</th>\n      <th>Age</th>\n      <th>SibSp</th>\n      <th>Parch</th>\n      <th>Ticket</th>\n      <th>Fare</th>\n      <th>Cabin</th>\n      <th>Embarked</th>\n    </tr>\n  </thead>\n  <tbody>\n    <tr>\n      <th>0</th>\n      <td>1</td>\n      <td>0</td>\n      <td>3</td>\n      <td>Braund, Mr. Owen Harris</td>\n      <td>male</td>\n      <td>22.0</td>\n      <td>1</td>\n      <td>0</td>\n      <td>A/5 21171</td>\n      <td>7.2500</td>\n      <td>None</td>\n      <td>S</td>\n    </tr>\n    <tr>\n      <th>1</th>\n      <td>2</td>\n      <td>1</td>\n      <td>1</td>\n      <td>Cumings, Mrs. John Bradley (Florence Briggs Th...</td>\n      <td>female</td>\n      <td>38.0</td>\n      <td>1</td>\n      <td>0</td>\n      <td>PC 17599</td>\n      <td>71.2833</td>\n      <td>C85</td>\n      <td>C</td>\n    </tr>\n    <tr>\n      <th>2</th>\n      <td>3</td>\n      <td>1</td>\n      <td>3</td>\n      <td>Heikkinen, Miss. Laina</td>\n      <td>female</td>\n      <td>26.0</td>\n      <td>0</td>\n      <td>0</td>\n      <td>STON/O2. 3101282</td>\n      <td>7.9250</td>\n      <td>None</td>\n      <td>S</td>\n    </tr>\n    <tr>\n      <th>3</th>\n      <td>4</td>\n      <td>1</td>\n      <td>1</td>\n      <td>Futrelle, Mrs. Jacques Heath (Lily May Peel)</td>\n      <td>female</td>\n      <td>35.0</td>\n      <td>1</td>\n      <td>0</td>\n      <td>113803</td>\n      <td>53.1000</td>\n      <td>C123</td>\n      <td>S</td>\n    </tr>\n    <tr>\n      <th>4</th>\n      <td>5</td>\n      <td>0</td>\n      <td>3</td>\n      <td>Allen, Mr. William Henry</td>\n      <td>male</td>\n      <td>35.0</td>\n      <td>0</td>\n      <td>0</td>\n      <td>373450</td>\n      <td>8.0500</td>\n      <td>None</td>\n      <td>S</td>\n    </tr>\n  </tbody>\n</table>\n</div>"
          },
          "metadata": {}
        }
      ],
      "execution_count": 6,
      "metadata": {
        "gather": {
          "logged": 1611668622169
        }
      }
    },
    {
      "cell_type": "code",
      "source": [
        "full_df.describe()"
      ],
      "outputs": [
        {
          "output_type": "execute_result",
          "execution_count": 7,
          "data": {
            "text/plain": "       PassengerId    Survived      Pclass         Age       SibSp  \\\ncount   891.000000  891.000000  891.000000  714.000000  891.000000   \nmean    446.000000    0.383838    2.308642   29.699118    0.523008   \nstd     257.353842    0.486592    0.836071   14.526497    1.102743   \nmin       1.000000    0.000000    1.000000    0.420000    0.000000   \n25%     223.500000    0.000000    2.000000   20.125000    0.000000   \n50%     446.000000    0.000000    3.000000   28.000000    0.000000   \n75%     668.500000    1.000000    3.000000   38.000000    1.000000   \nmax     891.000000    1.000000    3.000000   80.000000    8.000000   \n\n            Parch        Fare  \ncount  891.000000  891.000000  \nmean     0.381594   32.204208  \nstd      0.806057   49.693429  \nmin      0.000000    0.000000  \n25%      0.000000    7.910400  \n50%      0.000000   14.454200  \n75%      0.000000   31.000000  \nmax      6.000000  512.329200  ",
            "text/html": "<div>\n<style scoped>\n    .dataframe tbody tr th:only-of-type {\n        vertical-align: middle;\n    }\n\n    .dataframe tbody tr th {\n        vertical-align: top;\n    }\n\n    .dataframe thead th {\n        text-align: right;\n    }\n</style>\n<table border=\"1\" class=\"dataframe\">\n  <thead>\n    <tr style=\"text-align: right;\">\n      <th></th>\n      <th>PassengerId</th>\n      <th>Survived</th>\n      <th>Pclass</th>\n      <th>Age</th>\n      <th>SibSp</th>\n      <th>Parch</th>\n      <th>Fare</th>\n    </tr>\n  </thead>\n  <tbody>\n    <tr>\n      <th>count</th>\n      <td>891.000000</td>\n      <td>891.000000</td>\n      <td>891.000000</td>\n      <td>714.000000</td>\n      <td>891.000000</td>\n      <td>891.000000</td>\n      <td>891.000000</td>\n    </tr>\n    <tr>\n      <th>mean</th>\n      <td>446.000000</td>\n      <td>0.383838</td>\n      <td>2.308642</td>\n      <td>29.699118</td>\n      <td>0.523008</td>\n      <td>0.381594</td>\n      <td>32.204208</td>\n    </tr>\n    <tr>\n      <th>std</th>\n      <td>257.353842</td>\n      <td>0.486592</td>\n      <td>0.836071</td>\n      <td>14.526497</td>\n      <td>1.102743</td>\n      <td>0.806057</td>\n      <td>49.693429</td>\n    </tr>\n    <tr>\n      <th>min</th>\n      <td>1.000000</td>\n      <td>0.000000</td>\n      <td>1.000000</td>\n      <td>0.420000</td>\n      <td>0.000000</td>\n      <td>0.000000</td>\n      <td>0.000000</td>\n    </tr>\n    <tr>\n      <th>25%</th>\n      <td>223.500000</td>\n      <td>0.000000</td>\n      <td>2.000000</td>\n      <td>20.125000</td>\n      <td>0.000000</td>\n      <td>0.000000</td>\n      <td>7.910400</td>\n    </tr>\n    <tr>\n      <th>50%</th>\n      <td>446.000000</td>\n      <td>0.000000</td>\n      <td>3.000000</td>\n      <td>28.000000</td>\n      <td>0.000000</td>\n      <td>0.000000</td>\n      <td>14.454200</td>\n    </tr>\n    <tr>\n      <th>75%</th>\n      <td>668.500000</td>\n      <td>1.000000</td>\n      <td>3.000000</td>\n      <td>38.000000</td>\n      <td>1.000000</td>\n      <td>0.000000</td>\n      <td>31.000000</td>\n    </tr>\n    <tr>\n      <th>max</th>\n      <td>891.000000</td>\n      <td>1.000000</td>\n      <td>3.000000</td>\n      <td>80.000000</td>\n      <td>8.000000</td>\n      <td>6.000000</td>\n      <td>512.329200</td>\n    </tr>\n  </tbody>\n</table>\n</div>"
          },
          "metadata": {}
        }
      ],
      "execution_count": 7,
      "metadata": {
        "gather": {
          "logged": 1611668665747
        }
      }
    },
    {
      "cell_type": "markdown",
      "source": [
        "### Split dataset into train and test"
      ],
      "metadata": {}
    },
    {
      "cell_type": "code",
      "source": [
        "train_dataset, test_dataset = aml_dataset.random_split(0.9, seed=1)\n",
        "\n",
        "train_dataset_df = train_dataset.to_pandas_dataframe()\n",
        "test_dataset_df = test_dataset.to_pandas_dataframe()\n",
        "\n",
        "print(train_dataset_df.describe())"
      ],
      "outputs": [
        {
          "output_type": "stream",
          "name": "stdout",
          "text": [
            "       PassengerId    Survived      Pclass         Age       SibSp  \\\n",
            "count   796.000000  796.000000  796.000000  635.000000  796.000000   \n",
            "mean    443.673367    0.374372    2.312814   29.855118    0.518844   \n",
            "std     258.717152    0.484265    0.835614   14.724893    1.102722   \n",
            "min       1.000000    0.000000    1.000000    0.420000    0.000000   \n",
            "25%     214.750000    0.000000    2.000000   20.000000    0.000000   \n",
            "50%     445.500000    0.000000    3.000000   29.000000    0.000000   \n",
            "75%     666.250000    1.000000    3.000000   39.000000    1.000000   \n",
            "max     891.000000    1.000000    3.000000   80.000000    8.000000   \n",
            "\n",
            "            Parch        Fare  \n",
            "count  796.000000  796.000000  \n",
            "mean     0.373116   31.958856  \n",
            "std      0.794782   49.798224  \n",
            "min      0.000000    0.000000  \n",
            "25%      0.000000    7.895800  \n",
            "50%      0.000000   14.454200  \n",
            "75%      0.000000   31.000000  \n",
            "max      6.000000  512.329200  \n"
          ]
        }
      ],
      "execution_count": 8,
      "metadata": {
        "gather": {
          "logged": 1611668673036
        }
      }
    },
    {
      "cell_type": "markdown",
      "source": [
        "### List remote AML compute targets available"
      ],
      "metadata": {}
    },
    {
      "cell_type": "code",
      "source": [
        "from azureml.core.compute import AmlCompute\n",
        "from azureml.core.compute import ComputeTarget\n",
        "\n",
        "ComputeTarget.list(ws)"
      ],
      "outputs": [
        {
          "output_type": "execute_result",
          "execution_count": 9,
          "data": {
            "text/plain": "[{\n   \"id\": \"/subscriptions/2c4a7b68-f24b-4160-8590-5bde3308718d/resourceGroups/izabela_auto/providers/Microsoft.MachineLearningServices/workspaces/izabela_auto/computes/cpu-instances0\",\n   \"name\": \"cpu-instances0\",\n   \"location\": \"northeurope\",\n   \"tags\": null,\n   \"properties\": {\n     \"description\": null,\n     \"computeType\": \"ComputeInstance\",\n     \"computeLocation\": \"northeurope\",\n     \"resourceId\": null,\n     \"provisioningErrors\": null,\n     \"provisioningState\": \"Succeeded\",\n     \"properties\": {\n       \"vmSize\": \"STANDARD_DS2_V2\",\n       \"applications\": [\n         {\n           \"displayName\": \"Jupyter\",\n           \"endpointUri\": \"https://cpu-instances0.northeurope.instances.azureml.ms\"\n         },\n         {\n           \"displayName\": \"Jupyter Lab\",\n           \"endpointUri\": \"https://cpu-instances0.northeurope.instances.azureml.ms/lab\"\n         },\n         {\n           \"displayName\": \"RStudio\",\n           \"endpointUri\": \"https://cpu-instances0-8787.northeurope.instances.azureml.ms\"\n         }\n       ],\n       \"connectivityEndpoints\": {\n         \"publicIpAddress\": \"52.142.91.20\",\n         \"privateIpAddress\": \"10.0.0.4\"\n       },\n       \"sshSettings\": {\n         \"sshPublicAccess\": \"Disabled\",\n         \"adminUserName\": \"azureuser\",\n         \"adminPublicKey\": null,\n         \"sshPort\": 4000\n       },\n       \"personalComputeInstanceSettings\": null,\n       \"subnet\": {\n         \"id\": null\n       },\n       \"errors\": []\n     },\n     \"status\": {\n       \"errors\": [],\n       \"creationTime\": \"2021-01-26T12:21:08.607592+00:00\",\n       \"createdBy\": {\n         \"userObjectId\": \"590e76ae-3aa1-4c53-99c6-f4379b8c5721\",\n         \"userTenantId\": \"3b50229c-cd78-4588-9bcf-97b7629e2f0f\",\n         \"userName\": null\n       },\n       \"modifiedTime\": \"2021-01-26T12:23:40.174798+00:00\",\n       \"state\": \"Running\",\n       \"vmSize\": \"STANDARD_DS2_V2\"\n     }\n   }\n },\n AmlCompute(workspace=Workspace.create(name='izabela_auto', subscription_id='2c4a7b68-f24b-4160-8590-5bde3308718d', resource_group='izabela_auto'), name=cpu-cluster0, id=/subscriptions/2c4a7b68-f24b-4160-8590-5bde3308718d/resourceGroups/izabela_auto/providers/Microsoft.MachineLearningServices/workspaces/izabela_auto/computes/cpu-cluster0, type=AmlCompute, provisioning_state=Succeeded, location=northeurope, tags=None)]"
          },
          "metadata": {}
        }
      ],
      "execution_count": 9,
      "metadata": {
        "gather": {
          "logged": 1611668679439
        }
      }
    },
    {
      "cell_type": "markdown",
      "source": [
        "### Connect to Remote AML Compute"
      ],
      "metadata": {}
    },
    {
      "cell_type": "code",
      "source": [
        "amlcompute_cluster_name = \"cpu-cluster0\"\n",
        "\n",
        "found = False\n",
        "# Check if this compute target already exists in the workspace.\n",
        "cts = ws.compute_targets\n",
        "\n",
        "if amlcompute_cluster_name in cts and cts[amlcompute_cluster_name].type == 'AmlCompute':\n",
        "     found = True\n",
        "     print('Found existing training cluster.')\n",
        "     # Get existing cluster\n",
        "     aml_remote_compute = cts[amlcompute_cluster_name]\n",
        "        \n",
        "print('Checking cluster status...')\n",
        "aml_remote_compute.wait_for_completion(show_output = True, min_node_count = 0, timeout_in_minutes = 20)"
      ],
      "outputs": [
        {
          "output_type": "stream",
          "name": "stdout",
          "text": [
            "Found existing training cluster.\n",
            "Checking cluster status...\n",
            "Succeeded\n",
            "AmlCompute wait for completion finished\n",
            "\n",
            "Minimum number of nodes requested have been provisioned\n"
          ]
        }
      ],
      "execution_count": 10,
      "metadata": {
        "gather": {
          "logged": 1611668687055
        }
      }
    },
    {
      "cell_type": "code",
      "source": [
        "aml_remote_compute.get_status().serialize()"
      ],
      "outputs": [
        {
          "output_type": "execute_result",
          "execution_count": 11,
          "data": {
            "text/plain": "{'currentNodeCount': 2,\n 'targetNodeCount': 2,\n 'nodeStateCounts': {'preparingNodeCount': 0,\n  'runningNodeCount': 2,\n  'idleNodeCount': 0,\n  'unusableNodeCount': 0,\n  'leavingNodeCount': 0,\n  'preemptedNodeCount': 0},\n 'allocationState': 'Steady',\n 'allocationStateTransitionTime': '2021-01-26T13:39:21.102000+00:00',\n 'errors': None,\n 'creationTime': '2021-01-26T12:24:20.264230+00:00',\n 'modifiedTime': '2021-01-26T12:24:36.067547+00:00',\n 'provisioningState': 'Succeeded',\n 'provisioningStateTransitionTime': None,\n 'scaleSettings': {'minNodeCount': 0,\n  'maxNodeCount': 2,\n  'nodeIdleTimeBeforeScaleDown': 'PT120S'},\n 'vmPriority': 'Dedicated',\n 'vmSize': 'STANDARD_DS2_V2'}"
          },
          "metadata": {}
        }
      ],
      "execution_count": 11,
      "metadata": {
        "gather": {
          "logged": 1611668697304
        }
      }
    },
    {
      "cell_type": "markdown",
      "source": [
        "### List and select primary metric to drive the AutoML regression problem"
      ],
      "metadata": {}
    },
    {
      "cell_type": "code",
      "source": [
        "from azureml.train import automl\n",
        "# Get a list of valid metrics for your given task\n",
        "automl.utilities.get_primary_metrics('regression')"
      ],
      "outputs": [
        {
          "output_type": "execute_result",
          "execution_count": 12,
          "data": {
            "text/plain": "['normalized_mean_absolute_error',\n 'normalized_root_mean_squared_error',\n 'r2_score',\n 'spearman_correlation']"
          },
          "metadata": {}
        }
      ],
      "execution_count": 12,
      "metadata": {
        "gather": {
          "logged": 1611668709434
        }
      }
    },
    {
      "cell_type": "markdown",
      "source": [
        "### Define AutoML Experiment settings"
      ],
      "metadata": {}
    },
    {
      "cell_type": "code",
      "source": [
        "import logging\n",
        "import os\n",
        "\n",
        "from azureml.train.automl import AutoMLConfig\n",
        "\n",
        "project_folder = './automl'\n",
        "os.makedirs(project_folder, exist_ok=True)\n",
        "\n",
        "automl_config = AutoMLConfig(compute_target=aml_remote_compute,\n",
        "                             task='regression',\n",
        "                             primary_metric='r2_score',\n",
        "                             experiment_timeout_minutes=30,                            \n",
        "                             training_data=train_dataset,\n",
        "                             label_column_name=\"Survived\",\n",
        "                             n_cross_validations=5,                                                   \n",
        "                             enable_early_stopping=True,\n",
        "                             featurization='auto',\n",
        "                             debug_log='automated_ml_errors.log',\n",
        "                             verbosity=logging.INFO,\n",
        "                             path=project_folder\n",
        "                             )"
      ],
      "outputs": [],
      "execution_count": 13,
      "metadata": {
        "gather": {
          "logged": 1611668716880
        }
      }
    },
    {
      "cell_type": "markdown",
      "source": [
        "### Define AutoML Experiment settings"
      ],
      "metadata": {}
    },
    {
      "cell_type": "code",
      "source": [
        "from azureml.core import Experiment\n",
        "from datetime import datetime\n",
        "\n",
        "now = datetime.now()\n",
        "time_string = now.strftime(\"%m-%d-%Y-%H\")\n",
        "experiment_name = \"reg-iizi-k-automl-remote-{0}\".format(time_string)\n",
        "print(experiment_name)\n",
        "\n",
        "experiment = Experiment(workspace=ws, name=experiment_name)\n",
        "\n",
        "import time\n",
        "start_time = time.time()\n",
        "            \n",
        "run = experiment.submit(automl_config, show_output=True)\n",
        "\n",
        "print('Manual run timing: --- %s seconds needed for running the whole Remote AutoML Experiment ---' % (time.time() - start_time))"
      ],
      "outputs": [
        {
          "output_type": "stream",
          "name": "stdout",
          "text": [
            "reg-iizi-k-automl-remote-01-26-2021-13\n",
            "Running on remote.\n",
            "No run_configuration provided, running on cpu-cluster0 with default configuration\n",
            "Running on remote compute: cpu-cluster0\n",
            "Parent Run ID: AutoML_9eb81b9a-e813-4c30-9bcb-f10492671c4d\n",
            "\n",
            "Current status: FeaturesGeneration. Generating features for the dataset.\n",
            "Current status: DatasetCrossValidationSplit. Generating individually featurized CV splits.\n",
            "Current status: ModelSelection. Beginning model selection.\n",
            "\n",
            "****************************************************************************************************\n",
            "DATA GUARDRAILS: \n",
            "\n",
            "TYPE:         Missing feature values imputation\n",
            "STATUS:       DONE\n",
            "DESCRIPTION:  If the missing values are expected, let the run complete. Otherwise cancel the current run and use a script to customize the handling of missing feature values that may be more appropriate based on the data type and business requirement.\n",
            "              Learn more about missing value imputation: https://aka.ms/AutomatedMLFeaturization\n",
            "DETAILS:      \n",
            "+---------------------------------+---------------------------------+---------------------------------+\n",
            "|Column name                      |Missing value count              |Imputation type                  |\n",
            "+=================================+=================================+=================================+\n",
            "|Age                              |161                              |mean                             |\n",
            "|Embarked                         |2                                |                                 |\n",
            "+---------------------------------+---------------------------------+---------------------------------+\n",
            "\n",
            "****************************************************************************************************\n",
            "\n",
            "TYPE:         High cardinality feature detection\n",
            "STATUS:       DONE\n",
            "DESCRIPTION:  High cardinality features were detected in your inputs and handled.\n",
            "              Learn more about high cardinality feature handling: https://aka.ms/AutomatedMLFeaturization\n",
            "DETAILS:      High cardinality features refer to columns that contain a large percentage of unique values.\n",
            "+---------------------------------+---------------------------------+\n",
            "|Column name                      |Column Content Type              |\n",
            "+=================================+=================================+\n",
            "|Name                             |text                             |\n",
            "+---------------------------------+---------------------------------+\n",
            "\n",
            "****************************************************************************************************\n",
            "\n",
            "****************************************************************************************************\n",
            "ITERATION: The iteration being evaluated.\n",
            "PIPELINE: A summary description of the pipeline being evaluated.\n",
            "DURATION: Time taken for the current iteration.\n",
            "METRIC: The result of computing score on the fitted pipeline.\n",
            "BEST: The best observed score thus far.\n",
            "****************************************************************************************************\n",
            "\n",
            " ITERATION   PIPELINE                                       DURATION      METRIC      BEST\n",
            "         0   MaxAbsScaler LightGBM                          0:00:49       0.4031    0.4031\n",
            "         1   MaxAbsScaler XGBoostRegressor                  0:00:56       0.3959    0.4031\n",
            "         2   SparseNormalizer XGBoostRegressor              0:01:10       0.3818    0.4031\n",
            "         3   MaxAbsScaler RandomForest                      0:01:16       0.4470    0.4470\n",
            "         4   StandardScalerWrapper XGBoostRegressor         0:01:31       0.2775    0.4470\n",
            "         5   MaxAbsScaler ElasticNet                        0:00:42       0.3297    0.4470\n",
            "         6   MaxAbsScaler RandomForest                      0:01:19       0.4576    0.4576\n",
            "         7   StandardScalerWrapper XGBoostRegressor         0:01:01       0.3915    0.4576\n",
            "         8   MaxAbsScaler ExtremeRandomTrees                0:01:10       0.3772    0.4576\n",
            "         9   StandardScalerWrapper ElasticNet               0:00:51       0.3256    0.4576\n",
            "        10   MaxAbsScaler RandomForest                      0:00:53       0.3934    0.4576\n",
            "        11   MaxAbsScaler RandomForest                      0:00:40       0.3606    0.4576\n",
            "        12   StandardScalerWrapper XGBoostRegressor         0:00:48       0.4252    0.4576\n",
            "        13   MaxAbsScaler ExtremeRandomTrees                0:00:48       0.3669    0.4576\n",
            "        14   MaxAbsScaler ExtremeRandomTrees                0:00:39       0.4092    0.4576\n",
            "        15   MaxAbsScaler ExtremeRandomTrees                0:01:02       0.4208    0.4576\n",
            "        16   MaxAbsScaler ElasticNet                        0:00:55       0.2956    0.4576\n",
            "        17   MaxAbsScaler RandomForest                      0:00:39       0.4226    0.4576\n",
            "        18   MaxAbsScaler RandomForest                      0:00:48       0.3994    0.4576\n",
            "        19   SparseNormalizer XGBoostRegressor              0:01:14       0.3760    0.4576\n",
            "        20   StandardScalerWrapper RandomForest             0:00:48       0.4097    0.4576\n",
            "        21   MaxAbsScaler ElasticNet                        0:00:57       0.3125    0.4576\n",
            "        22   MaxAbsScaler GradientBoosting                  0:01:03       0.3504    0.4576\n",
            "        23    VotingEnsemble                                0:01:13       0.4752    0.4752\n",
            "        24    StackEnsemble                                 0:01:10       0.4663    0.4752\n",
            "Manual run timing: --- 2237.8131699562073 seconds needed for running the whole Remote AutoML Experiment ---\n"
          ]
        }
      ],
      "execution_count": 14,
      "metadata": {
        "gather": {
          "logged": 1611671003516
        }
      }
    },
    {
      "cell_type": "markdown",
      "source": [
        "### Explore results with Widget"
      ],
      "metadata": {}
    },
    {
      "cell_type": "code",
      "source": [
        "from azureml.widgets import RunDetails\n",
        "RunDetails(run).show()"
      ],
      "outputs": [
        {
          "output_type": "display_data",
          "data": {
            "text/plain": "_AutoMLWidget(widget_settings={'childWidgetDisplay': 'popup', 'send_telemetry': False, 'log_level': 'INFO', 's…",
            "application/vnd.jupyter.widget-view+json": {
              "version_major": 2,
              "version_minor": 0,
              "model_id": "c5bf6cda29344bd4a5c2689bf1f0239d"
            }
          },
          "metadata": {}
        },
        {
          "output_type": "display_data",
          "data": {
            "application/aml.mini.widget.v1": "{\"status\": \"Completed\", \"workbench_run_details_uri\": \"https://ml.azure.com/experiments/reg-iizi-k-automl-remote-01-26-2021-13/runs/AutoML_9eb81b9a-e813-4c30-9bcb-f10492671c4d?wsid=/subscriptions/2c4a7b68-f24b-4160-8590-5bde3308718d/resourcegroups/izabela_auto/workspaces/izabela_auto\", \"run_id\": \"AutoML_9eb81b9a-e813-4c30-9bcb-f10492671c4d\", \"run_properties\": {\"run_id\": \"AutoML_9eb81b9a-e813-4c30-9bcb-f10492671c4d\", \"created_utc\": \"2021-01-26T13:46:09.440575Z\", \"properties\": {\"num_iterations\": \"1000\", \"training_type\": \"TrainFull\", \"acquisition_function\": \"EI\", \"primary_metric\": \"r2_score\", \"train_split\": \"0\", \"acquisition_parameter\": \"0\", \"num_cross_validation\": \"5\", \"target\": \"cpu-cluster0\", \"AMLSettingsJsonString\": \"{\\\"path\\\":null,\\\"name\\\":\\\"reg-iizi-k-automl-remote-01-26-2021-13\\\",\\\"subscription_id\\\":\\\"2c4a7b68-f24b-4160-8590-5bde3308718d\\\",\\\"resource_group\\\":\\\"izabela_auto\\\",\\\"workspace_name\\\":\\\"izabela_auto\\\",\\\"region\\\":\\\"northeurope\\\",\\\"compute_target\\\":\\\"cpu-cluster0\\\",\\\"spark_service\\\":null,\\\"azure_service\\\":\\\"remote\\\",\\\"many_models\\\":false,\\\"pipeline_fetch_max_batch_size\\\":1,\\\"iterations\\\":1000,\\\"primary_metric\\\":\\\"r2_score\\\",\\\"task_type\\\":\\\"regression\\\",\\\"data_script\\\":null,\\\"validation_size\\\":0.0,\\\"n_cross_validations\\\":5,\\\"y_min\\\":null,\\\"y_max\\\":null,\\\"num_classes\\\":null,\\\"featurization\\\":\\\"auto\\\",\\\"_ignore_package_version_incompatibilities\\\":false,\\\"is_timeseries\\\":false,\\\"max_cores_per_iteration\\\":1,\\\"max_concurrent_iterations\\\":1,\\\"iteration_timeout_minutes\\\":null,\\\"mem_in_mb\\\":null,\\\"enforce_time_on_windows\\\":false,\\\"experiment_timeout_minutes\\\":30,\\\"experiment_exit_score\\\":null,\\\"whitelist_models\\\":null,\\\"blacklist_algos\\\":[\\\"TensorFlowDNN\\\",\\\"TensorFlowLinearRegressor\\\"],\\\"supported_models\\\":[\\\"DecisionTree\\\",\\\"LassoLars\\\",\\\"FastLinearRegressor\\\",\\\"GradientBoosting\\\",\\\"TensorFlowLinearRegressor\\\",\\\"RandomForest\\\",\\\"ExtremeRandomTrees\\\",\\\"LightGBM\\\",\\\"XGBoostRegressor\\\",\\\"SGD\\\",\\\"TensorFlowDNN\\\",\\\"KNN\\\",\\\"ElasticNet\\\",\\\"OnlineGradientDescentRegressor\\\"],\\\"auto_blacklist\\\":true,\\\"blacklist_samples_reached\\\":false,\\\"exclude_nan_labels\\\":true,\\\"verbosity\\\":20,\\\"_debug_log\\\":\\\"azureml_automl.log\\\",\\\"show_warnings\\\":false,\\\"model_explainability\\\":true,\\\"service_url\\\":null,\\\"sdk_url\\\":null,\\\"sdk_packages\\\":null,\\\"enable_onnx_compatible_models\\\":false,\\\"enable_split_onnx_featurizer_estimator_models\\\":false,\\\"vm_type\\\":\\\"STANDARD_DS2_V2\\\",\\\"telemetry_verbosity\\\":20,\\\"send_telemetry\\\":true,\\\"enable_dnn\\\":false,\\\"scenario\\\":\\\"SDK-1.13.0\\\",\\\"environment_label\\\":null,\\\"force_text_dnn\\\":false,\\\"enable_feature_sweeping\\\":true,\\\"enable_early_stopping\\\":true,\\\"early_stopping_n_iters\\\":10,\\\"metrics\\\":null,\\\"enable_ensembling\\\":true,\\\"enable_stack_ensembling\\\":true,\\\"ensemble_iterations\\\":15,\\\"enable_tf\\\":false,\\\"enable_subsampling\\\":null,\\\"subsample_seed\\\":null,\\\"enable_nimbusml\\\":false,\\\"enable_streaming\\\":false,\\\"force_streaming\\\":false,\\\"track_child_runs\\\":true,\\\"allowed_private_models\\\":[],\\\"label_column_name\\\":\\\"Survived\\\",\\\"weight_column_name\\\":null,\\\"cv_split_column_names\\\":null,\\\"enable_local_managed\\\":false,\\\"_local_managed_run_id\\\":null,\\\"cost_mode\\\":1,\\\"lag_length\\\":0,\\\"metric_operation\\\":\\\"maximize\\\",\\\"preprocess\\\":true}\", \"DataPrepJsonString\": \"{\\\\\\\"training_data\\\\\\\": \\\\\\\"{\\\\\\\\\\\\\\\"blocks\\\\\\\\\\\\\\\": [{\\\\\\\\\\\\\\\"id\\\\\\\\\\\\\\\": \\\\\\\\\\\\\\\"3bc6887b-bc2c-431a-81d8-94f30086c14c\\\\\\\\\\\\\\\", \\\\\\\\\\\\\\\"type\\\\\\\\\\\\\\\": \\\\\\\\\\\\\\\"Microsoft.DPrep.GetFilesBlock\\\\\\\\\\\\\\\", \\\\\\\\\\\\\\\"arguments\\\\\\\\\\\\\\\": {\\\\\\\\\\\\\\\"isArchive\\\\\\\\\\\\\\\": false, \\\\\\\\\\\\\\\"path\\\\\\\\\\\\\\\": {\\\\\\\\\\\\\\\"target\\\\\\\\\\\\\\\": 4, \\\\\\\\\\\\\\\"resourceDetails\\\\\\\\\\\\\\\": [{\\\\\\\\\\\\\\\"path\\\\\\\\\\\\\\\": \\\\\\\\\\\\\\\"https://gist.githubusercontent.com/michhar/2dfd2de0d4f8727f873422c5d959fff5/raw/fa71405126017e6a37bea592440b4bee94bf7b9e/titanic.csv\\\\\\\\\\\\\\\"}]}}, \\\\\\\\\\\\\\\"localData\\\\\\\\\\\\\\\": {}, \\\\\\\\\\\\\\\"isEnabled\\\\\\\\\\\\\\\": true, \\\\\\\\\\\\\\\"name\\\\\\\\\\\\\\\": null, \\\\\\\\\\\\\\\"annotation\\\\\\\\\\\\\\\": null}, {\\\\\\\\\\\\\\\"id\\\\\\\\\\\\\\\": \\\\\\\\\\\\\\\"4f954c80-961f-4af8-a662-795b76825437\\\\\\\\\\\\\\\", \\\\\\\\\\\\\\\"type\\\\\\\\\\\\\\\": \\\\\\\\\\\\\\\"Microsoft.DPrep.ParseDelimitedBlock\\\\\\\\\\\\\\\", \\\\\\\\\\\\\\\"arguments\\\\\\\\\\\\\\\": {\\\\\\\\\\\\\\\"columnHeadersMode\\\\\\\\\\\\\\\": 1, \\\\\\\\\\\\\\\"fileEncoding\\\\\\\\\\\\\\\": 0, \\\\\\\\\\\\\\\"handleQuotedLineBreaks\\\\\\\\\\\\\\\": false, \\\\\\\\\\\\\\\"preview\\\\\\\\\\\\\\\": false, \\\\\\\\\\\\\\\"separator\\\\\\\\\\\\\\\": \\\\\\\\\\\\\\\",\\\\\\\\\\\\\\\", \\\\\\\\\\\\\\\"skipRows\\\\\\\\\\\\\\\": 0, \\\\\\\\\\\\\\\"skipRowsMode\\\\\\\\\\\\\\\": 0}, \\\\\\\\\\\\\\\"localData\\\\\\\\\\\\\\\": {}, \\\\\\\\\\\\\\\"isEnabled\\\\\\\\\\\\\\\": true, \\\\\\\\\\\\\\\"name\\\\\\\\\\\\\\\": null, \\\\\\\\\\\\\\\"annotation\\\\\\\\\\\\\\\": null}, {\\\\\\\\\\\\\\\"id\\\\\\\\\\\\\\\": \\\\\\\\\\\\\\\"6fa65329-ca1e-4042-9c1c-2d6fa6585a36\\\\\\\\\\\\\\\", \\\\\\\\\\\\\\\"type\\\\\\\\\\\\\\\": \\\\\\\\\\\\\\\"Microsoft.DPrep.DropColumnsBlock\\\\\\\\\\\\\\\", \\\\\\\\\\\\\\\"arguments\\\\\\\\\\\\\\\": {\\\\\\\\\\\\\\\"columns\\\\\\\\\\\\\\\": {\\\\\\\\\\\\\\\"type\\\\\\\\\\\\\\\": 0, \\\\\\\\\\\\\\\"details\\\\\\\\\\\\\\\": {\\\\\\\\\\\\\\\"selectedColumns\\\\\\\\\\\\\\\": [\\\\\\\\\\\\\\\"Path\\\\\\\\\\\\\\\"]}}}, \\\\\\\\\\\\\\\"localData\\\\\\\\\\\\\\\": {}, \\\\\\\\\\\\\\\"isEnabled\\\\\\\\\\\\\\\": true, \\\\\\\\\\\\\\\"name\\\\\\\\\\\\\\\": null, \\\\\\\\\\\\\\\"annotation\\\\\\\\\\\\\\\": null}, {\\\\\\\\\\\\\\\"id\\\\\\\\\\\\\\\": \\\\\\\\\\\\\\\"2f020d12-6207-45ef-902f-8296881162cd\\\\\\\\\\\\\\\", \\\\\\\\\\\\\\\"type\\\\\\\\\\\\\\\": \\\\\\\\\\\\\\\"Microsoft.DPrep.SetColumnTypesBlock\\\\\\\\\\\\\\\", \\\\\\\\\\\\\\\"arguments\\\\\\\\\\\\\\\": {\\\\\\\\\\\\\\\"columnConversion\\\\\\\\\\\\\\\": [{\\\\\\\\\\\\\\\"column\\\\\\\\\\\\\\\": {\\\\\\\\\\\\\\\"type\\\\\\\\\\\\\\\": 2, \\\\\\\\\\\\\\\"details\\\\\\\\\\\\\\\": {\\\\\\\\\\\\\\\"selectedColumn\\\\\\\\\\\\\\\": \\\\\\\\\\\\\\\"Path\\\\\\\\\\\\\\\"}}, \\\\\\\\\\\\\\\"typeProperty\\\\\\\\\\\\\\\": 0}, {\\\\\\\\\\\\\\\"column\\\\\\\\\\\\\\\": {\\\\\\\\\\\\\\\"type\\\\\\\\\\\\\\\": 2, \\\\\\\\\\\\\\\"details\\\\\\\\\\\\\\\": {\\\\\\\\\\\\\\\"selectedColumn\\\\\\\\\\\\\\\": \\\\\\\\\\\\\\\"PassengerId\\\\\\\\\\\\\\\"}}, \\\\\\\\\\\\\\\"typeProperty\\\\\\\\\\\\\\\": 2}, {\\\\\\\\\\\\\\\"column\\\\\\\\\\\\\\\": {\\\\\\\\\\\\\\\"type\\\\\\\\\\\\\\\": 2, \\\\\\\\\\\\\\\"details\\\\\\\\\\\\\\\": {\\\\\\\\\\\\\\\"selectedColumn\\\\\\\\\\\\\\\": \\\\\\\\\\\\\\\"Survived\\\\\\\\\\\\\\\"}}, \\\\\\\\\\\\\\\"typeProperty\\\\\\\\\\\\\\\": 2}, {\\\\\\\\\\\\\\\"column\\\\\\\\\\\\\\\": {\\\\\\\\\\\\\\\"type\\\\\\\\\\\\\\\": 2, \\\\\\\\\\\\\\\"details\\\\\\\\\\\\\\\": {\\\\\\\\\\\\\\\"selectedColumn\\\\\\\\\\\\\\\": \\\\\\\\\\\\\\\"Pclass\\\\\\\\\\\\\\\"}}, \\\\\\\\\\\\\\\"typeProperty\\\\\\\\\\\\\\\": 2}, {\\\\\\\\\\\\\\\"column\\\\\\\\\\\\\\\": {\\\\\\\\\\\\\\\"type\\\\\\\\\\\\\\\": 2, \\\\\\\\\\\\\\\"details\\\\\\\\\\\\\\\": {\\\\\\\\\\\\\\\"selectedColumn\\\\\\\\\\\\\\\": \\\\\\\\\\\\\\\"Name\\\\\\\\\\\\\\\"}}, \\\\\\\\\\\\\\\"typeProperty\\\\\\\\\\\\\\\": 0}, {\\\\\\\\\\\\\\\"column\\\\\\\\\\\\\\\": {\\\\\\\\\\\\\\\"type\\\\\\\\\\\\\\\": 2, \\\\\\\\\\\\\\\"details\\\\\\\\\\\\\\\": {\\\\\\\\\\\\\\\"selectedColumn\\\\\\\\\\\\\\\": \\\\\\\\\\\\\\\"Sex\\\\\\\\\\\\\\\"}}, \\\\\\\\\\\\\\\"typeProperty\\\\\\\\\\\\\\\": 0}, {\\\\\\\\\\\\\\\"column\\\\\\\\\\\\\\\": {\\\\\\\\\\\\\\\"type\\\\\\\\\\\\\\\": 2, \\\\\\\\\\\\\\\"details\\\\\\\\\\\\\\\": {\\\\\\\\\\\\\\\"selectedColumn\\\\\\\\\\\\\\\": \\\\\\\\\\\\\\\"Age\\\\\\\\\\\\\\\"}}, \\\\\\\\\\\\\\\"typeProperty\\\\\\\\\\\\\\\": 3}, {\\\\\\\\\\\\\\\"column\\\\\\\\\\\\\\\": {\\\\\\\\\\\\\\\"type\\\\\\\\\\\\\\\": 2, \\\\\\\\\\\\\\\"details\\\\\\\\\\\\\\\": {\\\\\\\\\\\\\\\"selectedColumn\\\\\\\\\\\\\\\": \\\\\\\\\\\\\\\"SibSp\\\\\\\\\\\\\\\"}}, \\\\\\\\\\\\\\\"typeProperty\\\\\\\\\\\\\\\": 2}, {\\\\\\\\\\\\\\\"column\\\\\\\\\\\\\\\": {\\\\\\\\\\\\\\\"type\\\\\\\\\\\\\\\": 2, \\\\\\\\\\\\\\\"details\\\\\\\\\\\\\\\": {\\\\\\\\\\\\\\\"selectedColumn\\\\\\\\\\\\\\\": \\\\\\\\\\\\\\\"Parch\\\\\\\\\\\\\\\"}}, \\\\\\\\\\\\\\\"typeProperty\\\\\\\\\\\\\\\": 2}, {\\\\\\\\\\\\\\\"column\\\\\\\\\\\\\\\": {\\\\\\\\\\\\\\\"type\\\\\\\\\\\\\\\": 2, \\\\\\\\\\\\\\\"details\\\\\\\\\\\\\\\": {\\\\\\\\\\\\\\\"selectedColumn\\\\\\\\\\\\\\\": \\\\\\\\\\\\\\\"Ticket\\\\\\\\\\\\\\\"}}, \\\\\\\\\\\\\\\"typeProperty\\\\\\\\\\\\\\\": 0}, {\\\\\\\\\\\\\\\"column\\\\\\\\\\\\\\\": {\\\\\\\\\\\\\\\"type\\\\\\\\\\\\\\\": 2, \\\\\\\\\\\\\\\"details\\\\\\\\\\\\\\\": {\\\\\\\\\\\\\\\"selectedColumn\\\\\\\\\\\\\\\": \\\\\\\\\\\\\\\"Fare\\\\\\\\\\\\\\\"}}, \\\\\\\\\\\\\\\"typeProperty\\\\\\\\\\\\\\\": 3}, {\\\\\\\\\\\\\\\"column\\\\\\\\\\\\\\\": {\\\\\\\\\\\\\\\"type\\\\\\\\\\\\\\\": 2, \\\\\\\\\\\\\\\"details\\\\\\\\\\\\\\\": {\\\\\\\\\\\\\\\"selectedColumn\\\\\\\\\\\\\\\": \\\\\\\\\\\\\\\"Cabin\\\\\\\\\\\\\\\"}}, \\\\\\\\\\\\\\\"typeProperty\\\\\\\\\\\\\\\": 0}, {\\\\\\\\\\\\\\\"column\\\\\\\\\\\\\\\": {\\\\\\\\\\\\\\\"type\\\\\\\\\\\\\\\": 2, \\\\\\\\\\\\\\\"details\\\\\\\\\\\\\\\": {\\\\\\\\\\\\\\\"selectedColumn\\\\\\\\\\\\\\\": \\\\\\\\\\\\\\\"Embarked\\\\\\\\\\\\\\\"}}, \\\\\\\\\\\\\\\"typeProperty\\\\\\\\\\\\\\\": 0}]}, \\\\\\\\\\\\\\\"localData\\\\\\\\\\\\\\\": {}, \\\\\\\\\\\\\\\"isEnabled\\\\\\\\\\\\\\\": true, \\\\\\\\\\\\\\\"name\\\\\\\\\\\\\\\": null, \\\\\\\\\\\\\\\"annotation\\\\\\\\\\\\\\\": null}, {\\\\\\\\\\\\\\\"id\\\\\\\\\\\\\\\": \\\\\\\\\\\\\\\"8e843e37-292d-42ab-966e-3c07b2d1b8be\\\\\\\\\\\\\\\", \\\\\\\\\\\\\\\"type\\\\\\\\\\\\\\\": \\\\\\\\\\\\\\\"Microsoft.DPrep.TakeSampleBlock\\\\\\\\\\\\\\\", \\\\\\\\\\\\\\\"arguments\\\\\\\\\\\\\\\": {\\\\\\\\\\\\\\\"probability\\\\\\\\\\\\\\\": 0.9, \\\\\\\\\\\\\\\"probabilityLowerBound\\\\\\\\\\\\\\\": 0.0, \\\\\\\\\\\\\\\"seed\\\\\\\\\\\\\\\": 1}, \\\\\\\\\\\\\\\"localData\\\\\\\\\\\\\\\": {}, \\\\\\\\\\\\\\\"isEnabled\\\\\\\\\\\\\\\": true, \\\\\\\\\\\\\\\"name\\\\\\\\\\\\\\\": null, \\\\\\\\\\\\\\\"annotation\\\\\\\\\\\\\\\": null}], \\\\\\\\\\\\\\\"inspectors\\\\\\\\\\\\\\\": [], \\\\\\\\\\\\\\\"meta\\\\\\\\\\\\\\\": {\\\\\\\\\\\\\\\"savedDatasetId\\\\\\\\\\\\\\\": \\\\\\\\\\\\\\\"753b573f-1bed-4a9e-95ff-40d0a6e3d774\\\\\\\\\\\\\\\", \\\\\\\\\\\\\\\"datasetType\\\\\\\\\\\\\\\": \\\\\\\\\\\\\\\"tabular\\\\\\\\\\\\\\\", \\\\\\\\\\\\\\\"subscriptionId\\\\\\\\\\\\\\\": \\\\\\\\\\\\\\\"2c4a7b68-f24b-4160-8590-5bde3308718d\\\\\\\\\\\\\\\", \\\\\\\\\\\\\\\"workspaceId\\\\\\\\\\\\\\\": \\\\\\\\\\\\\\\"2ea6156a-b170-4490-861f-c651c82667e6\\\\\\\\\\\\\\\", \\\\\\\\\\\\\\\"workspaceLocation\\\\\\\\\\\\\\\": \\\\\\\\\\\\\\\"northeurope\\\\\\\\\\\\\\\"}}\\\\\\\", \\\\\\\"activities\\\\\\\": 0}\", \"EnableSubsampling\": null, \"runTemplate\": \"AutoML\", \"azureml.runsource\": \"automl\", \"display_task_type\": \"regression\", \"dependencies_versions\": \"{\\\"azureml-widgets\\\": \\\"1.20.0\\\", \\\"azureml-train\\\": \\\"1.21.0\\\", \\\"azureml-train-restclients-hyperdrive\\\": \\\"1.21.0\\\", \\\"azureml-train-core\\\": \\\"1.21.0\\\", \\\"azureml-train-automl\\\": \\\"1.20.0\\\", \\\"azureml-train-automl-runtime\\\": \\\"1.20.0\\\", \\\"azureml-train-automl-client\\\": \\\"1.21.0\\\", \\\"azureml-tensorboard\\\": \\\"1.20.0\\\", \\\"azureml-telemetry\\\": \\\"1.21.0\\\", \\\"azureml-sdk\\\": \\\"1.21.0\\\", \\\"azureml-samples\\\": \\\"0+unknown\\\", \\\"azureml-pipeline\\\": \\\"1.21.0\\\", \\\"azureml-pipeline-steps\\\": \\\"1.21.0\\\", \\\"azureml-pipeline-core\\\": \\\"1.21.0\\\", \\\"azureml-opendatasets\\\": \\\"1.20.0\\\", \\\"azureml-model-management-sdk\\\": \\\"1.0.1b6.post1\\\", \\\"azureml-mlflow\\\": \\\"1.20.0.post1\\\", \\\"azureml-interpret\\\": \\\"1.20.0\\\", \\\"azureml-explain-model\\\": \\\"1.20.0\\\", \\\"azureml-defaults\\\": \\\"1.20.0\\\", \\\"azureml-dataset-runtime\\\": \\\"1.21.0\\\", \\\"azureml-dataprep\\\": \\\"2.8.2\\\", \\\"azureml-dataprep-rslex\\\": \\\"1.6.0\\\", \\\"azureml-dataprep-native\\\": \\\"28.0.0\\\", \\\"azureml-datadrift\\\": \\\"1.20.0\\\", \\\"azureml-core\\\": \\\"1.21.0.post1\\\", \\\"azureml-contrib-services\\\": \\\"1.20.0\\\", \\\"azureml-contrib-server\\\": \\\"1.20.0\\\", \\\"azureml-contrib-reinforcementlearning\\\": \\\"1.20.0\\\", \\\"azureml-contrib-pipeline-steps\\\": \\\"1.20.0\\\", \\\"azureml-contrib-notebook\\\": \\\"1.20.0\\\", \\\"azureml-contrib-interpret\\\": \\\"1.20.0\\\", \\\"azureml-contrib-gbdt\\\": \\\"1.20.0\\\", \\\"azureml-contrib-fairness\\\": \\\"1.20.0\\\", \\\"azureml-contrib-dataset\\\": \\\"1.20.0\\\", \\\"azureml-cli-common\\\": \\\"1.20.0\\\", \\\"azureml-automl-runtime\\\": \\\"1.20.0\\\", \\\"azureml-automl-core\\\": \\\"1.21.0\\\", \\\"azureml-accel-models\\\": \\\"1.20.0\\\"}\", \"_aml_system_scenario_identification\": \"Remote.Parent\", \"ClientType\": \"SDK\", \"environment_cpu_name\": \"AzureML-AutoML\", \"environment_cpu_label\": \"prod\", \"environment_gpu_name\": \"AzureML-AutoML-GPU\", \"environment_gpu_label\": \"prod\", \"root_attribution\": \"automl\", \"attribution\": \"AutoML\", \"Orchestrator\": \"AutoML\", \"CancelUri\": \"https://northeurope.experiments.azureml.net/jasmine/v1.0/subscriptions/2c4a7b68-f24b-4160-8590-5bde3308718d/resourceGroups/izabela_auto/providers/Microsoft.MachineLearningServices/workspaces/izabela_auto/experimentids/0499653f-6e6a-4dcf-9d1e-454eaea3c08a/cancel/AutoML_9eb81b9a-e813-4c30-9bcb-f10492671c4d\", \"ClientSdkVersion\": \"1.20.0.post1\", \"snapshotId\": \"00000000-0000-0000-0000-000000000000\", \"SetupRunId\": \"AutoML_9eb81b9a-e813-4c30-9bcb-f10492671c4d_setup\", \"SetupRunContainerId\": \"dcid.AutoML_9eb81b9a-e813-4c30-9bcb-f10492671c4d_setup\", \"FeaturizationRunJsonPath\": \"featurizer_container.json\", \"FeaturizationRunId\": \"AutoML_9eb81b9a-e813-4c30-9bcb-f10492671c4d_featurize\", \"ProblemInfoJsonString\": \"{\\\"dataset_num_categorical\\\": 0, \\\"is_sparse\\\": true, \\\"subsampling\\\": false, \\\"dataset_classes\\\": 2, \\\"dataset_features\\\": 6553, \\\"dataset_samples\\\": 796, \\\"single_frequency_class_detected\\\": false}\", \"ModelExplainRunId\": \"AutoML_9eb81b9a-e813-4c30-9bcb-f10492671c4d_ModelExplain\"}, \"tags\": {\"model_explain_run\": \"best_run\", \"_aml_system_azureml.automlComponent\": \"AutoML\", \"pipeline_id\": \"\", \"score\": \"\", \"predicted_cost\": \"\", \"fit_time\": \"\", \"training_percent\": \"\", \"iteration\": \"\", \"run_preprocessor\": \"\", \"run_algorithm\": \"\", \"automl_best_child_run_id\": \"AutoML_9eb81b9a-e813-4c30-9bcb-f10492671c4d_23\", \"model_explain_best_run_child_id\": \"AutoML_9eb81b9a-e813-4c30-9bcb-f10492671c4d_23\"}, \"end_time_utc\": \"2021-01-26T14:23:13.881763Z\", \"status\": \"Completed\", \"log_files\": {}, \"log_groups\": [], \"run_duration\": \"0:37:04\"}, \"child_runs\": [{\"run_id\": \"AutoML_9eb81b9a-e813-4c30-9bcb-f10492671c4d_0\", \"run_number\": 5, \"metric\": null, \"status\": \"Completed\", \"run_type\": \"azureml.scriptrun\", \"training_percent\": \"100\", \"start_time\": \"2021-01-26T13:50:35.552397Z\", \"end_time\": \"2021-01-26T13:51:24.072031Z\", \"created_time\": \"2021-01-26T13:50:14.334211Z\", \"created_time_dt\": \"2021-01-26T13:50:14.334211Z\", \"duration\": \"0:01:09\", \"iteration\": \"0\", \"goal\": \"r2_score_max\", \"run_name\": \"MaxAbsScaler, LightGBM\", \"run_properties\": \"copy=True\", \"primary_metric\": 0.40306825, \"best_metric\": 0.40306825}, {\"run_id\": \"AutoML_9eb81b9a-e813-4c30-9bcb-f10492671c4d_1\", \"run_number\": 6, \"metric\": null, \"status\": \"Completed\", \"run_type\": \"azureml.scriptrun\", \"training_percent\": \"100\", \"start_time\": \"2021-01-26T13:52:18.633389Z\", \"end_time\": \"2021-01-26T13:53:14.395171Z\", \"created_time\": \"2021-01-26T13:51:24.885428Z\", \"created_time_dt\": \"2021-01-26T13:51:24.885428Z\", \"duration\": \"0:01:49\", \"iteration\": \"1\", \"goal\": \"r2_score_max\", \"run_name\": \"MaxAbsScaler, XGBoostRegressor\", \"run_properties\": \"copy=True\", \"primary_metric\": 0.39590663, \"best_metric\": 0.40306825}, {\"run_id\": \"AutoML_9eb81b9a-e813-4c30-9bcb-f10492671c4d_2\", \"run_number\": 7, \"metric\": null, \"status\": \"Completed\", \"run_type\": \"azureml.scriptrun\", \"training_percent\": \"100\", \"start_time\": \"2021-01-26T13:54:07.643662Z\", \"end_time\": \"2021-01-26T13:55:17.441605Z\", \"created_time\": \"2021-01-26T13:53:16.008862Z\", \"created_time_dt\": \"2021-01-26T13:53:16.008862Z\", \"duration\": \"0:02:01\", \"iteration\": \"2\", \"goal\": \"r2_score_max\", \"run_name\": \"SparseNormalizer, XGBoostRegressor\", \"run_properties\": \"<azureml.automl.runtime.shared.model_wrappers.SparseNormalizer object at 0x7f0a88c3e198\", \"primary_metric\": 0.38177507, \"best_metric\": 0.40306825}, {\"run_id\": \"AutoML_9eb81b9a-e813-4c30-9bcb-f10492671c4d_3\", \"run_number\": 8, \"metric\": null, \"status\": \"Completed\", \"run_type\": \"azureml.scriptrun\", \"training_percent\": \"100\", \"start_time\": \"2021-01-26T13:55:44.918122Z\", \"end_time\": \"2021-01-26T13:57:01.324033Z\", \"created_time\": \"2021-01-26T13:55:19.875738Z\", \"created_time_dt\": \"2021-01-26T13:55:19.875738Z\", \"duration\": \"0:01:41\", \"iteration\": \"3\", \"goal\": \"r2_score_max\", \"run_name\": \"MaxAbsScaler, RandomForest\", \"run_properties\": \"copy=True\", \"primary_metric\": 0.44697775, \"best_metric\": 0.44697775}, {\"run_id\": \"AutoML_9eb81b9a-e813-4c30-9bcb-f10492671c4d_4\", \"run_number\": 9, \"metric\": null, \"status\": \"Completed\", \"run_type\": \"azureml.scriptrun\", \"training_percent\": \"100\", \"start_time\": \"2021-01-26T13:57:57.285946Z\", \"end_time\": \"2021-01-26T13:59:28.377243Z\", \"created_time\": \"2021-01-26T13:57:03.380963Z\", \"created_time_dt\": \"2021-01-26T13:57:03.380963Z\", \"duration\": \"0:02:24\", \"iteration\": \"4\", \"goal\": \"r2_score_max\", \"run_name\": \"StandardScalerWrapper, XGBoostRegressor\", \"run_properties\": \"<azureml.automl.runtime.shared.model_wrappers.StandardScalerWrapper object at 0x7f9b49a46da0\", \"primary_metric\": 0.27750983, \"best_metric\": 0.44697775}, {\"run_id\": \"AutoML_9eb81b9a-e813-4c30-9bcb-f10492671c4d_5\", \"run_number\": 10, \"metric\": null, \"status\": \"Completed\", \"run_type\": \"azureml.scriptrun\", \"training_percent\": \"100\", \"start_time\": \"2021-01-26T13:59:40.884472Z\", \"end_time\": \"2021-01-26T14:00:22.862157Z\", \"created_time\": \"2021-01-26T13:59:31.081506Z\", \"created_time_dt\": \"2021-01-26T13:59:31.081506Z\", \"duration\": \"0:00:51\", \"iteration\": \"5\", \"goal\": \"r2_score_max\", \"run_name\": \"MaxAbsScaler, ElasticNet\", \"run_properties\": \"copy=True\", \"primary_metric\": 0.3296883, \"best_metric\": 0.44697775}, {\"run_id\": \"AutoML_9eb81b9a-e813-4c30-9bcb-f10492671c4d_6\", \"run_number\": 11, \"metric\": null, \"status\": \"Completed\", \"run_type\": \"azureml.scriptrun\", \"training_percent\": \"100\", \"start_time\": \"2021-01-26T14:00:35.394702Z\", \"end_time\": \"2021-01-26T14:01:54.46209Z\", \"created_time\": \"2021-01-26T14:00:25.266291Z\", \"created_time_dt\": \"2021-01-26T14:00:25.266291Z\", \"duration\": \"0:01:29\", \"iteration\": \"6\", \"goal\": \"r2_score_max\", \"run_name\": \"MaxAbsScaler, RandomForest\", \"run_properties\": \"copy=True\", \"primary_metric\": 0.45763139, \"best_metric\": 0.45763139}, {\"run_id\": \"AutoML_9eb81b9a-e813-4c30-9bcb-f10492671c4d_7\", \"run_number\": 12, \"metric\": null, \"status\": \"Completed\", \"run_type\": \"azureml.scriptrun\", \"training_percent\": \"100\", \"start_time\": \"2021-01-26T14:02:07.661786Z\", \"end_time\": \"2021-01-26T14:03:08.664605Z\", \"created_time\": \"2021-01-26T14:01:57.056198Z\", \"created_time_dt\": \"2021-01-26T14:01:57.056198Z\", \"duration\": \"0:01:11\", \"iteration\": \"7\", \"goal\": \"r2_score_max\", \"run_name\": \"StandardScalerWrapper, XGBoostRegressor\", \"run_properties\": \"<azureml.automl.runtime.shared.model_wrappers.StandardScalerWrapper object at 0x7f49cadf3f98\", \"primary_metric\": 0.39150256, \"best_metric\": 0.45763139}, {\"run_id\": \"AutoML_9eb81b9a-e813-4c30-9bcb-f10492671c4d_8\", \"run_number\": 13, \"metric\": null, \"status\": \"Completed\", \"run_type\": \"azureml.scriptrun\", \"training_percent\": \"100\", \"start_time\": \"2021-01-26T14:03:22.977132Z\", \"end_time\": \"2021-01-26T14:04:32.736312Z\", \"created_time\": \"2021-01-26T14:03:11.40279Z\", \"created_time_dt\": \"2021-01-26T14:03:11.40279Z\", \"duration\": \"0:01:21\", \"iteration\": \"8\", \"goal\": \"r2_score_max\", \"run_name\": \"MaxAbsScaler, ExtremeRandomTrees\", \"run_properties\": \"copy=True\", \"primary_metric\": 0.37720311, \"best_metric\": 0.45763139}, {\"run_id\": \"AutoML_9eb81b9a-e813-4c30-9bcb-f10492671c4d_9\", \"run_number\": 14, \"metric\": null, \"status\": \"Completed\", \"run_type\": \"azureml.scriptrun\", \"training_percent\": \"100\", \"start_time\": \"2021-01-26T14:04:45.831684Z\", \"end_time\": \"2021-01-26T14:05:36.712937Z\", \"created_time\": \"2021-01-26T14:04:35.355517Z\", \"created_time_dt\": \"2021-01-26T14:04:35.355517Z\", \"duration\": \"0:01:01\", \"iteration\": \"9\", \"goal\": \"r2_score_max\", \"run_name\": \"StandardScalerWrapper, ElasticNet\", \"run_properties\": \"<azureml.automl.runtime.shared.model_wrappers.StandardScalerWrapper object at 0x7ff35d138208\", \"primary_metric\": 0.32561037, \"best_metric\": 0.45763139}, {\"run_id\": \"AutoML_9eb81b9a-e813-4c30-9bcb-f10492671c4d_10\", \"run_number\": 15, \"metric\": null, \"status\": \"Completed\", \"run_type\": \"azureml.scriptrun\", \"training_percent\": \"100\", \"start_time\": \"2021-01-26T14:05:48.693591Z\", \"end_time\": \"2021-01-26T14:06:41.891508Z\", \"created_time\": \"2021-01-26T14:05:39.147358Z\", \"created_time_dt\": \"2021-01-26T14:05:39.147358Z\", \"duration\": \"0:01:02\", \"iteration\": \"10\", \"goal\": \"r2_score_max\", \"run_name\": \"MaxAbsScaler, RandomForest\", \"run_properties\": \"copy=True\", \"primary_metric\": 0.39339393, \"best_metric\": 0.45763139}, {\"run_id\": \"AutoML_9eb81b9a-e813-4c30-9bcb-f10492671c4d_11\", \"run_number\": 16, \"metric\": null, \"status\": \"Completed\", \"run_type\": \"azureml.scriptrun\", \"training_percent\": \"100\", \"start_time\": \"2021-01-26T14:06:53.534327Z\", \"end_time\": \"2021-01-26T14:07:33.333705Z\", \"created_time\": \"2021-01-26T14:06:43.780094Z\", \"created_time_dt\": \"2021-01-26T14:06:43.780094Z\", \"duration\": \"0:00:49\", \"iteration\": \"11\", \"goal\": \"r2_score_max\", \"run_name\": \"MaxAbsScaler, RandomForest\", \"run_properties\": \"copy=True\", \"primary_metric\": 0.36061928, \"best_metric\": 0.45763139}, {\"run_id\": \"AutoML_9eb81b9a-e813-4c30-9bcb-f10492671c4d_12\", \"run_number\": 17, \"metric\": null, \"status\": \"Completed\", \"run_type\": \"azureml.scriptrun\", \"training_percent\": \"100\", \"start_time\": \"2021-01-26T14:07:45.981082Z\", \"end_time\": \"2021-01-26T14:08:34.075092Z\", \"created_time\": \"2021-01-26T14:07:35.433865Z\", \"created_time_dt\": \"2021-01-26T14:07:35.433865Z\", \"duration\": \"0:00:58\", \"iteration\": \"12\", \"goal\": \"r2_score_max\", \"run_name\": \"StandardScalerWrapper, XGBoostRegressor\", \"run_properties\": \"<azureml.automl.runtime.shared.model_wrappers.StandardScalerWrapper object at 0x7ff318512908\", \"primary_metric\": 0.42522523, \"best_metric\": 0.45763139}, {\"run_id\": \"AutoML_9eb81b9a-e813-4c30-9bcb-f10492671c4d_13\", \"run_number\": 18, \"metric\": null, \"status\": \"Completed\", \"run_type\": \"azureml.scriptrun\", \"training_percent\": \"100\", \"start_time\": \"2021-01-26T14:08:51.75283Z\", \"end_time\": \"2021-01-26T14:09:39.869733Z\", \"created_time\": \"2021-01-26T14:08:36.415697Z\", \"created_time_dt\": \"2021-01-26T14:08:36.415697Z\", \"duration\": \"0:01:03\", \"iteration\": \"13\", \"goal\": \"r2_score_max\", \"run_name\": \"MaxAbsScaler, ExtremeRandomTrees\", \"run_properties\": \"copy=True\", \"primary_metric\": 0.36694288, \"best_metric\": 0.45763139}, {\"run_id\": \"AutoML_9eb81b9a-e813-4c30-9bcb-f10492671c4d_14\", \"run_number\": 19, \"metric\": null, \"status\": \"Completed\", \"run_type\": \"azureml.scriptrun\", \"training_percent\": \"100\", \"start_time\": \"2021-01-26T14:09:52.250892Z\", \"end_time\": \"2021-01-26T14:10:31.468183Z\", \"created_time\": \"2021-01-26T14:09:42.202247Z\", \"created_time_dt\": \"2021-01-26T14:09:42.202247Z\", \"duration\": \"0:00:49\", \"iteration\": \"14\", \"goal\": \"r2_score_max\", \"run_name\": \"MaxAbsScaler, ExtremeRandomTrees\", \"run_properties\": \"copy=True\", \"primary_metric\": 0.40918933, \"best_metric\": 0.45763139}, {\"run_id\": \"AutoML_9eb81b9a-e813-4c30-9bcb-f10492671c4d_15\", \"run_number\": 20, \"metric\": null, \"status\": \"Completed\", \"run_type\": \"azureml.scriptrun\", \"training_percent\": \"100\", \"start_time\": \"2021-01-26T14:10:43.77375Z\", \"end_time\": \"2021-01-26T14:11:46.177318Z\", \"created_time\": \"2021-01-26T14:10:33.498767Z\", \"created_time_dt\": \"2021-01-26T14:10:33.498767Z\", \"duration\": \"0:01:12\", \"iteration\": \"15\", \"goal\": \"r2_score_max\", \"run_name\": \"MaxAbsScaler, ExtremeRandomTrees\", \"run_properties\": \"copy=True\", \"primary_metric\": 0.42083967, \"best_metric\": 0.45763139}, {\"run_id\": \"AutoML_9eb81b9a-e813-4c30-9bcb-f10492671c4d_16\", \"run_number\": 21, \"metric\": null, \"status\": \"Completed\", \"run_type\": \"azureml.scriptrun\", \"training_percent\": \"100\", \"start_time\": \"2021-01-26T14:11:58.554053Z\", \"end_time\": \"2021-01-26T14:12:53.082232Z\", \"created_time\": \"2021-01-26T14:11:48.163429Z\", \"created_time_dt\": \"2021-01-26T14:11:48.163429Z\", \"duration\": \"0:01:04\", \"iteration\": \"16\", \"goal\": \"r2_score_max\", \"run_name\": \"MaxAbsScaler, ElasticNet\", \"run_properties\": \"copy=True\", \"primary_metric\": 0.29558009, \"best_metric\": 0.45763139}, {\"run_id\": \"AutoML_9eb81b9a-e813-4c30-9bcb-f10492671c4d_17\", \"run_number\": 22, \"metric\": null, \"status\": \"Completed\", \"run_type\": \"azureml.scriptrun\", \"training_percent\": \"100\", \"start_time\": \"2021-01-26T14:13:07.932109Z\", \"end_time\": \"2021-01-26T14:13:47.31269Z\", \"created_time\": \"2021-01-26T14:12:55.905535Z\", \"created_time_dt\": \"2021-01-26T14:12:55.905535Z\", \"duration\": \"0:00:51\", \"iteration\": \"17\", \"goal\": \"r2_score_max\", \"run_name\": \"MaxAbsScaler, RandomForest\", \"run_properties\": \"copy=True\", \"primary_metric\": 0.42261209, \"best_metric\": 0.45763139}, {\"run_id\": \"AutoML_9eb81b9a-e813-4c30-9bcb-f10492671c4d_18\", \"run_number\": 23, \"metric\": null, \"status\": \"Completed\", \"run_type\": \"azureml.scriptrun\", \"training_percent\": \"100\", \"start_time\": \"2021-01-26T14:14:01.186549Z\", \"end_time\": \"2021-01-26T14:14:49.60373Z\", \"created_time\": \"2021-01-26T14:13:49.853433Z\", \"created_time_dt\": \"2021-01-26T14:13:49.853433Z\", \"duration\": \"0:00:59\", \"iteration\": \"18\", \"goal\": \"r2_score_max\", \"run_name\": \"MaxAbsScaler, RandomForest\", \"run_properties\": \"copy=True\", \"primary_metric\": 0.39940112, \"best_metric\": 0.45763139}, {\"run_id\": \"AutoML_9eb81b9a-e813-4c30-9bcb-f10492671c4d_19\", \"run_number\": 24, \"metric\": null, \"status\": \"Completed\", \"run_type\": \"azureml.scriptrun\", \"training_percent\": \"100\", \"start_time\": \"2021-01-26T14:15:04.526448Z\", \"end_time\": \"2021-01-26T14:16:18.223204Z\", \"created_time\": \"2021-01-26T14:14:52.570837Z\", \"created_time_dt\": \"2021-01-26T14:14:52.570837Z\", \"duration\": \"0:01:25\", \"iteration\": \"19\", \"goal\": \"r2_score_max\", \"run_name\": \"SparseNormalizer, XGBoostRegressor\", \"run_properties\": \"<azureml.automl.runtime.shared.model_wrappers.SparseNormalizer object at 0x7f3b6625ca90\", \"primary_metric\": 0.37597749, \"best_metric\": 0.45763139}, {\"run_id\": \"AutoML_9eb81b9a-e813-4c30-9bcb-f10492671c4d_20\", \"run_number\": 25, \"metric\": null, \"status\": \"Completed\", \"run_type\": \"azureml.scriptrun\", \"training_percent\": \"100\", \"start_time\": \"2021-01-26T14:16:31.899103Z\", \"end_time\": \"2021-01-26T14:17:19.835901Z\", \"created_time\": \"2021-01-26T14:16:21.065074Z\", \"created_time_dt\": \"2021-01-26T14:16:21.065074Z\", \"duration\": \"0:00:58\", \"iteration\": \"20\", \"goal\": \"r2_score_max\", \"run_name\": \"StandardScalerWrapper, RandomForest\", \"run_properties\": \"<azureml.automl.runtime.shared.model_wrappers.StandardScalerWrapper object at 0x7febb7fc7dd8\", \"primary_metric\": 0.40970661, \"best_metric\": 0.45763139}, {\"run_id\": \"AutoML_9eb81b9a-e813-4c30-9bcb-f10492671c4d_21\", \"run_number\": 26, \"metric\": null, \"status\": \"Completed\", \"run_type\": \"azureml.scriptrun\", \"training_percent\": \"100\", \"start_time\": \"2021-01-26T14:18:04.336811Z\", \"end_time\": \"2021-01-26T14:19:01.247161Z\", \"created_time\": \"2021-01-26T14:17:53.294137Z\", \"created_time_dt\": \"2021-01-26T14:17:53.294137Z\", \"duration\": \"0:01:07\", \"iteration\": \"21\", \"goal\": \"r2_score_max\", \"run_name\": \"MaxAbsScaler, ElasticNet\", \"run_properties\": \"copy=True\", \"primary_metric\": 0.31245636, \"best_metric\": 0.45763139}, {\"run_id\": \"AutoML_9eb81b9a-e813-4c30-9bcb-f10492671c4d_22\", \"run_number\": 27, \"metric\": null, \"status\": \"Completed\", \"run_type\": \"azureml.scriptrun\", \"training_percent\": \"100\", \"start_time\": \"2021-01-26T14:19:14.464269Z\", \"end_time\": \"2021-01-26T14:20:17.574603Z\", \"created_time\": \"2021-01-26T14:19:03.897648Z\", \"created_time_dt\": \"2021-01-26T14:19:03.897648Z\", \"duration\": \"0:01:13\", \"iteration\": \"22\", \"goal\": \"r2_score_max\", \"run_name\": \"MaxAbsScaler, GradientBoosting\", \"run_properties\": \"copy=True\", \"primary_metric\": 0.35038, \"best_metric\": 0.45763139}, {\"run_id\": \"AutoML_9eb81b9a-e813-4c30-9bcb-f10492671c4d_23\", \"run_number\": 28, \"metric\": null, \"status\": \"Completed\", \"run_type\": \"azureml.scriptrun\", \"training_percent\": \"100\", \"start_time\": \"2021-01-26T14:20:31.044859Z\", \"end_time\": \"2021-01-26T14:21:44.12663Z\", \"created_time\": \"2021-01-26T14:20:19.797186Z\", \"created_time_dt\": \"2021-01-26T14:20:19.797186Z\", \"duration\": \"0:01:24\", \"iteration\": \"23\", \"goal\": \"r2_score_max\", \"run_name\": \"VotingEnsemble\", \"run_properties\": \"estimators=[('6',\\n                                          Pipeline(memory=None,\\n                                                   steps=[('maxabsscaler',\\n                                                           MaxAbsScaler(copy=True\", \"primary_metric\": 0.47520147, \"best_metric\": 0.47520147}, {\"run_id\": \"AutoML_9eb81b9a-e813-4c30-9bcb-f10492671c4d_24\", \"run_number\": 29, \"metric\": null, \"status\": \"Completed\", \"run_type\": \"azureml.scriptrun\", \"training_percent\": \"100\", \"start_time\": \"2021-01-26T14:21:56.657337Z\", \"end_time\": \"2021-01-26T14:23:06.398906Z\", \"created_time\": \"2021-01-26T14:21:45.345906Z\", \"created_time_dt\": \"2021-01-26T14:21:45.345906Z\", \"duration\": \"0:01:21\", \"iteration\": \"24\", \"goal\": \"r2_score_max\", \"run_name\": \"StackEnsemble\", \"run_properties\": \"base_learners=[('6',\\n                                       Pipeline(memory=None,\\n                                                steps=[('maxabsscaler',\\n                                                        MaxAbsScaler(copy=True\", \"primary_metric\": 0.46629869, \"best_metric\": 0.47520147}], \"children_metrics\": {\"categories\": [0], \"series\": {\"mean_absolute_percentage_error\": [{\"categories\": [\"0\", \"1\", \"2\", \"3\", \"4\", \"5\", \"6\", \"7\", \"8\", \"9\", \"10\", \"11\", \"12\", \"13\", \"14\", \"15\", \"16\", \"17\", \"18\", \"19\", \"20\", \"21\", \"22\", \"23\", \"24\"], \"mode\": \"markers\", \"name\": \"mean_absolute_percentage_error\", \"stepped\": false, \"type\": \"scatter\", \"data\": [35.5066582297239, 36.44261705033134, 38.44733543437774, 35.04929828031271, 33.716616498694705, 37.870654683835554, 34.168983714576754, 32.198330989356876, 30.722323691645453, 45.19876539652591, 40.29234072920192, 43.36434547269254, 34.47270791757338, 29.95757651017838, 37.07923094045126, 31.645609975173603, 38.784320163476636, 37.32707477779802, 33.29412791222707, 35.66468362274119, 36.6980348321494, 38.38758276912067, 47.36366113044573, 33.37747408381461, 33.25545818031507]}, {\"categories\": [\"0\", \"1\", \"2\", \"3\", \"4\", \"5\", \"6\", \"7\", \"8\", \"9\", \"10\", \"11\", \"12\", \"13\", \"14\", \"15\", \"16\", \"17\", \"18\", \"19\", \"20\", \"21\", \"22\", \"23\", \"24\"], \"mode\": \"lines\", \"name\": \"mean_absolute_percentage_error_min\", \"stepped\": true, \"type\": \"scatter\", \"data\": [35.5066582297239, 35.5066582297239, 35.5066582297239, 35.04929828031271, 33.716616498694705, 33.716616498694705, 33.716616498694705, 32.198330989356876, 30.722323691645453, 30.722323691645453, 30.722323691645453, 30.722323691645453, 30.722323691645453, 29.95757651017838, 29.95757651017838, 29.95757651017838, 29.95757651017838, 29.95757651017838, 29.95757651017838, 29.95757651017838, 29.95757651017838, 29.95757651017838, 29.95757651017838, 29.95757651017838, 29.95757651017838]}], \"normalized_mean_absolute_error\": [{\"categories\": [\"0\", \"1\", \"2\", \"3\", \"4\", \"5\", \"6\", \"7\", \"8\", \"9\", \"10\", \"11\", \"12\", \"13\", \"14\", \"15\", \"16\", \"17\", \"18\", \"19\", \"20\", \"21\", \"22\", \"23\", \"24\"], \"mode\": \"markers\", \"name\": \"normalized_mean_absolute_error\", \"stepped\": false, \"type\": \"scatter\", \"data\": [0.2635635845875483, 0.28668830064178075, 0.2807757314711622, 0.25789966177420653, 0.28407637504029015, 0.29244715373763863, 0.2508199545461617, 0.2703921274308982, 0.2146394129979036, 0.3029491446578991, 0.29799731989044514, 0.3221213061133254, 0.28011654874813635, 0.21372772536687634, 0.27488255475527645, 0.22099850254567235, 0.29794312377965665, 0.27227782482542595, 0.24217194655764346, 0.2691225727237526, 0.27120156225138164, 0.2952493762245698, 0.353015744416589, 0.2411415126401934, 0.24802850226432596]}, {\"categories\": [\"0\", \"1\", \"2\", \"3\", \"4\", \"5\", \"6\", \"7\", \"8\", \"9\", \"10\", \"11\", \"12\", \"13\", \"14\", \"15\", \"16\", \"17\", \"18\", \"19\", \"20\", \"21\", \"22\", \"23\", \"24\"], \"mode\": \"lines\", \"name\": \"normalized_mean_absolute_error_min\", \"stepped\": true, \"type\": \"scatter\", \"data\": [0.2635635845875483, 0.2635635845875483, 0.2635635845875483, 0.25789966177420653, 0.25789966177420653, 0.25789966177420653, 0.2508199545461617, 0.2508199545461617, 0.2146394129979036, 0.2146394129979036, 0.2146394129979036, 0.2146394129979036, 0.2146394129979036, 0.21372772536687634, 0.21372772536687634, 0.21372772536687634, 0.21372772536687634, 0.21372772536687634, 0.21372772536687634, 0.21372772536687634, 0.21372772536687634, 0.21372772536687634, 0.21372772536687634, 0.21372772536687634, 0.21372772536687634]}], \"root_mean_squared_error\": [{\"categories\": [\"0\", \"1\", \"2\", \"3\", \"4\", \"5\", \"6\", \"7\", \"8\", \"9\", \"10\", \"11\", \"12\", \"13\", \"14\", \"15\", \"16\", \"17\", \"18\", \"19\", \"20\", \"21\", \"22\", \"23\", \"24\"], \"mode\": \"markers\", \"name\": \"root_mean_squared_error\", \"stepped\": false, \"type\": \"scatter\", \"data\": [0.3716733097626481, 0.37414160389282003, 0.37948568722508264, 0.3582020291540938, 0.40986247410863497, 0.3943686042445532, 0.35475121230825846, 0.3748366973283864, 0.37971294375795717, 0.3961247145307018, 0.3754466763457496, 0.38581071784709464, 0.36482272122771786, 0.38296366826694206, 0.3706416183814172, 0.36642337987566953, 0.4042946705628018, 0.36633828061983464, 0.3735861113830895, 0.3812663248592643, 0.3703152225936125, 0.39941077100601097, 0.3889443627881771, 0.34890487738715126, 0.3518556833512329]}, {\"categories\": [\"0\", \"1\", \"2\", \"3\", \"4\", \"5\", \"6\", \"7\", \"8\", \"9\", \"10\", \"11\", \"12\", \"13\", \"14\", \"15\", \"16\", \"17\", \"18\", \"19\", \"20\", \"21\", \"22\", \"23\", \"24\"], \"mode\": \"lines\", \"name\": \"root_mean_squared_error_min\", \"stepped\": true, \"type\": \"scatter\", \"data\": [0.3716733097626481, 0.3716733097626481, 0.3716733097626481, 0.3582020291540938, 0.3582020291540938, 0.3582020291540938, 0.35475121230825846, 0.35475121230825846, 0.35475121230825846, 0.35475121230825846, 0.35475121230825846, 0.35475121230825846, 0.35475121230825846, 0.35475121230825846, 0.35475121230825846, 0.35475121230825846, 0.35475121230825846, 0.35475121230825846, 0.35475121230825846, 0.35475121230825846, 0.35475121230825846, 0.35475121230825846, 0.35475121230825846, 0.34890487738715126, 0.34890487738715126]}], \"normalized_median_absolute_error\": [{\"categories\": [\"0\", \"1\", \"2\", \"3\", \"4\", \"5\", \"6\", \"7\", \"8\", \"9\", \"10\", \"11\", \"12\", \"13\", \"14\", \"15\", \"16\", \"17\", \"18\", \"19\", \"20\", \"21\", \"22\", \"23\", \"24\"], \"mode\": \"markers\", \"name\": \"normalized_median_absolute_error\", \"stepped\": false, \"type\": \"scatter\", \"data\": [0.16281246975221073, 0.19964562952518464, 0.199785453081131, 0.16321016528406243, 0.1597367823123932, 0.21384249582220377, 0.14463641416362866, 0.18640668392181398, 0.0425, 0.211580816229383, 0.219161126874023, 0.2522740693419732, 0.1992305725812912, 0.03666666666666668, 0.14597345202795614, 0.06746666666666666, 0.21697951309005248, 0.16200046176688404, 0.12788540036468288, 0.17025812864303588, 0.17513433626644165, 0.21659690326045072, 0.3046548110629459, 0.13424817292729554, 0.1407805537979045]}, {\"categories\": [\"0\", \"1\", \"2\", \"3\", \"4\", \"5\", \"6\", \"7\", \"8\", \"9\", \"10\", \"11\", \"12\", \"13\", \"14\", \"15\", \"16\", \"17\", \"18\", \"19\", \"20\", \"21\", \"22\", \"23\", \"24\"], \"mode\": \"lines\", \"name\": \"normalized_median_absolute_error_min\", \"stepped\": true, \"type\": \"scatter\", \"data\": [0.16281246975221073, 0.16281246975221073, 0.16281246975221073, 0.16281246975221073, 0.1597367823123932, 0.1597367823123932, 0.14463641416362866, 0.14463641416362866, 0.0425, 0.0425, 0.0425, 0.0425, 0.0425, 0.03666666666666668, 0.03666666666666668, 0.03666666666666668, 0.03666666666666668, 0.03666666666666668, 0.03666666666666668, 0.03666666666666668, 0.03666666666666668, 0.03666666666666668, 0.03666666666666668, 0.03666666666666668, 0.03666666666666668]}], \"mean_absolute_error\": [{\"categories\": [\"0\", \"1\", \"2\", \"3\", \"4\", \"5\", \"6\", \"7\", \"8\", \"9\", \"10\", \"11\", \"12\", \"13\", \"14\", \"15\", \"16\", \"17\", \"18\", \"19\", \"20\", \"21\", \"22\", \"23\", \"24\"], \"mode\": \"markers\", \"name\": \"mean_absolute_error\", \"stepped\": false, \"type\": \"scatter\", \"data\": [0.2635635845875483, 0.28668830064178075, 0.2807757314711622, 0.25789966177420653, 0.28407637504029015, 0.29244715373763863, 0.2508199545461617, 0.2703921274308982, 0.2146394129979036, 0.3029491446578991, 0.29799731989044514, 0.3221213061133254, 0.28011654874813635, 0.21372772536687634, 0.27488255475527645, 0.22099850254567235, 0.29794312377965665, 0.27227782482542595, 0.24217194655764346, 0.2691225727237526, 0.27120156225138164, 0.2952493762245698, 0.353015744416589, 0.2411415126401934, 0.24802850226432596]}, {\"categories\": [\"0\", \"1\", \"2\", \"3\", \"4\", \"5\", \"6\", \"7\", \"8\", \"9\", \"10\", \"11\", \"12\", \"13\", \"14\", \"15\", \"16\", \"17\", \"18\", \"19\", \"20\", \"21\", \"22\", \"23\", \"24\"], \"mode\": \"lines\", \"name\": \"mean_absolute_error_min\", \"stepped\": true, \"type\": \"scatter\", \"data\": [0.2635635845875483, 0.2635635845875483, 0.2635635845875483, 0.25789966177420653, 0.25789966177420653, 0.25789966177420653, 0.2508199545461617, 0.2508199545461617, 0.2146394129979036, 0.2146394129979036, 0.2146394129979036, 0.2146394129979036, 0.2146394129979036, 0.21372772536687634, 0.21372772536687634, 0.21372772536687634, 0.21372772536687634, 0.21372772536687634, 0.21372772536687634, 0.21372772536687634, 0.21372772536687634, 0.21372772536687634, 0.21372772536687634, 0.21372772536687634, 0.21372772536687634]}], \"r2_score\": [{\"categories\": [\"0\", \"1\", \"2\", \"3\", \"4\", \"5\", \"6\", \"7\", \"8\", \"9\", \"10\", \"11\", \"12\", \"13\", \"14\", \"15\", \"16\", \"17\", \"18\", \"19\", \"20\", \"21\", \"22\", \"23\", \"24\"], \"mode\": \"markers\", \"name\": \"r2_score\", \"stepped\": false, \"type\": \"scatter\", \"data\": [0.403068247807845, 0.3959066270753911, 0.3817750723974188, 0.4469777456239166, 0.2775098309589283, 0.3296882980532468, 0.4576313878411435, 0.391502556340097, 0.377203113137753, 0.3256103663208961, 0.39339393021068225, 0.3606192756771629, 0.4252252265611297, 0.36694287510273077, 0.40918933136424984, 0.420839673263705, 0.2955800851087075, 0.42261208652214216, 0.39940112089094165, 0.37597749326819685, 0.4097066108056799, 0.31245636040739955, 0.3503800044479145, 0.4752014654427084, 0.4662986931164671]}, {\"categories\": [\"0\", \"1\", \"2\", \"3\", \"4\", \"5\", \"6\", \"7\", \"8\", \"9\", \"10\", \"11\", \"12\", \"13\", \"14\", \"15\", \"16\", \"17\", \"18\", \"19\", \"20\", \"21\", \"22\", \"23\", \"24\"], \"mode\": \"lines\", \"name\": \"r2_score_max\", \"stepped\": true, \"type\": \"scatter\", \"data\": [0.403068247807845, 0.403068247807845, 0.403068247807845, 0.4469777456239166, 0.4469777456239166, 0.4469777456239166, 0.4576313878411435, 0.4576313878411435, 0.4576313878411435, 0.4576313878411435, 0.4576313878411435, 0.4576313878411435, 0.4576313878411435, 0.4576313878411435, 0.4576313878411435, 0.4576313878411435, 0.4576313878411435, 0.4576313878411435, 0.4576313878411435, 0.4576313878411435, 0.4576313878411435, 0.4576313878411435, 0.4576313878411435, 0.4752014654427084, 0.4752014654427084]}], \"root_mean_squared_log_error\": [{\"categories\": [\"0\", \"1\", \"2\", \"3\", \"4\", \"5\", \"6\", \"7\", \"8\", \"9\", \"10\", \"11\", \"12\", \"13\", \"14\", \"15\", \"16\", \"17\", \"18\", \"19\", \"20\", \"21\", \"22\", \"23\", \"24\"], \"mode\": \"markers\", \"name\": \"root_mean_squared_log_error\", \"stepped\": false, \"type\": \"scatter\", \"data\": [NaN, 0.2752086347832391, NaN, 0.2520046172168652, NaN, NaN, 0.2490643215551856, NaN, 0.2648194243569926, NaN, 0.2640478762714019, 0.2709401673651672, 0.2599569568310533, 0.2677385039796097, 0.2605028032470763, 0.2561368673572558, NaN, 0.25690903223153716, 0.26291524425455964, NaN, 0.26133199043532235, NaN, 0.2739930172164676, NaN, 0.23696855679617682]}, {\"categories\": [\"0\", \"1\", \"2\", \"3\", \"4\", \"5\", \"6\", \"7\", \"8\", \"9\", \"10\", \"11\", \"12\", \"13\", \"14\", \"15\", \"16\", \"17\", \"18\", \"19\", \"20\", \"21\", \"22\", \"23\", \"24\"], \"mode\": \"lines\", \"name\": \"root_mean_squared_log_error_min\", \"stepped\": true, \"type\": \"scatter\", \"data\": [NaN, 0.2752086347832391, 0.2752086347832391, 0.2520046172168652, 0.2520046172168652, 0.2520046172168652, 0.2490643215551856, 0.2490643215551856, 0.2490643215551856, 0.2490643215551856, 0.2490643215551856, 0.2490643215551856, 0.2490643215551856, 0.2490643215551856, 0.2490643215551856, 0.2490643215551856, 0.2490643215551856, 0.2490643215551856, 0.2490643215551856, 0.2490643215551856, 0.2490643215551856, 0.2490643215551856, 0.2490643215551856, 0.2490643215551856, 0.23696855679617682]}], \"normalized_root_mean_squared_log_error\": [{\"categories\": [\"0\", \"1\", \"2\", \"3\", \"4\", \"5\", \"6\", \"7\", \"8\", \"9\", \"10\", \"11\", \"12\", \"13\", \"14\", \"15\", \"16\", \"17\", \"18\", \"19\", \"20\", \"21\", \"22\", \"23\", \"24\"], \"mode\": \"markers\", \"name\": \"normalized_root_mean_squared_log_error\", \"stepped\": false, \"type\": \"scatter\", \"data\": [NaN, 0.39704213261160093, NaN, 0.36356581153989287, NaN, NaN, 0.35932386157004037, NaN, 0.3820536702509033, NaN, 0.3809405616540141, 0.3908840358353525, 0.3750386124647469, 0.3862650119464129, 0.37582610238223035, 0.3695273883251472, NaN, 0.3706413867600215, 0.37930651906016377, NaN, 0.37702236662668165, NaN, 0.39528836717640226, NaN, 0.34187336173645894]}, {\"categories\": [\"0\", \"1\", \"2\", \"3\", \"4\", \"5\", \"6\", \"7\", \"8\", \"9\", \"10\", \"11\", \"12\", \"13\", \"14\", \"15\", \"16\", \"17\", \"18\", \"19\", \"20\", \"21\", \"22\", \"23\", \"24\"], \"mode\": \"lines\", \"name\": \"normalized_root_mean_squared_log_error_min\", \"stepped\": true, \"type\": \"scatter\", \"data\": [NaN, 0.39704213261160093, 0.39704213261160093, 0.36356581153989287, 0.36356581153989287, 0.36356581153989287, 0.35932386157004037, 0.35932386157004037, 0.35932386157004037, 0.35932386157004037, 0.35932386157004037, 0.35932386157004037, 0.35932386157004037, 0.35932386157004037, 0.35932386157004037, 0.35932386157004037, 0.35932386157004037, 0.35932386157004037, 0.35932386157004037, 0.35932386157004037, 0.35932386157004037, 0.35932386157004037, 0.35932386157004037, 0.35932386157004037, 0.34187336173645894]}], \"spearman_correlation\": [{\"categories\": [\"0\", \"1\", \"2\", \"3\", \"4\", \"5\", \"6\", \"7\", \"8\", \"9\", \"10\", \"11\", \"12\", \"13\", \"14\", \"15\", \"16\", \"17\", \"18\", \"19\", \"20\", \"21\", \"22\", \"23\", \"24\"], \"mode\": \"markers\", \"name\": \"spearman_correlation\", \"stepped\": false, \"type\": \"scatter\", \"data\": [0.6077261054618254, 0.5973979561192894, 0.579049447949455, 0.6105192487200972, 0.552036332317144, 0.5802302559648982, 0.6181200333239684, 0.596010999964046, 0.6037127269973696, 0.5577008139759964, 0.593436514683637, 0.577046281479838, 0.6042081257004744, 0.6077425735786972, 0.5817629513498973, 0.61314978785909, 0.5766386211697295, 0.5967015091948517, 0.5779972572573515, 0.565857343835753, 0.5926641664284676, 0.5775910559132545, 0.6015817762923695, 0.6270665518664026, 0.6245334603983611]}, {\"categories\": [\"0\", \"1\", \"2\", \"3\", \"4\", \"5\", \"6\", \"7\", \"8\", \"9\", \"10\", \"11\", \"12\", \"13\", \"14\", \"15\", \"16\", \"17\", \"18\", \"19\", \"20\", \"21\", \"22\", \"23\", \"24\"], \"mode\": \"lines\", \"name\": \"spearman_correlation_max\", \"stepped\": true, \"type\": \"scatter\", \"data\": [0.6077261054618254, 0.6077261054618254, 0.6077261054618254, 0.6105192487200972, 0.6105192487200972, 0.6105192487200972, 0.6181200333239684, 0.6181200333239684, 0.6181200333239684, 0.6181200333239684, 0.6181200333239684, 0.6181200333239684, 0.6181200333239684, 0.6181200333239684, 0.6181200333239684, 0.6181200333239684, 0.6181200333239684, 0.6181200333239684, 0.6181200333239684, 0.6181200333239684, 0.6181200333239684, 0.6181200333239684, 0.6181200333239684, 0.6270665518664026, 0.6270665518664026]}], \"median_absolute_error\": [{\"categories\": [\"0\", \"1\", \"2\", \"3\", \"4\", \"5\", \"6\", \"7\", \"8\", \"9\", \"10\", \"11\", \"12\", \"13\", \"14\", \"15\", \"16\", \"17\", \"18\", \"19\", \"20\", \"21\", \"22\", \"23\", \"24\"], \"mode\": \"markers\", \"name\": \"median_absolute_error\", \"stepped\": false, \"type\": \"scatter\", \"data\": [0.16281246975221073, 0.19964562952518464, 0.199785453081131, 0.16321016528406243, 0.1597367823123932, 0.21384249582220377, 0.14463641416362866, 0.18640668392181398, 0.0425, 0.211580816229383, 0.219161126874023, 0.2522740693419732, 0.1992305725812912, 0.03666666666666668, 0.14597345202795614, 0.06746666666666666, 0.21697951309005248, 0.16200046176688404, 0.12788540036468288, 0.17025812864303588, 0.17513433626644165, 0.21659690326045072, 0.3046548110629459, 0.13424817292729554, 0.1407805537979045]}, {\"categories\": [\"0\", \"1\", \"2\", \"3\", \"4\", \"5\", \"6\", \"7\", \"8\", \"9\", \"10\", \"11\", \"12\", \"13\", \"14\", \"15\", \"16\", \"17\", \"18\", \"19\", \"20\", \"21\", \"22\", \"23\", \"24\"], \"mode\": \"lines\", \"name\": \"median_absolute_error_min\", \"stepped\": true, \"type\": \"scatter\", \"data\": [0.16281246975221073, 0.16281246975221073, 0.16281246975221073, 0.16281246975221073, 0.1597367823123932, 0.1597367823123932, 0.14463641416362866, 0.14463641416362866, 0.0425, 0.0425, 0.0425, 0.0425, 0.0425, 0.03666666666666668, 0.03666666666666668, 0.03666666666666668, 0.03666666666666668, 0.03666666666666668, 0.03666666666666668, 0.03666666666666668, 0.03666666666666668, 0.03666666666666668, 0.03666666666666668, 0.03666666666666668, 0.03666666666666668]}], \"explained_variance\": [{\"categories\": [\"0\", \"1\", \"2\", \"3\", \"4\", \"5\", \"6\", \"7\", \"8\", \"9\", \"10\", \"11\", \"12\", \"13\", \"14\", \"15\", \"16\", \"17\", \"18\", \"19\", \"20\", \"21\", \"22\", \"23\", \"24\"], \"mode\": \"markers\", \"name\": \"explained_variance\", \"stepped\": false, \"type\": \"scatter\", \"data\": [0.40403192553817213, 0.40616028734836557, 0.3835593690674477, 0.44840044257376854, 0.29612005623948406, 0.33485168823221156, 0.45906898663341006, 0.40843387142461135, 0.37847664251150437, 0.3415412558701151, 0.39485026368375653, 0.36229132513459283, 0.4307543414461339, 0.36790830479748865, 0.41114943426714856, 0.42208990735279617, 0.30243920732113994, 0.42365428564229796, 0.40071577601924907, 0.3781252035765437, 0.41141021935761424, 0.3182395372303404, 0.35219330980114166, 0.4762951390195605, 0.4677750082762698]}, {\"categories\": [\"0\", \"1\", \"2\", \"3\", \"4\", \"5\", \"6\", \"7\", \"8\", \"9\", \"10\", \"11\", \"12\", \"13\", \"14\", \"15\", \"16\", \"17\", \"18\", \"19\", \"20\", \"21\", \"22\", \"23\", \"24\"], \"mode\": \"lines\", \"name\": \"explained_variance_max\", \"stepped\": true, \"type\": \"scatter\", \"data\": [0.40403192553817213, 0.40616028734836557, 0.40616028734836557, 0.44840044257376854, 0.44840044257376854, 0.44840044257376854, 0.45906898663341006, 0.45906898663341006, 0.45906898663341006, 0.45906898663341006, 0.45906898663341006, 0.45906898663341006, 0.45906898663341006, 0.45906898663341006, 0.45906898663341006, 0.45906898663341006, 0.45906898663341006, 0.45906898663341006, 0.45906898663341006, 0.45906898663341006, 0.45906898663341006, 0.45906898663341006, 0.45906898663341006, 0.4762951390195605, 0.4762951390195605]}], \"normalized_root_mean_squared_error\": [{\"categories\": [\"0\", \"1\", \"2\", \"3\", \"4\", \"5\", \"6\", \"7\", \"8\", \"9\", \"10\", \"11\", \"12\", \"13\", \"14\", \"15\", \"16\", \"17\", \"18\", \"19\", \"20\", \"21\", \"22\", \"23\", \"24\"], \"mode\": \"markers\", \"name\": \"normalized_root_mean_squared_error\", \"stepped\": false, \"type\": \"scatter\", \"data\": [0.3716733097626481, 0.37414160389282003, 0.37948568722508264, 0.3582020291540938, 0.40986247410863497, 0.3943686042445532, 0.35475121230825846, 0.3748366973283864, 0.37971294375795717, 0.3961247145307018, 0.3754466763457496, 0.38581071784709464, 0.36482272122771786, 0.38296366826694206, 0.3706416183814172, 0.36642337987566953, 0.4042946705628018, 0.36633828061983464, 0.3735861113830895, 0.3812663248592643, 0.3703152225936125, 0.39941077100601097, 0.3889443627881771, 0.34890487738715126, 0.3518556833512329]}, {\"categories\": [\"0\", \"1\", \"2\", \"3\", \"4\", \"5\", \"6\", \"7\", \"8\", \"9\", \"10\", \"11\", \"12\", \"13\", \"14\", \"15\", \"16\", \"17\", \"18\", \"19\", \"20\", \"21\", \"22\", \"23\", \"24\"], \"mode\": \"lines\", \"name\": \"normalized_root_mean_squared_error_min\", \"stepped\": true, \"type\": \"scatter\", \"data\": [0.3716733097626481, 0.3716733097626481, 0.3716733097626481, 0.3582020291540938, 0.3582020291540938, 0.3582020291540938, 0.35475121230825846, 0.35475121230825846, 0.35475121230825846, 0.35475121230825846, 0.35475121230825846, 0.35475121230825846, 0.35475121230825846, 0.35475121230825846, 0.35475121230825846, 0.35475121230825846, 0.35475121230825846, 0.35475121230825846, 0.35475121230825846, 0.35475121230825846, 0.35475121230825846, 0.35475121230825846, 0.35475121230825846, 0.34890487738715126, 0.34890487738715126]}]}, \"metricName\": null, \"primaryMetricName\": \"r2_score\", \"showLegend\": false}, \"run_metrics\": [{\"name\": \"experiment_status\", \"run_id\": \"AutoML_9eb81b9a-e813-4c30-9bcb-f10492671c4d\", \"categories\": [0, 1, 2, 3, 4, 5, 6, 7, 8, 9, 10, 11, 12, 13], \"series\": [{\"data\": [\"DatasetEvaluation\", \"FeaturesGeneration\", \"DatasetFeaturization\", \"DatasetFeaturizationCompleted\", \"DatasetCrossValidationSplit\", \"ModelSelection\", \"BestRunExplainModel\", \"ModelExplanationDataSetSetup\", \"PickSurrogateModel\", \"EngineeredFeatureExplanations\", \"EngineeredFeatureExplanations\", \"RawFeaturesExplanations\", \"RawFeaturesExplanations\", \"BestRunExplainModel\"]}]}, {\"name\": \"experiment_status_description\", \"run_id\": \"AutoML_9eb81b9a-e813-4c30-9bcb-f10492671c4d\", \"categories\": [0, 1, 2, 3, 4, 5, 6, 7, 8, 9, 10, 11, 12, 13], \"series\": [{\"data\": [\"Gathering dataset statistics.\", \"Generating features for the dataset.\", \"Beginning to fit featurizers and featurize the dataset.\", \"Completed fit featurizers and featurizing the dataset.\", \"Generating individually featurized CV splits.\", \"Beginning model selection.\", \"Best run model explanations started\", \"Model explanations data setup completed\", \"Choosing LinearModel as the surrogate model for explanations\", \"Computation of engineered features started\", \"Computation of engineered features completed\", \"Computation of raw features started\", \"Computation of raw features completed\", \"Best run model explanations completed\"]}]}, {\"name\": \"normalized_mean_absolute_error\", \"run_id\": \"AutoML_9eb81b9a-e813-4c30-9bcb-f10492671c4d\", \"categories\": [0], \"series\": [{\"data\": [0.2411415126401934]}]}, {\"name\": \"explained_variance\", \"run_id\": \"AutoML_9eb81b9a-e813-4c30-9bcb-f10492671c4d\", \"categories\": [0], \"series\": [{\"data\": [0.4762951390195605]}]}, {\"name\": \"root_mean_squared_error\", \"run_id\": \"AutoML_9eb81b9a-e813-4c30-9bcb-f10492671c4d\", \"categories\": [0], \"series\": [{\"data\": [0.34890487738715126]}]}, {\"name\": \"normalized_median_absolute_error\", \"run_id\": \"AutoML_9eb81b9a-e813-4c30-9bcb-f10492671c4d\", \"categories\": [0], \"series\": [{\"data\": [0.13424817292729554]}]}, {\"name\": \"normalized_root_mean_squared_log_error\", \"run_id\": \"AutoML_9eb81b9a-e813-4c30-9bcb-f10492671c4d\", \"categories\": [0], \"series\": [{\"data\": [NaN]}]}, {\"name\": \"median_absolute_error\", \"run_id\": \"AutoML_9eb81b9a-e813-4c30-9bcb-f10492671c4d\", \"categories\": [0], \"series\": [{\"data\": [0.13424817292729554]}]}, {\"name\": \"spearman_correlation\", \"run_id\": \"AutoML_9eb81b9a-e813-4c30-9bcb-f10492671c4d\", \"categories\": [0], \"series\": [{\"data\": [0.6270665518664026]}]}, {\"name\": \"r2_score\", \"run_id\": \"AutoML_9eb81b9a-e813-4c30-9bcb-f10492671c4d\", \"categories\": [0], \"series\": [{\"data\": [0.4752014654427084]}]}, {\"name\": \"normalized_root_mean_squared_error\", \"run_id\": \"AutoML_9eb81b9a-e813-4c30-9bcb-f10492671c4d\", \"categories\": [0], \"series\": [{\"data\": [0.34890487738715126]}]}, {\"name\": \"root_mean_squared_log_error\", \"run_id\": \"AutoML_9eb81b9a-e813-4c30-9bcb-f10492671c4d\", \"categories\": [0], \"series\": [{\"data\": [NaN]}]}, {\"name\": \"mean_absolute_error\", \"run_id\": \"AutoML_9eb81b9a-e813-4c30-9bcb-f10492671c4d\", \"categories\": [0], \"series\": [{\"data\": [0.2411415126401934]}]}, {\"name\": \"mean_absolute_percentage_error\", \"run_id\": \"AutoML_9eb81b9a-e813-4c30-9bcb-f10492671c4d\", \"categories\": [0], \"series\": [{\"data\": [33.37747408381461]}]}], \"run_logs\": \"\\nRun is completed.\", \"graph\": {}, \"widget_settings\": {\"childWidgetDisplay\": \"popup\", \"send_telemetry\": false, \"log_level\": \"INFO\", \"sdk_version\": \"1.21.0\"}, \"loading\": false}"
          },
          "metadata": {}
        }
      ],
      "execution_count": 16,
      "metadata": {
        "gather": {
          "logged": 1611672130059
        }
      }
    },
    {
      "cell_type": "markdown",
      "source": [
        "### Measure Parent Run Time needed for the whole AutoML process"
      ],
      "metadata": {}
    },
    {
      "cell_type": "code",
      "source": [
        "import time\n",
        "import datetime as dt\n",
        "\n",
        "run_details = run.get_details()\n",
        "\n",
        "end_time_utc_str = run_details['endTimeUtc'].split(\".\")[0]\n",
        "start_time_utc_str = run_details['startTimeUtc'].split(\".\")[0]\n",
        "timestamp_end = time.mktime(datetime.strptime(end_time_utc_str, \"%Y-%m-%dT%H:%M:%S\").timetuple())\n",
        "timestamp_start = time.mktime(datetime.strptime(start_time_utc_str, \"%Y-%m-%dT%H:%M:%S\").timetuple())\n",
        "\n",
        "parent_run_time = timestamp_end - timestamp_start\n",
        "print('Run Timing: --- %s seconds needed for running the whole Remote AutoML Experiment ---' % (parent_run_time))"
      ],
      "outputs": [
        {
          "output_type": "stream",
          "name": "stdout",
          "text": [
            "Run Timing: --- 2209.0 seconds needed for running the whole Remote AutoML Experiment ---\n"
          ]
        }
      ],
      "execution_count": 17,
      "metadata": {
        "gather": {
          "logged": 1611672147587
        }
      }
    },
    {
      "cell_type": "markdown",
      "source": [
        "### Retrieve the 'Best Model'"
      ],
      "metadata": {}
    },
    {
      "cell_type": "code",
      "source": [
        "best_run, fitted_model = run.get_output()\n",
        "print(best_run)\n",
        "print(fitted_model)"
      ],
      "outputs": [
        {
          "output_type": "error",
          "ename": "ImportError",
          "evalue": "cannot import name 'UnhashableValueInColumn'",
          "traceback": [
            "\u001b[0;31m---------------------------------------------------------------------------\u001b[0m",
            "\u001b[0;31mImportError\u001b[0m                               Traceback (most recent call last)",
            "\u001b[0;32m<ipython-input-18-161599dc225e>\u001b[0m in \u001b[0;36m<module>\u001b[0;34m\u001b[0m\n\u001b[0;32m----> 1\u001b[0;31m \u001b[0mbest_run\u001b[0m\u001b[0;34m,\u001b[0m \u001b[0mfitted_model\u001b[0m \u001b[0;34m=\u001b[0m \u001b[0mrun\u001b[0m\u001b[0;34m.\u001b[0m\u001b[0mget_output\u001b[0m\u001b[0;34m(\u001b[0m\u001b[0;34m)\u001b[0m\u001b[0;34m\u001b[0m\u001b[0;34m\u001b[0m\u001b[0m\n\u001b[0m\u001b[1;32m      2\u001b[0m \u001b[0mprint\u001b[0m\u001b[0;34m(\u001b[0m\u001b[0mbest_run\u001b[0m\u001b[0;34m)\u001b[0m\u001b[0;34m\u001b[0m\u001b[0;34m\u001b[0m\u001b[0m\n\u001b[1;32m      3\u001b[0m \u001b[0mprint\u001b[0m\u001b[0;34m(\u001b[0m\u001b[0mfitted_model\u001b[0m\u001b[0;34m)\u001b[0m\u001b[0;34m\u001b[0m\u001b[0;34m\u001b[0m\u001b[0m\n",
            "\u001b[0;32m/anaconda/envs/azureml_py36/lib/python3.6/site-packages/azureml/train/automl/run.py\u001b[0m in \u001b[0;36mget_output\u001b[0;34m(self, iteration, metric, return_onnx_model, return_split_onnx_model, **kwargs)\u001b[0m\n\u001b[1;32m    697\u001b[0m                     \u001b[0mfitted_model\u001b[0m \u001b[0;34m=\u001b[0m \u001b[0m_download_automl_onnx_model\u001b[0m\u001b[0;34m(\u001b[0m\u001b[0mcurr_run\u001b[0m\u001b[0;34m,\u001b[0m \u001b[0mmodel_name\u001b[0m\u001b[0;34m)\u001b[0m\u001b[0;34m\u001b[0m\u001b[0;34m\u001b[0m\u001b[0m\n\u001b[1;32m    698\u001b[0m                 \u001b[0;32melse\u001b[0m\u001b[0;34m:\u001b[0m\u001b[0;34m\u001b[0m\u001b[0;34m\u001b[0m\u001b[0m\n\u001b[0;32m--> 699\u001b[0;31m                     \u001b[0mfitted_model\u001b[0m \u001b[0;34m=\u001b[0m \u001b[0m_download_automl_model\u001b[0m\u001b[0;34m(\u001b[0m\u001b[0mcurr_run\u001b[0m\u001b[0;34m,\u001b[0m \u001b[0mmodel_name\u001b[0m\u001b[0;34m)\u001b[0m\u001b[0;34m\u001b[0m\u001b[0;34m\u001b[0m\u001b[0m\n\u001b[0m\u001b[1;32m    700\u001b[0m \u001b[0;34m\u001b[0m\u001b[0m\n\u001b[1;32m    701\u001b[0m             \u001b[0;32mreturn\u001b[0m \u001b[0mcurr_run\u001b[0m\u001b[0;34m,\u001b[0m \u001b[0mfitted_model\u001b[0m\u001b[0;34m\u001b[0m\u001b[0;34m\u001b[0m\u001b[0m\n",
            "\u001b[0;32m/anaconda/envs/azureml_py36/lib/python3.6/site-packages/azureml/train/automl/_model_download_utilities.py\u001b[0m in \u001b[0;36m_download_automl_model\u001b[0;34m(run, model_name)\u001b[0m\n\u001b[1;32m     85\u001b[0m             \u001b[0;31m# Pass through any exceptions from loading the model.\u001b[0m\u001b[0;34m\u001b[0m\u001b[0;34m\u001b[0m\u001b[0;34m\u001b[0m\u001b[0m\n\u001b[1;32m     86\u001b[0m             \u001b[0;31m# Try is used here to ensure we can cleanup the side effect of model downlad.\u001b[0m\u001b[0;34m\u001b[0m\u001b[0;34m\u001b[0m\u001b[0;34m\u001b[0m\u001b[0m\n\u001b[0;32m---> 87\u001b[0;31m             \u001b[0mmodel\u001b[0m \u001b[0;34m=\u001b[0m \u001b[0m_load_automl_model\u001b[0m\u001b[0;34m(\u001b[0m\u001b[0mmodel_path\u001b[0m\u001b[0;34m)\u001b[0m\u001b[0;34m\u001b[0m\u001b[0;34m\u001b[0m\u001b[0m\n\u001b[0m\u001b[1;32m     88\u001b[0m             \u001b[0;32mif\u001b[0m \u001b[0mmodel\u001b[0m \u001b[0;32mis\u001b[0m \u001b[0;32mNone\u001b[0m\u001b[0;34m:\u001b[0m\u001b[0;34m\u001b[0m\u001b[0;34m\u001b[0m\u001b[0m\n\u001b[1;32m     89\u001b[0m                 \u001b[0;31m# If we can retrieve the automl runtime version, we do so we can inform the user what to install.\u001b[0m\u001b[0;34m\u001b[0m\u001b[0;34m\u001b[0m\u001b[0;34m\u001b[0m\u001b[0m\n",
            "\u001b[0;32m/anaconda/envs/azureml_py36/lib/python3.6/site-packages/azureml/train/automl/_model_download_utilities.py\u001b[0m in \u001b[0;36m_load_automl_model\u001b[0;34m(model_path)\u001b[0m\n\u001b[1;32m    151\u001b[0m         \u001b[0;32mimport\u001b[0m \u001b[0mazureml\u001b[0m\u001b[0;34m.\u001b[0m\u001b[0mtrain\u001b[0m\u001b[0;34m.\u001b[0m\u001b[0mautoml\u001b[0m\u001b[0;34m.\u001b[0m\u001b[0mruntime\u001b[0m\u001b[0;34m\u001b[0m\u001b[0;34m\u001b[0m\u001b[0m\n\u001b[1;32m    152\u001b[0m         \u001b[0;32mwith\u001b[0m \u001b[0mopen\u001b[0m\u001b[0;34m(\u001b[0m\u001b[0mmodel_path\u001b[0m\u001b[0;34m,\u001b[0m \u001b[0;34m\"rb\"\u001b[0m\u001b[0;34m)\u001b[0m \u001b[0;32mas\u001b[0m \u001b[0mmodel_file\u001b[0m\u001b[0;34m:\u001b[0m\u001b[0;34m\u001b[0m\u001b[0;34m\u001b[0m\u001b[0m\n\u001b[0;32m--> 153\u001b[0;31m             \u001b[0mfitted_model\u001b[0m \u001b[0;34m=\u001b[0m \u001b[0mpickle\u001b[0m\u001b[0;34m.\u001b[0m\u001b[0mload\u001b[0m\u001b[0;34m(\u001b[0m\u001b[0mmodel_file\u001b[0m\u001b[0;34m)\u001b[0m  \u001b[0;31m# type: Optional[Any]\u001b[0m\u001b[0;34m\u001b[0m\u001b[0;34m\u001b[0m\u001b[0m\n\u001b[0m\u001b[1;32m    154\u001b[0m             \u001b[0;32mreturn\u001b[0m \u001b[0mfitted_model\u001b[0m\u001b[0;34m\u001b[0m\u001b[0;34m\u001b[0m\u001b[0m\n\u001b[1;32m    155\u001b[0m     \u001b[0;32mexcept\u001b[0m \u001b[0mImportError\u001b[0m \u001b[0;32mas\u001b[0m \u001b[0me\u001b[0m\u001b[0;34m:\u001b[0m\u001b[0;34m\u001b[0m\u001b[0;34m\u001b[0m\u001b[0m\n",
            "\u001b[0;32m/anaconda/envs/azureml_py36/lib/python3.6/site-packages/azureml/automl/runtime/_ml_engine/__init__.py\u001b[0m in \u001b[0;36m<module>\u001b[0;34m\u001b[0m\n\u001b[1;32m      4\u001b[0m \u001b[0;34m\"\"\"Classes and methods for MLEngine.\"\"\"\u001b[0m\u001b[0;34m\u001b[0m\u001b[0;34m\u001b[0m\u001b[0m\n\u001b[1;32m      5\u001b[0m \u001b[0;34m\u001b[0m\u001b[0m\n\u001b[0;32m----> 6\u001b[0;31m \u001b[0;32mfrom\u001b[0m \u001b[0;34m.\u001b[0m\u001b[0mml_engine\u001b[0m \u001b[0;32mimport\u001b[0m \u001b[0mvalidate\u001b[0m\u001b[0;34m,\u001b[0m \u001b[0mfeaturize\u001b[0m\u001b[0;34m,\u001b[0m \u001b[0mtrain\u001b[0m\u001b[0;34m,\u001b[0m \u001b[0mevaluate_classifier\u001b[0m\u001b[0;34m\u001b[0m\u001b[0;34m\u001b[0m\u001b[0m\n\u001b[0m\u001b[1;32m      7\u001b[0m \u001b[0;34m\u001b[0m\u001b[0m\n\u001b[1;32m      8\u001b[0m \u001b[0;32mfrom\u001b[0m \u001b[0;34m.\u001b[0m\u001b[0mfeaturizer_suggestion\u001b[0m \u001b[0;32mimport\u001b[0m \u001b[0msuggest_featurizers\u001b[0m\u001b[0;34m\u001b[0m\u001b[0;34m\u001b[0m\u001b[0m\n",
            "\u001b[0;32m/anaconda/envs/azureml_py36/lib/python3.6/site-packages/azureml/automl/runtime/_ml_engine/ml_engine.py\u001b[0m in \u001b[0;36m<module>\u001b[0;34m\u001b[0m\n\u001b[1;32m     47\u001b[0m \u001b[0;32mfrom\u001b[0m \u001b[0mazureml\u001b[0m\u001b[0;34m.\u001b[0m\u001b[0mautoml\u001b[0m\u001b[0;34m.\u001b[0m\u001b[0mcore\u001b[0m\u001b[0;34m.\u001b[0m\u001b[0mautoml_base_settings\u001b[0m \u001b[0;32mimport\u001b[0m \u001b[0mAutoMLBaseSettings\u001b[0m\u001b[0;34m\u001b[0m\u001b[0;34m\u001b[0m\u001b[0m\n\u001b[1;32m     48\u001b[0m \u001b[0;32mfrom\u001b[0m \u001b[0mazureml\u001b[0m\u001b[0;34m.\u001b[0m\u001b[0mautoml\u001b[0m\u001b[0;34m.\u001b[0m\u001b[0mruntime\u001b[0m\u001b[0;34m.\u001b[0m\u001b[0m_data_definition\u001b[0m \u001b[0;32mimport\u001b[0m \u001b[0mRawExperimentData\u001b[0m\u001b[0;34m\u001b[0m\u001b[0;34m\u001b[0m\u001b[0m\n\u001b[0;32m---> 49\u001b[0;31m \u001b[0;32mfrom\u001b[0m \u001b[0mazureml\u001b[0m\u001b[0;34m.\u001b[0m\u001b[0mautoml\u001b[0m\u001b[0;34m.\u001b[0m\u001b[0mruntime\u001b[0m\u001b[0;34m.\u001b[0m\u001b[0m_ml_engine\u001b[0m\u001b[0;34m.\u001b[0m\u001b[0mvalidation\u001b[0m \u001b[0;32mimport\u001b[0m \u001b[0mRawExperimentDataValidator\u001b[0m\u001b[0;34m\u001b[0m\u001b[0;34m\u001b[0m\u001b[0m\n\u001b[0m\u001b[1;32m     50\u001b[0m \u001b[0;32mfrom\u001b[0m \u001b[0mazureml\u001b[0m\u001b[0;34m.\u001b[0m\u001b[0mautoml\u001b[0m\u001b[0;34m.\u001b[0m\u001b[0mruntime\u001b[0m\u001b[0;34m.\u001b[0m\u001b[0mfeaturization\u001b[0m \u001b[0;32mimport\u001b[0m \u001b[0mAutoMLTransformer\u001b[0m\u001b[0;34m\u001b[0m\u001b[0;34m\u001b[0m\u001b[0m\n\u001b[1;32m     51\u001b[0m \u001b[0;32mfrom\u001b[0m \u001b[0mazureml\u001b[0m\u001b[0;34m.\u001b[0m\u001b[0mautoml\u001b[0m\u001b[0;34m.\u001b[0m\u001b[0mruntime\u001b[0m\u001b[0;34m.\u001b[0m\u001b[0mshared\u001b[0m\u001b[0;34m.\u001b[0m\u001b[0mtypes\u001b[0m \u001b[0;32mimport\u001b[0m \u001b[0mDataInputType\u001b[0m\u001b[0;34m\u001b[0m\u001b[0;34m\u001b[0m\u001b[0m\n",
            "\u001b[0;32m/anaconda/envs/azureml_py36/lib/python3.6/site-packages/azureml/automl/runtime/_ml_engine/validation/__init__.py\u001b[0m in \u001b[0;36m<module>\u001b[0;34m\u001b[0m\n\u001b[1;32m      5\u001b[0m \u001b[0;31m# Module containing all common interfaces related to data validations.\u001b[0m\u001b[0;34m\u001b[0m\u001b[0;34m\u001b[0m\u001b[0;34m\u001b[0m\u001b[0m\n\u001b[1;32m      6\u001b[0m \u001b[0;32mfrom\u001b[0m \u001b[0;34m.\u001b[0m\u001b[0mvalidators\u001b[0m \u001b[0;32mimport\u001b[0m \u001b[0mAbstractRawExperimentDataValidator\u001b[0m\u001b[0;34m,\u001b[0m \u001b[0mAbstractTabularDataValidator\u001b[0m\u001b[0;34m\u001b[0m\u001b[0;34m\u001b[0m\u001b[0m\n\u001b[0;32m----> 7\u001b[0;31m \u001b[0;32mfrom\u001b[0m \u001b[0;34m.\u001b[0m\u001b[0mmaterialized_tabular_data_validator\u001b[0m \u001b[0;32mimport\u001b[0m \u001b[0mMaterializedTabularDataValidator\u001b[0m\u001b[0;34m\u001b[0m\u001b[0;34m\u001b[0m\u001b[0m\n\u001b[0m\u001b[1;32m      8\u001b[0m \u001b[0;32mfrom\u001b[0m \u001b[0;34m.\u001b[0m\u001b[0mraw_experiment_data_validator\u001b[0m \u001b[0;32mimport\u001b[0m \u001b[0mRawExperimentDataValidator\u001b[0m\u001b[0;34m\u001b[0m\u001b[0;34m\u001b[0m\u001b[0m\n",
            "\u001b[0;32m/anaconda/envs/azureml_py36/lib/python3.6/site-packages/azureml/automl/runtime/_ml_engine/validation/materialized_tabular_data_validator.py\u001b[0m in \u001b[0;36m<module>\u001b[0;34m\u001b[0m\n\u001b[1;32m     24\u001b[0m \u001b[0;32mfrom\u001b[0m \u001b[0mazureml\u001b[0m\u001b[0;34m.\u001b[0m\u001b[0mautoml\u001b[0m\u001b[0;34m.\u001b[0m\u001b[0mruntime\u001b[0m \u001b[0;32mimport\u001b[0m \u001b[0m_common_training_utilities\u001b[0m\u001b[0;34m\u001b[0m\u001b[0;34m\u001b[0m\u001b[0m\n\u001b[1;32m     25\u001b[0m \u001b[0;32mfrom\u001b[0m \u001b[0mazureml\u001b[0m\u001b[0;34m.\u001b[0m\u001b[0mautoml\u001b[0m\u001b[0;34m.\u001b[0m\u001b[0mruntime\u001b[0m\u001b[0;34m.\u001b[0m\u001b[0m_data_definition\u001b[0m \u001b[0;32mimport\u001b[0m \u001b[0mMaterializedTabularData\u001b[0m\u001b[0;34m\u001b[0m\u001b[0;34m\u001b[0m\u001b[0m\n\u001b[0;32m---> 26\u001b[0;31m \u001b[0;32mfrom\u001b[0m \u001b[0mazureml\u001b[0m\u001b[0;34m.\u001b[0m\u001b[0mautoml\u001b[0m\u001b[0;34m.\u001b[0m\u001b[0mruntime\u001b[0m\u001b[0;34m.\u001b[0m\u001b[0m_ml_engine\u001b[0m\u001b[0;34m.\u001b[0m\u001b[0mvalidation\u001b[0m \u001b[0;32mimport\u001b[0m \u001b[0mcommon_data_validations\u001b[0m\u001b[0;34m\u001b[0m\u001b[0;34m\u001b[0m\u001b[0m\n\u001b[0m\u001b[1;32m     27\u001b[0m \u001b[0;32mfrom\u001b[0m \u001b[0mazureml\u001b[0m\u001b[0;34m.\u001b[0m\u001b[0mautoml\u001b[0m\u001b[0;34m.\u001b[0m\u001b[0mruntime\u001b[0m\u001b[0;34m.\u001b[0m\u001b[0m_ml_engine\u001b[0m\u001b[0;34m.\u001b[0m\u001b[0mvalidation\u001b[0m\u001b[0;34m.\u001b[0m\u001b[0mvalidators\u001b[0m \u001b[0;32mimport\u001b[0m \u001b[0mAbstractTabularDataValidator\u001b[0m\u001b[0;34m\u001b[0m\u001b[0;34m\u001b[0m\u001b[0m\n\u001b[1;32m     28\u001b[0m \u001b[0;32mfrom\u001b[0m \u001b[0mazureml\u001b[0m\u001b[0;34m.\u001b[0m\u001b[0mautoml\u001b[0m\u001b[0;34m.\u001b[0m\u001b[0mruntime\u001b[0m\u001b[0;34m.\u001b[0m\u001b[0mshared\u001b[0m \u001b[0;32mimport\u001b[0m \u001b[0mutilities\u001b[0m \u001b[0;32mas\u001b[0m \u001b[0mruntime_utilities\u001b[0m\u001b[0;34m\u001b[0m\u001b[0;34m\u001b[0m\u001b[0m\n",
            "\u001b[0;32m/anaconda/envs/azureml_py36/lib/python3.6/site-packages/azureml/automl/runtime/_ml_engine/validation/common_data_validations.py\u001b[0m in \u001b[0;36m<module>\u001b[0;34m\u001b[0m\n\u001b[1;32m     17\u001b[0m \u001b[0;32mfrom\u001b[0m \u001b[0mazureml\u001b[0m\u001b[0;34m.\u001b[0m\u001b[0mautoml\u001b[0m\u001b[0;34m.\u001b[0m\u001b[0mcore\u001b[0m\u001b[0;34m.\u001b[0m\u001b[0mfeaturization\u001b[0m \u001b[0;32mimport\u001b[0m \u001b[0mFeaturizationConfig\u001b[0m\u001b[0;34m\u001b[0m\u001b[0;34m\u001b[0m\u001b[0m\n\u001b[1;32m     18\u001b[0m \u001b[0;32mfrom\u001b[0m \u001b[0mazureml\u001b[0m\u001b[0;34m.\u001b[0m\u001b[0mautoml\u001b[0m\u001b[0;34m.\u001b[0m\u001b[0mcore\u001b[0m\u001b[0;34m.\u001b[0m\u001b[0mshared\u001b[0m \u001b[0;32mimport\u001b[0m \u001b[0mconstants\u001b[0m\u001b[0;34m,\u001b[0m \u001b[0mutilities\u001b[0m\u001b[0;34m\u001b[0m\u001b[0;34m\u001b[0m\u001b[0m\n\u001b[0;32m---> 19\u001b[0;31m from azureml.automl.core.shared._diagnostics.automl_error_definitions import (\n\u001b[0m\u001b[1;32m     20\u001b[0m     \u001b[0mDatasetContainsInf\u001b[0m\u001b[0;34m,\u001b[0m \u001b[0mDataShapeMismatch\u001b[0m\u001b[0;34m,\u001b[0m \u001b[0mExperimentTimeoutForDataSize\u001b[0m\u001b[0;34m,\u001b[0m \u001b[0mFeaturizationConfigColumnMissing\u001b[0m\u001b[0;34m,\u001b[0m\u001b[0;34m\u001b[0m\u001b[0;34m\u001b[0m\u001b[0m\n\u001b[1;32m     21\u001b[0m     \u001b[0mInvalidMetricForSingleValuedColumn\u001b[0m\u001b[0;34m,\u001b[0m \u001b[0mInvalidValuesInData\u001b[0m\u001b[0;34m,\u001b[0m \u001b[0mSampleCountMismatch\u001b[0m\u001b[0;34m,\u001b[0m \u001b[0mUnhashableValueInColumn\u001b[0m\u001b[0;34m,\u001b[0m\u001b[0;34m\u001b[0m\u001b[0;34m\u001b[0m\u001b[0m\n",
            "\u001b[0;31mImportError\u001b[0m: cannot import name 'UnhashableValueInColumn'"
          ]
        }
      ],
      "execution_count": 18,
      "metadata": {}
    },
    {
      "cell_type": "markdown",
      "source": [
        "### Make predictions"
      ],
      "metadata": {}
    },
    {
      "cell_type": "markdown",
      "source": [
        "### Extract X values (feature columns) from test dataset and convert to NumPi array for predicting"
      ],
      "metadata": {}
    },
    {
      "cell_type": "code",
      "source": [
        "import pandas as pd\n",
        "\n",
        "#remove Y\n",
        "if 'Survived' in test_dataset_df.columns:\n",
        "    y_test_df = test_dataset_df.pop('Survived')\n",
        "\n",
        "x_test_df = test_dataset_df"
      ],
      "outputs": [],
      "execution_count": null,
      "metadata": {}
    },
    {
      "cell_type": "markdown",
      "source": [
        "### Make the actual Predictions"
      ],
      "metadata": {}
    },
    {
      "cell_type": "code",
      "source": [
        "# Try the best model\n",
        "y_predictions = fitted_model.predict(x_test_df)\n",
        "\n",
        "print('10 predictions: ')\n",
        "print(y_predictions[:10])"
      ],
      "outputs": [],
      "execution_count": null,
      "metadata": {}
    },
    {
      "cell_type": "code",
      "source": [
        "y_predictions.shape"
      ],
      "outputs": [
        {
          "output_type": "error",
          "ename": "NameError",
          "evalue": "name 'y_predictions' is not defined",
          "traceback": [
            "\u001b[0;31m---------------------------------------------------------------------------\u001b[0m",
            "\u001b[0;31mNameError\u001b[0m                                 Traceback (most recent call last)",
            "\u001b[0;32m<ipython-input-22-7c0e8711296d>\u001b[0m in \u001b[0;36m<module>\u001b[0;34m\u001b[0m\n\u001b[0;32m----> 1\u001b[0;31m \u001b[0my_predictions\u001b[0m\u001b[0;34m.\u001b[0m\u001b[0mshape\u001b[0m\u001b[0;34m\u001b[0m\u001b[0;34m\u001b[0m\u001b[0m\n\u001b[0m",
            "\u001b[0;31mNameError\u001b[0m: name 'y_predictions' is not defined"
          ]
        }
      ],
      "execution_count": 22,
      "metadata": {}
    },
    {
      "cell_type": "markdown",
      "source": [
        "### Calculate the R2 score with Test Dataset"
      ],
      "metadata": {}
    },
    {
      "cell_type": "code",
      "source": [
        "from sklearn.metrics import r2_score\n",
        "\n",
        "print('R2 score:')\n",
        "accuracy_score(y_test_df, y_predictions)"
      ],
      "outputs": [
        {
          "output_type": "stream",
          "name": "stdout",
          "text": [
            "R2 score:\n"
          ]
        },
        {
          "output_type": "error",
          "ename": "NameError",
          "evalue": "name 'accuracy_score' is not defined",
          "traceback": [
            "\u001b[0;31m---------------------------------------------------------------------------\u001b[0m",
            "\u001b[0;31mNameError\u001b[0m                                 Traceback (most recent call last)",
            "\u001b[0;32m<ipython-input-21-a69d475da747>\u001b[0m in \u001b[0;36m<module>\u001b[0;34m\u001b[0m\n\u001b[1;32m      2\u001b[0m \u001b[0;34m\u001b[0m\u001b[0m\n\u001b[1;32m      3\u001b[0m \u001b[0mprint\u001b[0m\u001b[0;34m(\u001b[0m\u001b[0;34m'R2 score:'\u001b[0m\u001b[0;34m)\u001b[0m\u001b[0;34m\u001b[0m\u001b[0;34m\u001b[0m\u001b[0m\n\u001b[0;32m----> 4\u001b[0;31m \u001b[0maccuracy_score\u001b[0m\u001b[0;34m(\u001b[0m\u001b[0my_test_df\u001b[0m\u001b[0;34m,\u001b[0m \u001b[0my_predictions\u001b[0m\u001b[0;34m)\u001b[0m\u001b[0;34m\u001b[0m\u001b[0;34m\u001b[0m\u001b[0m\n\u001b[0m",
            "\u001b[0;31mNameError\u001b[0m: name 'accuracy_score' is not defined"
          ]
        }
      ],
      "execution_count": 21,
      "metadata": {}
    }
  ],
  "metadata": {
    "kernel_info": {
      "name": "python3-azureml"
    },
    "kernelspec": {
      "name": "python3-azureml",
      "language": "python",
      "display_name": "Python 3.6 - AzureML"
    },
    "language_info": {
      "name": "python",
      "version": "3.6.9",
      "mimetype": "text/x-python",
      "codemirror_mode": {
        "name": "ipython",
        "version": 3
      },
      "pygments_lexer": "ipython3",
      "nbconvert_exporter": "python",
      "file_extension": ".py"
    },
    "nteract": {
      "version": "nteract-front-end@1.0.0"
    }
  },
  "nbformat": 4,
  "nbformat_minor": 2
}