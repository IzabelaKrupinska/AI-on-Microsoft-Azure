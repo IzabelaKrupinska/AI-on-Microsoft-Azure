{
  "cells": [
    {
      "cell_type": "markdown",
      "source": [
        "## Dataset\n",
        "Zadanie klasyfikacji dla zbioru 'Titanic'.\n",
        "Source: https://gist.githubusercontent.com/michhar/2dfd2de0d4f8727f873422c5d959fff5/raw/fa71405126017e6a37bea592440b4bee94bf7b9e/titanic.csv\n",
        "Predykcja przeżycia 'Survived' na podstawie danych o pasażerach. "
      ],
      "metadata": {}
    },
    {
      "cell_type": "markdown",
      "source": [
        "## Auto ML z UI\n",
        "Step by step\n",
        "* Resource group -> Create\n",
        "* Machine Learning -> create\n",
        "* ml.azure.com\n",
        "* Manage -> Compute\n",
        "* create compute instance CPU Standard_DS3_v2\n",
        "* create compute clusters CPU Standard_DS3_v2\n",
        "* Assets -> Datasets create dataset from web\n",
        "* Headers from the first file\n",
        "* Automated ML -> New automated ML run\n",
        "* New experiment name\n",
        "* Type Classification\n",
        "* Gotowe - można sprawdzić rezultaty"
      ],
      "metadata": {}
    },
    {
      "cell_type": "markdown",
      "source": [
        "## Jupyter Notebook"
      ],
      "metadata": {}
    },
    {
      "cell_type": "markdown",
      "source": [
        "### Azure ML Workspace"
      ],
      "metadata": {}
    },
    {
      "cell_type": "code",
      "source": [
        "pip install --upgrade --upgrade-strategy eager azureml-sdk"
      ],
      "outputs": [
        {
          "output_type": "stream",
          "name": "stdout",
          "text": [
            "Requirement already up-to-date: azureml-sdk in /anaconda/envs/azureml_py36/lib/python3.6/site-packages (1.21.0)\n",
            "Requirement already up-to-date: azureml-core~=1.21.0 in /anaconda/envs/azureml_py36/lib/python3.6/site-packages (from azureml-sdk) (1.21.0.post1)\n",
            "Requirement already up-to-date: azureml-train-automl-client~=1.21.0 in /anaconda/envs/azureml_py36/lib/python3.6/site-packages (from azureml-sdk) (1.21.0)\n",
            "Requirement already up-to-date: azureml-dataset-runtime[fuse]~=1.21.0 in /anaconda/envs/azureml_py36/lib/python3.6/site-packages (from azureml-sdk) (1.21.0)\n",
            "Requirement already up-to-date: azureml-train~=1.21.0 in /anaconda/envs/azureml_py36/lib/python3.6/site-packages (from azureml-sdk) (1.21.0)\n",
            "Requirement already up-to-date: azureml-pipeline~=1.21.0 in /anaconda/envs/azureml_py36/lib/python3.6/site-packages (from azureml-sdk) (1.21.0)\n",
            "Requirement already up-to-date: SecretStorage in /anaconda/envs/azureml_py36/lib/python3.6/site-packages (from azureml-core~=1.21.0->azureml-sdk) (3.3.0)\n",
            "Requirement already up-to-date: azure-common>=1.1.12 in /anaconda/envs/azureml_py36/lib/python3.6/site-packages (from azureml-core~=1.21.0->azureml-sdk) (1.1.26)\n",
            "Requirement already up-to-date: msrest>=0.5.1 in /anaconda/envs/azureml_py36/lib/python3.6/site-packages (from azureml-core~=1.21.0->azureml-sdk) (0.6.20)\n",
            "Requirement already up-to-date: pathspec in /anaconda/envs/azureml_py36/lib/python3.6/site-packages (from azureml-core~=1.21.0->azureml-sdk) (0.8.1)\n",
            "Requirement already up-to-date: pyopenssl<21.0.0 in /anaconda/envs/azureml_py36/lib/python3.6/site-packages (from azureml-core~=1.21.0->azureml-sdk) (20.0.1)\n",
            "Requirement already up-to-date: cryptography!=1.9,!=2.0.*,!=2.1.*,!=2.2.* in /anaconda/envs/azureml_py36/lib/python3.6/site-packages (from azureml-core~=1.21.0->azureml-sdk) (3.3.1)\n",
            "Requirement already up-to-date: python-dateutil>=2.7.3 in /anaconda/envs/azureml_py36/lib/python3.6/site-packages (from azureml-core~=1.21.0->azureml-sdk) (2.8.1)\n",
            "Requirement already up-to-date: msrestazure>=0.4.33 in /anaconda/envs/azureml_py36/lib/python3.6/site-packages (from azureml-core~=1.21.0->azureml-sdk) (0.6.4)\n",
            "Requirement already up-to-date: contextlib2 in /anaconda/envs/azureml_py36/lib/python3.6/site-packages (from azureml-core~=1.21.0->azureml-sdk) (0.6.0.post1)\n",
            "Requirement already up-to-date: azure-graphrbac<1.0.0,>=0.40.0 in /anaconda/envs/azureml_py36/lib/python3.6/site-packages (from azureml-core~=1.21.0->azureml-sdk) (0.61.1)\n",
            "Requirement already up-to-date: pytz in /anaconda/envs/azureml_py36/lib/python3.6/site-packages (from azureml-core~=1.21.0->azureml-sdk) (2020.5)\n",
            "Requirement already up-to-date: jsonpickle in /anaconda/envs/azureml_py36/lib/python3.6/site-packages (from azureml-core~=1.21.0->azureml-sdk) (1.5.0)\n",
            "Requirement already up-to-date: ruamel.yaml>=0.15.35 in /anaconda/envs/azureml_py36/lib/python3.6/site-packages (from azureml-core~=1.21.0->azureml-sdk) (0.16.12)\n",
            "Requirement already up-to-date: PyJWT<2.0.0 in /anaconda/envs/azureml_py36/lib/python3.6/site-packages (from azureml-core~=1.21.0->azureml-sdk) (1.7.1)\n",
            "Requirement already up-to-date: ndg-httpsclient in /anaconda/envs/azureml_py36/lib/python3.6/site-packages (from azureml-core~=1.21.0->azureml-sdk) (0.5.1)\n",
            "Requirement already up-to-date: azure-mgmt-resource<15.0.0,>=1.2.1 in /anaconda/envs/azureml_py36/lib/python3.6/site-packages (from azureml-core~=1.21.0->azureml-sdk) (12.0.0)\n",
            "Requirement already up-to-date: requests>=2.19.1 in /anaconda/envs/azureml_py36/lib/python3.6/site-packages (from azureml-core~=1.21.0->azureml-sdk) (2.25.1)\n",
            "Requirement already up-to-date: azure-mgmt-storage<16.0.0,>=1.5.0 in /anaconda/envs/azureml_py36/lib/python3.6/site-packages (from azureml-core~=1.21.0->azureml-sdk) (11.2.0)\n",
            "Requirement already up-to-date: adal>=1.2.0 in /anaconda/envs/azureml_py36/lib/python3.6/site-packages (from azureml-core~=1.21.0->azureml-sdk) (1.2.6)\n",
            "Requirement already up-to-date: jmespath in /anaconda/envs/azureml_py36/lib/python3.6/site-packages (from azureml-core~=1.21.0->azureml-sdk) (0.10.0)\n",
            "Requirement already up-to-date: azure-mgmt-containerregistry>=2.0.0 in /anaconda/envs/azureml_py36/lib/python3.6/site-packages (from azureml-core~=1.21.0->azureml-sdk) (2.8.0)\n",
            "Requirement already up-to-date: azure-mgmt-authorization<1.0.0,>=0.40.0 in /anaconda/envs/azureml_py36/lib/python3.6/site-packages (from azureml-core~=1.21.0->azureml-sdk) (0.61.0)\n",
            "Requirement already up-to-date: azure-mgmt-keyvault<7.0.0,>=0.40.0 in /anaconda/envs/azureml_py36/lib/python3.6/site-packages (from azureml-core~=1.21.0->azureml-sdk) (2.2.0)\n",
            "Requirement already up-to-date: docker in /anaconda/envs/azureml_py36/lib/python3.6/site-packages (from azureml-core~=1.21.0->azureml-sdk) (4.4.1)\n",
            "Requirement already up-to-date: urllib3>=1.23 in /anaconda/envs/azureml_py36/lib/python3.6/site-packages (from azureml-core~=1.21.0->azureml-sdk) (1.26.3)\n",
            "Requirement already up-to-date: backports.tempfile in /anaconda/envs/azureml_py36/lib/python3.6/site-packages (from azureml-core~=1.21.0->azureml-sdk) (1.0)\n",
            "Requirement already up-to-date: azureml-telemetry~=1.21.0 in /anaconda/envs/azureml_py36/lib/python3.6/site-packages (from azureml-train-automl-client~=1.21.0->azureml-sdk) (1.21.0)\n",
            "Requirement already up-to-date: azureml-automl-core~=1.21.0 in /anaconda/envs/azureml_py36/lib/python3.6/site-packages (from azureml-train-automl-client~=1.21.0->azureml-sdk) (1.21.0)\n",
            "Requirement already up-to-date: numpy!=1.19.3; sys_platform == \"linux\" in /anaconda/envs/azureml_py36/lib/python3.6/site-packages (from azureml-dataset-runtime[fuse]~=1.21.0->azureml-sdk) (1.19.5)\n",
            "Requirement already up-to-date: pyarrow<2.0.0,>=0.17.0 in /anaconda/envs/azureml_py36/lib/python3.6/site-packages (from azureml-dataset-runtime[fuse]~=1.21.0->azureml-sdk) (1.0.1)\n",
            "Requirement already up-to-date: azureml-dataprep<2.9.0a,>=2.8.0a in /anaconda/envs/azureml_py36/lib/python3.6/site-packages (from azureml-dataset-runtime[fuse]~=1.21.0->azureml-sdk) (2.8.2)\n",
            "Requirement already up-to-date: fusepy<4.0.0,>=3.0.1; extra == \"fuse\" in /anaconda/envs/azureml_py36/lib/python3.6/site-packages (from azureml-dataset-runtime[fuse]~=1.21.0->azureml-sdk) (3.0.1)\n",
            "Requirement already up-to-date: azureml-train-core~=1.21.0 in /anaconda/envs/azureml_py36/lib/python3.6/site-packages (from azureml-train~=1.21.0->azureml-sdk) (1.21.0)\n",
            "Requirement already up-to-date: azureml-pipeline-steps~=1.21.0 in /anaconda/envs/azureml_py36/lib/python3.6/site-packages (from azureml-pipeline~=1.21.0->azureml-sdk) (1.21.0)\n",
            "Requirement already up-to-date: azureml-pipeline-core~=1.21.0 in /anaconda/envs/azureml_py36/lib/python3.6/site-packages (from azureml-pipeline~=1.21.0->azureml-sdk) (1.21.0)\n",
            "Requirement already up-to-date: jeepney>=0.6 in /anaconda/envs/azureml_py36/lib/python3.6/site-packages (from SecretStorage->azureml-core~=1.21.0->azureml-sdk) (0.6.0)\n",
            "Requirement already up-to-date: requests-oauthlib>=0.5.0 in /anaconda/envs/azureml_py36/lib/python3.6/site-packages (from msrest>=0.5.1->azureml-core~=1.21.0->azureml-sdk) (1.3.0)\n",
            "Requirement already up-to-date: isodate>=0.6.0 in /anaconda/envs/azureml_py36/lib/python3.6/site-packages (from msrest>=0.5.1->azureml-core~=1.21.0->azureml-sdk) (0.6.0)\n",
            "Requirement already up-to-date: certifi>=2017.4.17 in /anaconda/envs/azureml_py36/lib/python3.6/site-packages (from msrest>=0.5.1->azureml-core~=1.21.0->azureml-sdk) (2020.12.5)\n",
            "Requirement already up-to-date: six>=1.5.2 in /anaconda/envs/azureml_py36/lib/python3.6/site-packages (from pyopenssl<21.0.0->azureml-core~=1.21.0->azureml-sdk) (1.15.0)\n",
            "Requirement already up-to-date: cffi>=1.12 in /anaconda/envs/azureml_py36/lib/python3.6/site-packages (from cryptography!=1.9,!=2.0.*,!=2.1.*,!=2.2.*->azureml-core~=1.21.0->azureml-sdk) (1.14.4)\n",
            "Requirement already up-to-date: importlib-metadata; python_version < \"3.8\" in /anaconda/envs/azureml_py36/lib/python3.6/site-packages (from jsonpickle->azureml-core~=1.21.0->azureml-sdk) (3.4.0)\n",
            "Requirement already up-to-date: ruamel.yaml.clib>=0.1.2; platform_python_implementation == \"CPython\" and python_version < \"3.9\" in /anaconda/envs/azureml_py36/lib/python3.6/site-packages (from ruamel.yaml>=0.15.35->azureml-core~=1.21.0->azureml-sdk) (0.2.2)\n",
            "Requirement already up-to-date: pyasn1>=0.1.1 in /anaconda/envs/azureml_py36/lib/python3.6/site-packages (from ndg-httpsclient->azureml-core~=1.21.0->azureml-sdk) (0.4.8)\n",
            "Requirement already up-to-date: idna<3,>=2.5 in /anaconda/envs/azureml_py36/lib/python3.6/site-packages (from requests>=2.19.1->azureml-core~=1.21.0->azureml-sdk) (2.10)\n",
            "Requirement already up-to-date: chardet<5,>=3.0.2 in /anaconda/envs/azureml_py36/lib/python3.6/site-packages (from requests>=2.19.1->azureml-core~=1.21.0->azureml-sdk) (4.0.0)\n",
            "Requirement already up-to-date: websocket-client>=0.32.0 in /anaconda/envs/azureml_py36/lib/python3.6/site-packages (from docker->azureml-core~=1.21.0->azureml-sdk) (0.57.0)\n",
            "Requirement already up-to-date: backports.weakref in /anaconda/envs/azureml_py36/lib/python3.6/site-packages (from backports.tempfile->azureml-core~=1.21.0->azureml-sdk) (1.0.post1)\n",
            "Requirement already up-to-date: applicationinsights in /anaconda/envs/azureml_py36/lib/python3.6/site-packages (from azureml-telemetry~=1.21.0->azureml-train-automl-client~=1.21.0->azureml-sdk) (0.11.9)\n",
            "Requirement already up-to-date: azure-identity<1.5.0,>=1.2.0 in /anaconda/envs/azureml_py36/lib/python3.6/site-packages (from azureml-dataprep<2.9.0a,>=2.8.0a->azureml-dataset-runtime[fuse]~=1.21.0->azureml-sdk) (1.4.1)\n",
            "Requirement already up-to-date: azureml-dataprep-rslex<1.7.0a,>=1.6.0dev0 in /anaconda/envs/azureml_py36/lib/python3.6/site-packages (from azureml-dataprep<2.9.0a,>=2.8.0a->azureml-dataset-runtime[fuse]~=1.21.0->azureml-sdk) (1.6.0)\n",
            "Requirement already up-to-date: cloudpickle<2.0.0,>=1.1.0 in /anaconda/envs/azureml_py36/lib/python3.6/site-packages (from azureml-dataprep<2.9.0a,>=2.8.0a->azureml-dataset-runtime[fuse]~=1.21.0->azureml-sdk) (1.6.0)\n",
            "Requirement already up-to-date: dotnetcore2<3.0.0,>=2.1.14 in /anaconda/envs/azureml_py36/lib/python3.6/site-packages (from azureml-dataprep<2.9.0a,>=2.8.0a->azureml-dataset-runtime[fuse]~=1.21.0->azureml-sdk) (2.1.20)\n",
            "Requirement already up-to-date: azureml-dataprep-native<29.0.0,>=28.0.0 in /anaconda/envs/azureml_py36/lib/python3.6/site-packages (from azureml-dataprep<2.9.0a,>=2.8.0a->azureml-dataset-runtime[fuse]~=1.21.0->azureml-sdk) (28.0.0)\n",
            "Requirement already up-to-date: azureml-train-restclients-hyperdrive~=1.21.0 in /anaconda/envs/azureml_py36/lib/python3.6/site-packages (from azureml-train-core~=1.21.0->azureml-train~=1.21.0->azureml-sdk) (1.21.0)\n",
            "Requirement already up-to-date: oauthlib>=3.0.0 in /anaconda/envs/azureml_py36/lib/python3.6/site-packages (from requests-oauthlib>=0.5.0->msrest>=0.5.1->azureml-core~=1.21.0->azureml-sdk) (3.1.0)\n",
            "Requirement already up-to-date: pycparser in /anaconda/envs/azureml_py36/lib/python3.6/site-packages (from cffi>=1.12->cryptography!=1.9,!=2.0.*,!=2.1.*,!=2.2.*->azureml-core~=1.21.0->azureml-sdk) (2.20)\n",
            "Requirement already up-to-date: typing-extensions>=3.6.4; python_version < \"3.8\" in /anaconda/envs/azureml_py36/lib/python3.6/site-packages (from importlib-metadata; python_version < \"3.8\"->jsonpickle->azureml-core~=1.21.0->azureml-sdk) (3.7.4.3)\n",
            "Requirement already up-to-date: zipp>=0.5 in /anaconda/envs/azureml_py36/lib/python3.6/site-packages (from importlib-metadata; python_version < \"3.8\"->jsonpickle->azureml-core~=1.21.0->azureml-sdk) (3.4.0)\n",
            "Requirement already up-to-date: msal-extensions~=0.2.2 in /anaconda/envs/azureml_py36/lib/python3.6/site-packages (from azure-identity<1.5.0,>=1.2.0->azureml-dataprep<2.9.0a,>=2.8.0a->azureml-dataset-runtime[fuse]~=1.21.0->azureml-sdk) (0.2.2)\n",
            "Requirement already up-to-date: azure-core<2.0.0,>=1.0.0 in /anaconda/envs/azureml_py36/lib/python3.6/site-packages (from azure-identity<1.5.0,>=1.2.0->azureml-dataprep<2.9.0a,>=2.8.0a->azureml-dataset-runtime[fuse]~=1.21.0->azureml-sdk) (1.10.0)\n",
            "Requirement already up-to-date: msal<2.0.0,>=1.3.0 in /anaconda/envs/azureml_py36/lib/python3.6/site-packages (from azure-identity<1.5.0,>=1.2.0->azureml-dataprep<2.9.0a,>=2.8.0a->azureml-dataset-runtime[fuse]~=1.21.0->azureml-sdk) (1.8.0)\n",
            "Requirement already up-to-date: distro>=1.2.0 in /anaconda/envs/azureml_py36/lib/python3.6/site-packages (from dotnetcore2<3.0.0,>=2.1.14->azureml-dataprep<2.9.0a,>=2.8.0a->azureml-dataset-runtime[fuse]~=1.21.0->azureml-sdk) (1.5.0)\n",
            "Requirement already up-to-date: portalocker~=1.0; platform_system != \"Windows\" in /anaconda/envs/azureml_py36/lib/python3.6/site-packages (from msal-extensions~=0.2.2->azure-identity<1.5.0,>=1.2.0->azureml-dataprep<2.9.0a,>=2.8.0a->azureml-dataset-runtime[fuse]~=1.21.0->azureml-sdk) (1.7.1)\n",
            "Note: you may need to restart the kernel to use updated packages.\n"
          ]
        }
      ],
      "execution_count": 1,
      "metadata": {
        "collapsed": true,
        "jupyter": {
          "source_hidden": false,
          "outputs_hidden": false
        },
        "nteract": {
          "transient": {
            "deleting": false
          }
        },
        "gather": {
          "logged": 1611688473601
        }
      }
    },
    {
      "cell_type": "code",
      "source": [
        "import azureml.core\n",
        "print(\"SDK version:\", azureml.core.VERSION)"
      ],
      "outputs": [
        {
          "output_type": "stream",
          "name": "stdout",
          "text": [
            "SDK version: 1.21.0\n"
          ]
        }
      ],
      "execution_count": 2,
      "metadata": {
        "gather": {
          "logged": 1611688474370
        }
      }
    },
    {
      "cell_type": "code",
      "source": [
        "from azureml.core import Workspace, Dataset\n",
        "ws = Workspace.from_config()"
      ],
      "outputs": [],
      "execution_count": 3,
      "metadata": {
        "jupyter": {
          "outputs_hidden": false,
          "source_hidden": false
        },
        "nteract": {
          "transient": {
            "deleting": false
          }
        },
        "gather": {
          "logged": 1611688489890
        }
      }
    },
    {
      "cell_type": "markdown",
      "source": [
        "### Load data"
      ],
      "metadata": {}
    },
    {
      "cell_type": "code",
      "source": [
        "aml_dataset = ws.datasets['titanic']\n",
        "\n",
        "full_df = aml_dataset.to_pandas_dataframe()\n",
        "\n",
        "full_df.head(5)"
      ],
      "outputs": [
        {
          "output_type": "execute_result",
          "execution_count": 4,
          "data": {
            "text/plain": "   PassengerId  Survived  Pclass  \\\n0            1         0       3   \n1            2         1       1   \n2            3         1       3   \n3            4         1       1   \n4            5         0       3   \n\n                                                Name     Sex   Age  SibSp  \\\n0                            Braund, Mr. Owen Harris    male  22.0      1   \n1  Cumings, Mrs. John Bradley (Florence Briggs Th...  female  38.0      1   \n2                             Heikkinen, Miss. Laina  female  26.0      0   \n3       Futrelle, Mrs. Jacques Heath (Lily May Peel)  female  35.0      1   \n4                           Allen, Mr. William Henry    male  35.0      0   \n\n   Parch            Ticket     Fare Cabin Embarked  \n0      0         A/5 21171   7.2500  None        S  \n1      0          PC 17599  71.2833   C85        C  \n2      0  STON/O2. 3101282   7.9250  None        S  \n3      0            113803  53.1000  C123        S  \n4      0            373450   8.0500  None        S  ",
            "text/html": "<div>\n<style scoped>\n    .dataframe tbody tr th:only-of-type {\n        vertical-align: middle;\n    }\n\n    .dataframe tbody tr th {\n        vertical-align: top;\n    }\n\n    .dataframe thead th {\n        text-align: right;\n    }\n</style>\n<table border=\"1\" class=\"dataframe\">\n  <thead>\n    <tr style=\"text-align: right;\">\n      <th></th>\n      <th>PassengerId</th>\n      <th>Survived</th>\n      <th>Pclass</th>\n      <th>Name</th>\n      <th>Sex</th>\n      <th>Age</th>\n      <th>SibSp</th>\n      <th>Parch</th>\n      <th>Ticket</th>\n      <th>Fare</th>\n      <th>Cabin</th>\n      <th>Embarked</th>\n    </tr>\n  </thead>\n  <tbody>\n    <tr>\n      <th>0</th>\n      <td>1</td>\n      <td>0</td>\n      <td>3</td>\n      <td>Braund, Mr. Owen Harris</td>\n      <td>male</td>\n      <td>22.0</td>\n      <td>1</td>\n      <td>0</td>\n      <td>A/5 21171</td>\n      <td>7.2500</td>\n      <td>None</td>\n      <td>S</td>\n    </tr>\n    <tr>\n      <th>1</th>\n      <td>2</td>\n      <td>1</td>\n      <td>1</td>\n      <td>Cumings, Mrs. John Bradley (Florence Briggs Th...</td>\n      <td>female</td>\n      <td>38.0</td>\n      <td>1</td>\n      <td>0</td>\n      <td>PC 17599</td>\n      <td>71.2833</td>\n      <td>C85</td>\n      <td>C</td>\n    </tr>\n    <tr>\n      <th>2</th>\n      <td>3</td>\n      <td>1</td>\n      <td>3</td>\n      <td>Heikkinen, Miss. Laina</td>\n      <td>female</td>\n      <td>26.0</td>\n      <td>0</td>\n      <td>0</td>\n      <td>STON/O2. 3101282</td>\n      <td>7.9250</td>\n      <td>None</td>\n      <td>S</td>\n    </tr>\n    <tr>\n      <th>3</th>\n      <td>4</td>\n      <td>1</td>\n      <td>1</td>\n      <td>Futrelle, Mrs. Jacques Heath (Lily May Peel)</td>\n      <td>female</td>\n      <td>35.0</td>\n      <td>1</td>\n      <td>0</td>\n      <td>113803</td>\n      <td>53.1000</td>\n      <td>C123</td>\n      <td>S</td>\n    </tr>\n    <tr>\n      <th>4</th>\n      <td>5</td>\n      <td>0</td>\n      <td>3</td>\n      <td>Allen, Mr. William Henry</td>\n      <td>male</td>\n      <td>35.0</td>\n      <td>0</td>\n      <td>0</td>\n      <td>373450</td>\n      <td>8.0500</td>\n      <td>None</td>\n      <td>S</td>\n    </tr>\n  </tbody>\n</table>\n</div>"
          },
          "metadata": {}
        }
      ],
      "execution_count": 4,
      "metadata": {
        "gather": {
          "logged": 1611688499091
        }
      }
    },
    {
      "cell_type": "code",
      "source": [
        "full_df.describe()"
      ],
      "outputs": [
        {
          "output_type": "execute_result",
          "execution_count": 5,
          "data": {
            "text/plain": "       PassengerId    Survived      Pclass         Age       SibSp  \\\ncount   891.000000  891.000000  891.000000  714.000000  891.000000   \nmean    446.000000    0.383838    2.308642   29.699118    0.523008   \nstd     257.353842    0.486592    0.836071   14.526497    1.102743   \nmin       1.000000    0.000000    1.000000    0.420000    0.000000   \n25%     223.500000    0.000000    2.000000   20.125000    0.000000   \n50%     446.000000    0.000000    3.000000   28.000000    0.000000   \n75%     668.500000    1.000000    3.000000   38.000000    1.000000   \nmax     891.000000    1.000000    3.000000   80.000000    8.000000   \n\n            Parch        Fare  \ncount  891.000000  891.000000  \nmean     0.381594   32.204208  \nstd      0.806057   49.693429  \nmin      0.000000    0.000000  \n25%      0.000000    7.910400  \n50%      0.000000   14.454200  \n75%      0.000000   31.000000  \nmax      6.000000  512.329200  ",
            "text/html": "<div>\n<style scoped>\n    .dataframe tbody tr th:only-of-type {\n        vertical-align: middle;\n    }\n\n    .dataframe tbody tr th {\n        vertical-align: top;\n    }\n\n    .dataframe thead th {\n        text-align: right;\n    }\n</style>\n<table border=\"1\" class=\"dataframe\">\n  <thead>\n    <tr style=\"text-align: right;\">\n      <th></th>\n      <th>PassengerId</th>\n      <th>Survived</th>\n      <th>Pclass</th>\n      <th>Age</th>\n      <th>SibSp</th>\n      <th>Parch</th>\n      <th>Fare</th>\n    </tr>\n  </thead>\n  <tbody>\n    <tr>\n      <th>count</th>\n      <td>891.000000</td>\n      <td>891.000000</td>\n      <td>891.000000</td>\n      <td>714.000000</td>\n      <td>891.000000</td>\n      <td>891.000000</td>\n      <td>891.000000</td>\n    </tr>\n    <tr>\n      <th>mean</th>\n      <td>446.000000</td>\n      <td>0.383838</td>\n      <td>2.308642</td>\n      <td>29.699118</td>\n      <td>0.523008</td>\n      <td>0.381594</td>\n      <td>32.204208</td>\n    </tr>\n    <tr>\n      <th>std</th>\n      <td>257.353842</td>\n      <td>0.486592</td>\n      <td>0.836071</td>\n      <td>14.526497</td>\n      <td>1.102743</td>\n      <td>0.806057</td>\n      <td>49.693429</td>\n    </tr>\n    <tr>\n      <th>min</th>\n      <td>1.000000</td>\n      <td>0.000000</td>\n      <td>1.000000</td>\n      <td>0.420000</td>\n      <td>0.000000</td>\n      <td>0.000000</td>\n      <td>0.000000</td>\n    </tr>\n    <tr>\n      <th>25%</th>\n      <td>223.500000</td>\n      <td>0.000000</td>\n      <td>2.000000</td>\n      <td>20.125000</td>\n      <td>0.000000</td>\n      <td>0.000000</td>\n      <td>7.910400</td>\n    </tr>\n    <tr>\n      <th>50%</th>\n      <td>446.000000</td>\n      <td>0.000000</td>\n      <td>3.000000</td>\n      <td>28.000000</td>\n      <td>0.000000</td>\n      <td>0.000000</td>\n      <td>14.454200</td>\n    </tr>\n    <tr>\n      <th>75%</th>\n      <td>668.500000</td>\n      <td>1.000000</td>\n      <td>3.000000</td>\n      <td>38.000000</td>\n      <td>1.000000</td>\n      <td>0.000000</td>\n      <td>31.000000</td>\n    </tr>\n    <tr>\n      <th>max</th>\n      <td>891.000000</td>\n      <td>1.000000</td>\n      <td>3.000000</td>\n      <td>80.000000</td>\n      <td>8.000000</td>\n      <td>6.000000</td>\n      <td>512.329200</td>\n    </tr>\n  </tbody>\n</table>\n</div>"
          },
          "metadata": {}
        }
      ],
      "execution_count": 5,
      "metadata": {
        "gather": {
          "logged": 1611688499892
        }
      }
    },
    {
      "cell_type": "markdown",
      "source": [
        "### Split dataset into train and test"
      ],
      "metadata": {}
    },
    {
      "cell_type": "code",
      "source": [
        "train_dataset, test_dataset = aml_dataset.random_split(0.9, seed=1)\n",
        "\n",
        "train_dataset_df = train_dataset.to_pandas_dataframe()\n",
        "test_dataset_df = test_dataset.to_pandas_dataframe()\n",
        "\n",
        "print(train_dataset_df.describe())"
      ],
      "outputs": [
        {
          "output_type": "stream",
          "name": "stdout",
          "text": [
            "       PassengerId    Survived      Pclass         Age       SibSp  \\\n",
            "count   796.000000  796.000000  796.000000  635.000000  796.000000   \n",
            "mean    443.673367    0.374372    2.312814   29.855118    0.518844   \n",
            "std     258.717152    0.484265    0.835614   14.724893    1.102722   \n",
            "min       1.000000    0.000000    1.000000    0.420000    0.000000   \n",
            "25%     214.750000    0.000000    2.000000   20.000000    0.000000   \n",
            "50%     445.500000    0.000000    3.000000   29.000000    0.000000   \n",
            "75%     666.250000    1.000000    3.000000   39.000000    1.000000   \n",
            "max     891.000000    1.000000    3.000000   80.000000    8.000000   \n",
            "\n",
            "            Parch        Fare  \n",
            "count  796.000000  796.000000  \n",
            "mean     0.373116   31.958856  \n",
            "std      0.794782   49.798224  \n",
            "min      0.000000    0.000000  \n",
            "25%      0.000000    7.895800  \n",
            "50%      0.000000   14.454200  \n",
            "75%      0.000000   31.000000  \n",
            "max      6.000000  512.329200  \n"
          ]
        }
      ],
      "execution_count": 6,
      "metadata": {
        "gather": {
          "logged": 1611688538807
        }
      }
    },
    {
      "cell_type": "markdown",
      "source": [
        "### List remote AML compute targets available"
      ],
      "metadata": {}
    },
    {
      "cell_type": "code",
      "source": [
        "from azureml.core.compute import AmlCompute\n",
        "from azureml.core.compute import ComputeTarget\n",
        "\n",
        "ComputeTarget.list(ws)"
      ],
      "outputs": [
        {
          "output_type": "execute_result",
          "execution_count": 7,
          "data": {
            "text/plain": "[{\n   \"id\": \"/subscriptions/2c4a7b68-f24b-4160-8590-5bde3308718d/resourceGroups/izabela_auto/providers/Microsoft.MachineLearningServices/workspaces/izi/computes/cpu-instances0\",\n   \"name\": \"cpu-instances0\",\n   \"location\": \"northeurope\",\n   \"tags\": null,\n   \"properties\": {\n     \"description\": null,\n     \"computeType\": \"ComputeInstance\",\n     \"computeLocation\": \"northeurope\",\n     \"resourceId\": null,\n     \"provisioningErrors\": null,\n     \"provisioningState\": \"Succeeded\",\n     \"properties\": {\n       \"vmSize\": \"STANDARD_DS2_V2\",\n       \"applications\": [\n         {\n           \"displayName\": \"Jupyter\",\n           \"endpointUri\": \"https://cpu-instances0.northeurope.instances.azureml.ms\"\n         },\n         {\n           \"displayName\": \"Jupyter Lab\",\n           \"endpointUri\": \"https://cpu-instances0.northeurope.instances.azureml.ms/lab\"\n         },\n         {\n           \"displayName\": \"RStudio\",\n           \"endpointUri\": \"https://cpu-instances0-8787.northeurope.instances.azureml.ms\"\n         }\n       ],\n       \"connectivityEndpoints\": {\n         \"publicIpAddress\": \"20.54.26.104\",\n         \"privateIpAddress\": \"10.0.0.5\"\n       },\n       \"sshSettings\": {\n         \"sshPublicAccess\": \"Disabled\",\n         \"adminUserName\": \"azureuser\",\n         \"adminPublicKey\": null,\n         \"sshPort\": 4001\n       },\n       \"personalComputeInstanceSettings\": null,\n       \"subnet\": {\n         \"id\": null\n       },\n       \"errors\": []\n     },\n     \"status\": {\n       \"errors\": [],\n       \"creationTime\": \"2021-01-26T18:53:44.367076+00:00\",\n       \"createdBy\": {\n         \"userObjectId\": \"590e76ae-3aa1-4c53-99c6-f4379b8c5721\",\n         \"userTenantId\": \"3b50229c-cd78-4588-9bcf-97b7629e2f0f\",\n         \"userName\": null\n       },\n       \"modifiedTime\": \"2021-01-26T18:57:01.077489+00:00\",\n       \"state\": \"Running\",\n       \"vmSize\": \"STANDARD_DS2_V2\"\n     }\n   }\n },\n AmlCompute(workspace=Workspace.create(name='izi', subscription_id='2c4a7b68-f24b-4160-8590-5bde3308718d', resource_group='izabela_auto'), name=cpu-cluster0, id=/subscriptions/2c4a7b68-f24b-4160-8590-5bde3308718d/resourceGroups/izabela_auto/providers/Microsoft.MachineLearningServices/workspaces/izi/computes/cpu-cluster0, type=AmlCompute, provisioning_state=Succeeded, location=northeurope, tags=None)]"
          },
          "metadata": {}
        }
      ],
      "execution_count": 7,
      "metadata": {
        "gather": {
          "logged": 1611688542462
        }
      }
    },
    {
      "cell_type": "markdown",
      "source": [
        "### Connect to Remote AML Compute"
      ],
      "metadata": {}
    },
    {
      "cell_type": "code",
      "source": [
        "amlcompute_cluster_name = \"cpu-cluster0\"\n",
        "\n",
        "found = False\n",
        "# Check if this compute target already exists in the workspace.\n",
        "cts = ws.compute_targets\n",
        "\n",
        "if amlcompute_cluster_name in cts and cts[amlcompute_cluster_name].type == 'AmlCompute':\n",
        "     found = True\n",
        "     print('Found existing training cluster.')\n",
        "     # Get existing cluster\n",
        "     aml_remote_compute = cts[amlcompute_cluster_name]\n",
        "        \n",
        "print('Checking cluster status...')\n",
        "aml_remote_compute.wait_for_completion(show_output = True, min_node_count = 0, timeout_in_minutes = 20)"
      ],
      "outputs": [
        {
          "output_type": "stream",
          "name": "stdout",
          "text": [
            "Found existing training cluster.\n",
            "Checking cluster status...\n",
            "Succeeded\n",
            "AmlCompute wait for completion finished\n",
            "\n",
            "Minimum number of nodes requested have been provisioned\n"
          ]
        }
      ],
      "execution_count": 8,
      "metadata": {
        "gather": {
          "logged": 1611688572440
        }
      }
    },
    {
      "cell_type": "code",
      "source": [
        "aml_remote_compute.get_status().serialize()"
      ],
      "outputs": [
        {
          "output_type": "execute_result",
          "execution_count": 9,
          "data": {
            "text/plain": "{'currentNodeCount': 0,\n 'targetNodeCount': 0,\n 'nodeStateCounts': {'preparingNodeCount': 0,\n  'runningNodeCount': 0,\n  'idleNodeCount': 0,\n  'unusableNodeCount': 0,\n  'leavingNodeCount': 0,\n  'preemptedNodeCount': 0},\n 'allocationState': 'Steady',\n 'allocationStateTransitionTime': '2021-01-26T19:00:13.828000+00:00',\n 'errors': None,\n 'creationTime': '2021-01-26T19:00:11.093479+00:00',\n 'modifiedTime': '2021-01-26T19:00:26.417204+00:00',\n 'provisioningState': 'Succeeded',\n 'provisioningStateTransitionTime': None,\n 'scaleSettings': {'minNodeCount': 0,\n  'maxNodeCount': 1,\n  'nodeIdleTimeBeforeScaleDown': 'PT120S'},\n 'vmPriority': 'Dedicated',\n 'vmSize': 'STANDARD_DS2_V2'}"
          },
          "metadata": {}
        }
      ],
      "execution_count": 9,
      "metadata": {
        "gather": {
          "logged": 1611688576005
        }
      }
    },
    {
      "cell_type": "markdown",
      "source": [
        "### List and select primary metric to drive the AutoML regression problem"
      ],
      "metadata": {}
    },
    {
      "cell_type": "code",
      "source": [
        "from azureml.train import automl\n",
        "# Get a list of valid metrics for your given task\n",
        "automl.utilities.get_primary_metrics('classification')"
      ],
      "outputs": [
        {
          "output_type": "execute_result",
          "execution_count": 10,
          "data": {
            "text/plain": "['norm_macro_recall',\n 'accuracy',\n 'precision_score_weighted',\n 'average_precision_score_weighted',\n 'AUC_weighted']"
          },
          "metadata": {}
        }
      ],
      "execution_count": 10,
      "metadata": {
        "gather": {
          "logged": 1611688596447
        }
      }
    },
    {
      "cell_type": "markdown",
      "source": [
        "### Define AutoML Experiment settings"
      ],
      "metadata": {}
    },
    {
      "cell_type": "code",
      "source": [
        "import logging\n",
        "import os\n",
        "\n",
        "from azureml.train.automl import AutoMLConfig\n",
        "\n",
        "project_folder = './automl'\n",
        "os.makedirs(project_folder, exist_ok=True)\n",
        "\n",
        "automl_config = AutoMLConfig(compute_target=aml_remote_compute,\n",
        "                             task='classification',\n",
        "                             primary_metric='accuracy',\n",
        "                             experiment_timeout_minutes=30,                            \n",
        "                             training_data=train_dataset,\n",
        "                             label_column_name=\"Survived\",\n",
        "                             n_cross_validations=5,                                                   \n",
        "                             enable_early_stopping=True,\n",
        "                             featurization='auto',\n",
        "                             debug_log='automated_ml_errors.log',\n",
        "                             verbosity=logging.INFO,\n",
        "                             path=project_folder\n",
        "                             )"
      ],
      "outputs": [],
      "execution_count": 11,
      "metadata": {
        "gather": {
          "logged": 1611688630330
        }
      }
    },
    {
      "cell_type": "markdown",
      "source": [
        "### Define AutoML Experiment settings"
      ],
      "metadata": {}
    },
    {
      "cell_type": "code",
      "source": [
        "from azureml.core import Experiment\n",
        "from datetime import datetime\n",
        "\n",
        "now = datetime.now()\n",
        "time_string = now.strftime(\"%m-%d-%Y-%H\")\n",
        "experiment_name = \"reg-iizi-k-automl-remote-{0}\".format(time_string)\n",
        "print(experiment_name)\n",
        "\n",
        "experiment = Experiment(workspace=ws, name=experiment_name)\n",
        "\n",
        "import time\n",
        "start_time = time.time()\n",
        "            \n",
        "run = experiment.submit(automl_config, show_output=True)\n",
        "\n",
        "print('Manual run timing: --- %s seconds needed for running the whole Remote AutoML Experiment ---' % (time.time() - start_time))"
      ],
      "outputs": [
        {
          "output_type": "stream",
          "name": "stdout",
          "text": [
            "reg-iizi-k-automl-remote-01-26-2021-19\n",
            "Running on remote.\n",
            "No run_configuration provided, running on cpu-cluster0 with default configuration\n",
            "Running on remote compute: cpu-cluster0\n",
            "Parent Run ID: AutoML_7dc1a82c-afc8-4e53-a5cf-4c2d3516a516\n",
            "\n",
            "Current status: FeaturesGeneration. Generating features for the dataset.\n",
            "Current status: ModelSelection. Beginning model selection.\n",
            "\n",
            "****************************************************************************************************\n",
            "DATA GUARDRAILS: \n",
            "\n",
            "TYPE:         Class balancing detection\n",
            "STATUS:       PASSED\n",
            "DESCRIPTION:  Your inputs were analyzed, and all classes are balanced in your training data.\n",
            "              Learn more about imbalanced data: https://aka.ms/AutomatedMLImbalancedData\n",
            "\n",
            "****************************************************************************************************\n",
            "\n",
            "TYPE:         Missing feature values imputation\n",
            "STATUS:       DONE\n",
            "DESCRIPTION:  If the missing values are expected, let the run complete. Otherwise cancel the current run and use a script to customize the handling of missing feature values that may be more appropriate based on the data type and business requirement.\n",
            "              Learn more about missing value imputation: https://aka.ms/AutomatedMLFeaturization\n",
            "DETAILS:      \n",
            "+---------------------------------+---------------------------------+---------------------------------+\n",
            "|Column name                      |Missing value count              |Imputation type                  |\n",
            "+=================================+=================================+=================================+\n",
            "|Age                              |161                              |mean                             |\n",
            "|Embarked                         |2                                |                                 |\n",
            "+---------------------------------+---------------------------------+---------------------------------+\n",
            "\n",
            "****************************************************************************************************\n",
            "\n",
            "TYPE:         High cardinality feature detection\n",
            "STATUS:       DONE\n",
            "DESCRIPTION:  High cardinality features were detected in your inputs and handled.\n",
            "              Learn more about high cardinality feature handling: https://aka.ms/AutomatedMLFeaturization\n",
            "DETAILS:      High cardinality features refer to columns that contain a large percentage of unique values.\n",
            "+---------------------------------+---------------------------------+\n",
            "|Column name                      |Column Content Type              |\n",
            "+=================================+=================================+\n",
            "|Name                             |text                             |\n",
            "+---------------------------------+---------------------------------+\n",
            "\n",
            "****************************************************************************************************\n",
            "\n",
            "****************************************************************************************************\n",
            "ITERATION: The iteration being evaluated.\n",
            "PIPELINE: A summary description of the pipeline being evaluated.\n",
            "DURATION: Time taken for the current iteration.\n",
            "METRIC: The result of computing score on the fitted pipeline.\n",
            "BEST: The best observed score thus far.\n",
            "****************************************************************************************************\n",
            "\n",
            " ITERATION   PIPELINE                                       DURATION      METRIC      BEST\n",
            "         0   MaxAbsScaler LightGBM                          0:00:45       0.8178    0.8178\n",
            "         1   MaxAbsScaler XGBoostClassifier                 0:00:52       0.8229    0.8229\n",
            "         2   MaxAbsScaler RandomForest                      0:00:45       0.7952    0.8229\n",
            "         3   MaxAbsScaler RandomForest                      0:00:37       0.7011    0.8229\n",
            "         4   MaxAbsScaler RandomForest                      0:00:48       0.6708    0.8229\n",
            "         5   MaxAbsScaler RandomForest                      0:00:45       0.7864    0.8229\n",
            "         6   SparseNormalizer XGBoostClassifier             0:00:53       0.8166    0.8229\n",
            "         7   SparseNormalizer XGBoostClassifier             0:00:44       0.7990    0.8229\n",
            "         8   MaxAbsScaler RandomForest                      0:00:57       0.7914    0.8229\n",
            "         9   MaxAbsScaler LogisticRegression                0:00:54       0.8065    0.8229\n",
            "        10   MaxAbsScaler LightGBM                          0:00:42       0.8116    0.8229\n",
            "        11   StandardScalerWrapper LightGBM                 0:00:45       0.8041    0.8229\n",
            "        12   SparseNormalizer XGBoostClassifier             0:00:54       0.8166    0.8229\n",
            "        13   MaxAbsScaler RandomForest                      0:00:57       0.7889    0.8229\n",
            "        14   StandardScalerWrapper ExtremeRandomTrees       0:00:45       0.7914    0.8229\n",
            "        15   SparseNormalizer LightGBM                      0:00:45       0.8028    0.8229\n",
            "        16   MaxAbsScaler RandomForest                      0:00:45       0.6936    0.8229\n",
            "        17   StandardScalerWrapper LogisticRegression       0:01:00       0.7915    0.8229\n",
            "        18   SparseNormalizer XGBoostClassifier             0:00:53       0.7877    0.8229\n",
            "        19   StandardScalerWrapper ExtremeRandomTrees       0:00:51       0.7802    0.8229\n",
            "        20   StandardScalerWrapper ExtremeRandomTrees       0:00:48       0.7990    0.8229\n",
            "        21   StandardScalerWrapper RandomForest             0:00:48       0.7927    0.8229\n",
            "        22   SparseNormalizer XGBoostClassifier             0:00:56       0.8216    0.8229\n",
            "        23   TruncatedSVDWrapper XGBoostClassifier          0:00:54       0.8153    0.8229\n",
            "        24   SparseNormalizer XGBoostClassifier             0:00:58       0.8053    0.8229\n",
            "        25   StandardScalerWrapper XGBoostClassifier        0:00:42       0.6257    0.8229\n",
            "        26   MaxAbsScaler RandomForest                      0:00:42       0.7852    0.8229\n",
            "        27   MaxAbsScaler LogisticRegression                0:00:45       0.8015    0.8229\n",
            "        28   MaxAbsScaler RandomForest                      0:00:48       0.6257    0.8229\n",
            "        29    VotingEnsemble                                0:01:20       0.8492    0.8492\n"
          ]
        }
      ],
      "execution_count": 12,
      "metadata": {
        "gather": {
          "logged": 1611671003516
        }
      }
    },
    {
      "cell_type": "markdown",
      "source": [
        "Niestety tym razem również uzyskuję błąd. Modele zapisuja się w Experiments. Ale notebook jakby się z tym nie łączył.\r\n",
        "Nie wiem czym to jest spowodowane. \r\n",
        "Próbowałam uruchomić to tutaj w Azure kilkakrotnie, niestety bez powodzenia.\r\n",
        "Najlepszy model na zbiorze treningowym to: VotingEnsamble z wynikiem 0.8492, który jest bardzo dobry."
      ],
      "metadata": {
        "nteract": {
          "transient": {
            "deleting": false
          }
        }
      }
    },
    {
      "cell_type": "markdown",
      "source": [
        "### Explore results with Widget"
      ],
      "metadata": {}
    },
    {
      "cell_type": "code",
      "source": [
        "from azureml.widgets import RunDetails\n",
        "RunDetails(run).show()"
      ],
      "outputs": [
        {
          "output_type": "display_data",
          "data": {
            "text/plain": "_AutoMLWidget(widget_settings={'childWidgetDisplay': 'popup', 'send_telemetry': False, 'log_level': 'INFO', 's…",
            "application/vnd.jupyter.widget-view+json": {
              "version_major": 2,
              "version_minor": 0,
              "model_id": "ca0da75371844bf7b5c55d8bf1309620"
            }
          },
          "metadata": {}
        },
        {
          "output_type": "display_data",
          "data": {
            "application/aml.mini.widget.v1": "{\"status\": \"Completed\", \"workbench_run_details_uri\": \"https://ml.azure.com/experiments/reg-iizi-k-automl-remote-01-26-2021-19/runs/AutoML_7dc1a82c-afc8-4e53-a5cf-4c2d3516a516?wsid=/subscriptions/2c4a7b68-f24b-4160-8590-5bde3308718d/resourcegroups/izabela_auto/workspaces/izi\", \"run_id\": \"AutoML_7dc1a82c-afc8-4e53-a5cf-4c2d3516a516\", \"run_properties\": {\"run_id\": \"AutoML_7dc1a82c-afc8-4e53-a5cf-4c2d3516a516\", \"created_utc\": \"2021-01-26T19:17:20.968354Z\", \"properties\": {\"num_iterations\": \"1000\", \"training_type\": \"TrainFull\", \"acquisition_function\": \"EI\", \"primary_metric\": \"accuracy\", \"train_split\": \"0\", \"acquisition_parameter\": \"0\", \"num_cross_validation\": \"5\", \"target\": \"cpu-cluster0\", \"AMLSettingsJsonString\": \"{\\\"path\\\":null,\\\"name\\\":\\\"reg-iizi-k-automl-remote-01-26-2021-19\\\",\\\"subscription_id\\\":\\\"2c4a7b68-f24b-4160-8590-5bde3308718d\\\",\\\"resource_group\\\":\\\"izabela_auto\\\",\\\"workspace_name\\\":\\\"izi\\\",\\\"region\\\":\\\"northeurope\\\",\\\"compute_target\\\":\\\"cpu-cluster0\\\",\\\"spark_service\\\":null,\\\"azure_service\\\":\\\"remote\\\",\\\"many_models\\\":false,\\\"pipeline_fetch_max_batch_size\\\":1,\\\"iterations\\\":1000,\\\"primary_metric\\\":\\\"accuracy\\\",\\\"task_type\\\":\\\"classification\\\",\\\"data_script\\\":null,\\\"validation_size\\\":0.0,\\\"n_cross_validations\\\":5,\\\"y_min\\\":null,\\\"y_max\\\":null,\\\"num_classes\\\":null,\\\"featurization\\\":\\\"auto\\\",\\\"_ignore_package_version_incompatibilities\\\":false,\\\"is_timeseries\\\":false,\\\"max_cores_per_iteration\\\":1,\\\"max_concurrent_iterations\\\":1,\\\"iteration_timeout_minutes\\\":null,\\\"mem_in_mb\\\":null,\\\"enforce_time_on_windows\\\":false,\\\"experiment_timeout_minutes\\\":30,\\\"experiment_exit_score\\\":null,\\\"whitelist_models\\\":null,\\\"blacklist_algos\\\":[\\\"TensorFlowLinearClassifier\\\",\\\"TensorFlowDNN\\\"],\\\"supported_models\\\":[\\\"LogisticRegression\\\",\\\"SGD\\\",\\\"RandomForest\\\",\\\"DecisionTree\\\",\\\"XGBoostClassifier\\\",\\\"TensorFlowDNN\\\",\\\"TensorFlowLinearClassifier\\\",\\\"LightGBM\\\",\\\"BernoulliNaiveBayes\\\",\\\"AveragedPerceptronClassifier\\\",\\\"MultinomialNaiveBayes\\\",\\\"SVM\\\",\\\"KNN\\\",\\\"ExtremeRandomTrees\\\",\\\"GradientBoosting\\\",\\\"LinearSVM\\\"],\\\"auto_blacklist\\\":true,\\\"blacklist_samples_reached\\\":false,\\\"exclude_nan_labels\\\":true,\\\"verbosity\\\":20,\\\"_debug_log\\\":\\\"azureml_automl.log\\\",\\\"show_warnings\\\":false,\\\"model_explainability\\\":true,\\\"service_url\\\":null,\\\"sdk_url\\\":null,\\\"sdk_packages\\\":null,\\\"enable_onnx_compatible_models\\\":false,\\\"enable_split_onnx_featurizer_estimator_models\\\":false,\\\"vm_type\\\":\\\"STANDARD_DS2_V2\\\",\\\"telemetry_verbosity\\\":20,\\\"send_telemetry\\\":true,\\\"enable_dnn\\\":false,\\\"scenario\\\":\\\"SDK-1.13.0\\\",\\\"environment_label\\\":null,\\\"force_text_dnn\\\":false,\\\"enable_feature_sweeping\\\":true,\\\"enable_early_stopping\\\":true,\\\"early_stopping_n_iters\\\":10,\\\"metrics\\\":null,\\\"enable_ensembling\\\":true,\\\"enable_stack_ensembling\\\":true,\\\"ensemble_iterations\\\":15,\\\"enable_tf\\\":false,\\\"enable_subsampling\\\":null,\\\"subsample_seed\\\":null,\\\"enable_nimbusml\\\":false,\\\"enable_streaming\\\":false,\\\"force_streaming\\\":false,\\\"track_child_runs\\\":true,\\\"allowed_private_models\\\":[],\\\"label_column_name\\\":\\\"Survived\\\",\\\"weight_column_name\\\":null,\\\"cv_split_column_names\\\":null,\\\"enable_local_managed\\\":false,\\\"_local_managed_run_id\\\":null,\\\"cost_mode\\\":1,\\\"lag_length\\\":0,\\\"metric_operation\\\":\\\"maximize\\\",\\\"preprocess\\\":true}\", \"DataPrepJsonString\": \"{\\\\\\\"training_data\\\\\\\": \\\\\\\"{\\\\\\\\\\\\\\\"blocks\\\\\\\\\\\\\\\": [{\\\\\\\\\\\\\\\"id\\\\\\\\\\\\\\\": \\\\\\\\\\\\\\\"5e5c833f-7746-4eb4-b9a6-8ae97188af80\\\\\\\\\\\\\\\", \\\\\\\\\\\\\\\"type\\\\\\\\\\\\\\\": \\\\\\\\\\\\\\\"Microsoft.DPrep.GetFilesBlock\\\\\\\\\\\\\\\", \\\\\\\\\\\\\\\"arguments\\\\\\\\\\\\\\\": {\\\\\\\\\\\\\\\"isArchive\\\\\\\\\\\\\\\": false, \\\\\\\\\\\\\\\"path\\\\\\\\\\\\\\\": {\\\\\\\\\\\\\\\"target\\\\\\\\\\\\\\\": 4, \\\\\\\\\\\\\\\"resourceDetails\\\\\\\\\\\\\\\": [{\\\\\\\\\\\\\\\"path\\\\\\\\\\\\\\\": \\\\\\\\\\\\\\\"https://gist.githubusercontent.com/michhar/2dfd2de0d4f8727f873422c5d959fff5/raw/fa71405126017e6a37bea592440b4bee94bf7b9e/titanic.csv\\\\\\\\\\\\\\\"}]}}, \\\\\\\\\\\\\\\"localData\\\\\\\\\\\\\\\": {}, \\\\\\\\\\\\\\\"isEnabled\\\\\\\\\\\\\\\": true, \\\\\\\\\\\\\\\"name\\\\\\\\\\\\\\\": null, \\\\\\\\\\\\\\\"annotation\\\\\\\\\\\\\\\": null}, {\\\\\\\\\\\\\\\"id\\\\\\\\\\\\\\\": \\\\\\\\\\\\\\\"6cf690a9-a121-45eb-8339-6c971b182f7d\\\\\\\\\\\\\\\", \\\\\\\\\\\\\\\"type\\\\\\\\\\\\\\\": \\\\\\\\\\\\\\\"Microsoft.DPrep.ParseDelimitedBlock\\\\\\\\\\\\\\\", \\\\\\\\\\\\\\\"arguments\\\\\\\\\\\\\\\": {\\\\\\\\\\\\\\\"columnHeadersMode\\\\\\\\\\\\\\\": 1, \\\\\\\\\\\\\\\"fileEncoding\\\\\\\\\\\\\\\": 0, \\\\\\\\\\\\\\\"handleQuotedLineBreaks\\\\\\\\\\\\\\\": false, \\\\\\\\\\\\\\\"preview\\\\\\\\\\\\\\\": false, \\\\\\\\\\\\\\\"separator\\\\\\\\\\\\\\\": \\\\\\\\\\\\\\\",\\\\\\\\\\\\\\\", \\\\\\\\\\\\\\\"skipRows\\\\\\\\\\\\\\\": 0, \\\\\\\\\\\\\\\"skipRowsMode\\\\\\\\\\\\\\\": 0}, \\\\\\\\\\\\\\\"localData\\\\\\\\\\\\\\\": {}, \\\\\\\\\\\\\\\"isEnabled\\\\\\\\\\\\\\\": true, \\\\\\\\\\\\\\\"name\\\\\\\\\\\\\\\": null, \\\\\\\\\\\\\\\"annotation\\\\\\\\\\\\\\\": null}, {\\\\\\\\\\\\\\\"id\\\\\\\\\\\\\\\": \\\\\\\\\\\\\\\"c97366fe-78f3-40f0-a56b-970fcfba61e6\\\\\\\\\\\\\\\", \\\\\\\\\\\\\\\"type\\\\\\\\\\\\\\\": \\\\\\\\\\\\\\\"Microsoft.DPrep.DropColumnsBlock\\\\\\\\\\\\\\\", \\\\\\\\\\\\\\\"arguments\\\\\\\\\\\\\\\": {\\\\\\\\\\\\\\\"columns\\\\\\\\\\\\\\\": {\\\\\\\\\\\\\\\"type\\\\\\\\\\\\\\\": 0, \\\\\\\\\\\\\\\"details\\\\\\\\\\\\\\\": {\\\\\\\\\\\\\\\"selectedColumns\\\\\\\\\\\\\\\": [\\\\\\\\\\\\\\\"Path\\\\\\\\\\\\\\\"]}}}, \\\\\\\\\\\\\\\"localData\\\\\\\\\\\\\\\": {}, \\\\\\\\\\\\\\\"isEnabled\\\\\\\\\\\\\\\": true, \\\\\\\\\\\\\\\"name\\\\\\\\\\\\\\\": null, \\\\\\\\\\\\\\\"annotation\\\\\\\\\\\\\\\": null}, {\\\\\\\\\\\\\\\"id\\\\\\\\\\\\\\\": \\\\\\\\\\\\\\\"1fd3dec3-0014-47bb-975a-715bd15060af\\\\\\\\\\\\\\\", \\\\\\\\\\\\\\\"type\\\\\\\\\\\\\\\": \\\\\\\\\\\\\\\"Microsoft.DPrep.SetColumnTypesBlock\\\\\\\\\\\\\\\", \\\\\\\\\\\\\\\"arguments\\\\\\\\\\\\\\\": {\\\\\\\\\\\\\\\"columnConversion\\\\\\\\\\\\\\\": [{\\\\\\\\\\\\\\\"column\\\\\\\\\\\\\\\": {\\\\\\\\\\\\\\\"type\\\\\\\\\\\\\\\": 2, \\\\\\\\\\\\\\\"details\\\\\\\\\\\\\\\": {\\\\\\\\\\\\\\\"selectedColumn\\\\\\\\\\\\\\\": \\\\\\\\\\\\\\\"Path\\\\\\\\\\\\\\\"}}, \\\\\\\\\\\\\\\"typeProperty\\\\\\\\\\\\\\\": 0}, {\\\\\\\\\\\\\\\"column\\\\\\\\\\\\\\\": {\\\\\\\\\\\\\\\"type\\\\\\\\\\\\\\\": 2, \\\\\\\\\\\\\\\"details\\\\\\\\\\\\\\\": {\\\\\\\\\\\\\\\"selectedColumn\\\\\\\\\\\\\\\": \\\\\\\\\\\\\\\"PassengerId\\\\\\\\\\\\\\\"}}, \\\\\\\\\\\\\\\"typeProperty\\\\\\\\\\\\\\\": 2}, {\\\\\\\\\\\\\\\"column\\\\\\\\\\\\\\\": {\\\\\\\\\\\\\\\"type\\\\\\\\\\\\\\\": 2, \\\\\\\\\\\\\\\"details\\\\\\\\\\\\\\\": {\\\\\\\\\\\\\\\"selectedColumn\\\\\\\\\\\\\\\": \\\\\\\\\\\\\\\"Survived\\\\\\\\\\\\\\\"}}, \\\\\\\\\\\\\\\"typeProperty\\\\\\\\\\\\\\\": 2}, {\\\\\\\\\\\\\\\"column\\\\\\\\\\\\\\\": {\\\\\\\\\\\\\\\"type\\\\\\\\\\\\\\\": 2, \\\\\\\\\\\\\\\"details\\\\\\\\\\\\\\\": {\\\\\\\\\\\\\\\"selectedColumn\\\\\\\\\\\\\\\": \\\\\\\\\\\\\\\"Pclass\\\\\\\\\\\\\\\"}}, \\\\\\\\\\\\\\\"typeProperty\\\\\\\\\\\\\\\": 2}, {\\\\\\\\\\\\\\\"column\\\\\\\\\\\\\\\": {\\\\\\\\\\\\\\\"type\\\\\\\\\\\\\\\": 2, \\\\\\\\\\\\\\\"details\\\\\\\\\\\\\\\": {\\\\\\\\\\\\\\\"selectedColumn\\\\\\\\\\\\\\\": \\\\\\\\\\\\\\\"Name\\\\\\\\\\\\\\\"}}, \\\\\\\\\\\\\\\"typeProperty\\\\\\\\\\\\\\\": 0}, {\\\\\\\\\\\\\\\"column\\\\\\\\\\\\\\\": {\\\\\\\\\\\\\\\"type\\\\\\\\\\\\\\\": 2, \\\\\\\\\\\\\\\"details\\\\\\\\\\\\\\\": {\\\\\\\\\\\\\\\"selectedColumn\\\\\\\\\\\\\\\": \\\\\\\\\\\\\\\"Sex\\\\\\\\\\\\\\\"}}, \\\\\\\\\\\\\\\"typeProperty\\\\\\\\\\\\\\\": 0}, {\\\\\\\\\\\\\\\"column\\\\\\\\\\\\\\\": {\\\\\\\\\\\\\\\"type\\\\\\\\\\\\\\\": 2, \\\\\\\\\\\\\\\"details\\\\\\\\\\\\\\\": {\\\\\\\\\\\\\\\"selectedColumn\\\\\\\\\\\\\\\": \\\\\\\\\\\\\\\"Age\\\\\\\\\\\\\\\"}}, \\\\\\\\\\\\\\\"typeProperty\\\\\\\\\\\\\\\": 3}, {\\\\\\\\\\\\\\\"column\\\\\\\\\\\\\\\": {\\\\\\\\\\\\\\\"type\\\\\\\\\\\\\\\": 2, \\\\\\\\\\\\\\\"details\\\\\\\\\\\\\\\": {\\\\\\\\\\\\\\\"selectedColumn\\\\\\\\\\\\\\\": \\\\\\\\\\\\\\\"SibSp\\\\\\\\\\\\\\\"}}, \\\\\\\\\\\\\\\"typeProperty\\\\\\\\\\\\\\\": 2}, {\\\\\\\\\\\\\\\"column\\\\\\\\\\\\\\\": {\\\\\\\\\\\\\\\"type\\\\\\\\\\\\\\\": 2, \\\\\\\\\\\\\\\"details\\\\\\\\\\\\\\\": {\\\\\\\\\\\\\\\"selectedColumn\\\\\\\\\\\\\\\": \\\\\\\\\\\\\\\"Parch\\\\\\\\\\\\\\\"}}, \\\\\\\\\\\\\\\"typeProperty\\\\\\\\\\\\\\\": 2}, {\\\\\\\\\\\\\\\"column\\\\\\\\\\\\\\\": {\\\\\\\\\\\\\\\"type\\\\\\\\\\\\\\\": 2, \\\\\\\\\\\\\\\"details\\\\\\\\\\\\\\\": {\\\\\\\\\\\\\\\"selectedColumn\\\\\\\\\\\\\\\": \\\\\\\\\\\\\\\"Ticket\\\\\\\\\\\\\\\"}}, \\\\\\\\\\\\\\\"typeProperty\\\\\\\\\\\\\\\": 0}, {\\\\\\\\\\\\\\\"column\\\\\\\\\\\\\\\": {\\\\\\\\\\\\\\\"type\\\\\\\\\\\\\\\": 2, \\\\\\\\\\\\\\\"details\\\\\\\\\\\\\\\": {\\\\\\\\\\\\\\\"selectedColumn\\\\\\\\\\\\\\\": \\\\\\\\\\\\\\\"Fare\\\\\\\\\\\\\\\"}}, \\\\\\\\\\\\\\\"typeProperty\\\\\\\\\\\\\\\": 3}, {\\\\\\\\\\\\\\\"column\\\\\\\\\\\\\\\": {\\\\\\\\\\\\\\\"type\\\\\\\\\\\\\\\": 2, \\\\\\\\\\\\\\\"details\\\\\\\\\\\\\\\": {\\\\\\\\\\\\\\\"selectedColumn\\\\\\\\\\\\\\\": \\\\\\\\\\\\\\\"Cabin\\\\\\\\\\\\\\\"}}, \\\\\\\\\\\\\\\"typeProperty\\\\\\\\\\\\\\\": 0}, {\\\\\\\\\\\\\\\"column\\\\\\\\\\\\\\\": {\\\\\\\\\\\\\\\"type\\\\\\\\\\\\\\\": 2, \\\\\\\\\\\\\\\"details\\\\\\\\\\\\\\\": {\\\\\\\\\\\\\\\"selectedColumn\\\\\\\\\\\\\\\": \\\\\\\\\\\\\\\"Embarked\\\\\\\\\\\\\\\"}}, \\\\\\\\\\\\\\\"typeProperty\\\\\\\\\\\\\\\": 0}]}, \\\\\\\\\\\\\\\"localData\\\\\\\\\\\\\\\": {}, \\\\\\\\\\\\\\\"isEnabled\\\\\\\\\\\\\\\": true, \\\\\\\\\\\\\\\"name\\\\\\\\\\\\\\\": null, \\\\\\\\\\\\\\\"annotation\\\\\\\\\\\\\\\": null}, {\\\\\\\\\\\\\\\"id\\\\\\\\\\\\\\\": \\\\\\\\\\\\\\\"f19b6d45-b7ae-4cb6-89f2-197d1741bb7f\\\\\\\\\\\\\\\", \\\\\\\\\\\\\\\"type\\\\\\\\\\\\\\\": \\\\\\\\\\\\\\\"Microsoft.DPrep.TakeSampleBlock\\\\\\\\\\\\\\\", \\\\\\\\\\\\\\\"arguments\\\\\\\\\\\\\\\": {\\\\\\\\\\\\\\\"probability\\\\\\\\\\\\\\\": 0.9, \\\\\\\\\\\\\\\"probabilityLowerBound\\\\\\\\\\\\\\\": 0.0, \\\\\\\\\\\\\\\"seed\\\\\\\\\\\\\\\": 1}, \\\\\\\\\\\\\\\"localData\\\\\\\\\\\\\\\": {}, \\\\\\\\\\\\\\\"isEnabled\\\\\\\\\\\\\\\": true, \\\\\\\\\\\\\\\"name\\\\\\\\\\\\\\\": null, \\\\\\\\\\\\\\\"annotation\\\\\\\\\\\\\\\": null}], \\\\\\\\\\\\\\\"inspectors\\\\\\\\\\\\\\\": [], \\\\\\\\\\\\\\\"meta\\\\\\\\\\\\\\\": {\\\\\\\\\\\\\\\"savedDatasetId\\\\\\\\\\\\\\\": \\\\\\\\\\\\\\\"27e14b92-d035-4645-aa07-35516c7b03e8\\\\\\\\\\\\\\\", \\\\\\\\\\\\\\\"datasetType\\\\\\\\\\\\\\\": \\\\\\\\\\\\\\\"tabular\\\\\\\\\\\\\\\", \\\\\\\\\\\\\\\"subscriptionId\\\\\\\\\\\\\\\": \\\\\\\\\\\\\\\"2c4a7b68-f24b-4160-8590-5bde3308718d\\\\\\\\\\\\\\\", \\\\\\\\\\\\\\\"workspaceId\\\\\\\\\\\\\\\": \\\\\\\\\\\\\\\"960385a9-7ba9-40e2-9633-fc170d873618\\\\\\\\\\\\\\\", \\\\\\\\\\\\\\\"workspaceLocation\\\\\\\\\\\\\\\": \\\\\\\\\\\\\\\"northeurope\\\\\\\\\\\\\\\"}}\\\\\\\", \\\\\\\"activities\\\\\\\": 0}\", \"EnableSubsampling\": null, \"runTemplate\": \"AutoML\", \"azureml.runsource\": \"automl\", \"display_task_type\": \"classification\", \"dependencies_versions\": \"{\\\"azureml-widgets\\\": \\\"1.20.0\\\", \\\"azureml-train\\\": \\\"1.21.0\\\", \\\"azureml-train-restclients-hyperdrive\\\": \\\"1.21.0\\\", \\\"azureml-train-core\\\": \\\"1.21.0\\\", \\\"azureml-train-automl\\\": \\\"1.20.0\\\", \\\"azureml-train-automl-runtime\\\": \\\"1.20.0\\\", \\\"azureml-train-automl-client\\\": \\\"1.21.0\\\", \\\"azureml-tensorboard\\\": \\\"1.20.0\\\", \\\"azureml-telemetry\\\": \\\"1.21.0\\\", \\\"azureml-sdk\\\": \\\"1.21.0\\\", \\\"azureml-samples\\\": \\\"0+unknown\\\", \\\"azureml-pipeline\\\": \\\"1.21.0\\\", \\\"azureml-pipeline-steps\\\": \\\"1.21.0\\\", \\\"azureml-pipeline-core\\\": \\\"1.21.0\\\", \\\"azureml-opendatasets\\\": \\\"1.20.0\\\", \\\"azureml-model-management-sdk\\\": \\\"1.0.1b6.post1\\\", \\\"azureml-mlflow\\\": \\\"1.20.0.post1\\\", \\\"azureml-interpret\\\": \\\"1.20.0\\\", \\\"azureml-explain-model\\\": \\\"1.20.0\\\", \\\"azureml-defaults\\\": \\\"1.20.0\\\", \\\"azureml-dataset-runtime\\\": \\\"1.21.0\\\", \\\"azureml-dataprep\\\": \\\"2.8.2\\\", \\\"azureml-dataprep-rslex\\\": \\\"1.6.0\\\", \\\"azureml-dataprep-native\\\": \\\"28.0.0\\\", \\\"azureml-datadrift\\\": \\\"1.20.0\\\", \\\"azureml-core\\\": \\\"1.21.0.post1\\\", \\\"azureml-contrib-services\\\": \\\"1.20.0\\\", \\\"azureml-contrib-server\\\": \\\"1.20.0\\\", \\\"azureml-contrib-reinforcementlearning\\\": \\\"1.20.0\\\", \\\"azureml-contrib-pipeline-steps\\\": \\\"1.20.0\\\", \\\"azureml-contrib-notebook\\\": \\\"1.20.0\\\", \\\"azureml-contrib-interpret\\\": \\\"1.20.0\\\", \\\"azureml-contrib-gbdt\\\": \\\"1.20.0\\\", \\\"azureml-contrib-fairness\\\": \\\"1.20.0\\\", \\\"azureml-contrib-dataset\\\": \\\"1.20.0\\\", \\\"azureml-cli-common\\\": \\\"1.20.0\\\", \\\"azureml-automl-runtime\\\": \\\"1.20.0\\\", \\\"azureml-automl-core\\\": \\\"1.21.0\\\", \\\"azureml-accel-models\\\": \\\"1.20.0\\\"}\", \"_aml_system_scenario_identification\": \"Remote.Parent\", \"ClientType\": \"SDK\", \"environment_cpu_name\": \"AzureML-AutoML\", \"environment_cpu_label\": \"prod\", \"environment_gpu_name\": \"AzureML-AutoML-GPU\", \"environment_gpu_label\": \"prod\", \"root_attribution\": \"automl\", \"attribution\": \"AutoML\", \"Orchestrator\": \"AutoML\", \"CancelUri\": \"https://northeurope.experiments.azureml.net/jasmine/v1.0/subscriptions/2c4a7b68-f24b-4160-8590-5bde3308718d/resourceGroups/izabela_auto/providers/Microsoft.MachineLearningServices/workspaces/izi/experimentids/89355c9a-1da0-4642-b996-52a6d6408475/cancel/AutoML_7dc1a82c-afc8-4e53-a5cf-4c2d3516a516\", \"ClientSdkVersion\": \"1.20.0.post1\", \"snapshotId\": \"00000000-0000-0000-0000-000000000000\", \"SetupRunId\": \"AutoML_7dc1a82c-afc8-4e53-a5cf-4c2d3516a516_setup\", \"SetupRunContainerId\": \"dcid.AutoML_7dc1a82c-afc8-4e53-a5cf-4c2d3516a516_setup\", \"FeaturizationRunJsonPath\": \"featurizer_container.json\", \"FeaturizationRunId\": \"AutoML_7dc1a82c-afc8-4e53-a5cf-4c2d3516a516_featurize\", \"ProblemInfoJsonString\": \"{\\\"dataset_num_categorical\\\": 0, \\\"is_sparse\\\": true, \\\"subsampling\\\": false, \\\"dataset_classes\\\": 2, \\\"dataset_features\\\": 6553, \\\"dataset_samples\\\": 796, \\\"single_frequency_class_detected\\\": false}\", \"ModelExplainRunId\": \"AutoML_7dc1a82c-afc8-4e53-a5cf-4c2d3516a516_ModelExplain\"}, \"tags\": {\"model_explain_run\": \"best_run\", \"_aml_system_azureml.automlComponent\": \"AutoML\", \"pipeline_id\": \"\", \"score\": \"\", \"predicted_cost\": \"\", \"fit_time\": \"\", \"training_percent\": \"\", \"iteration\": \"\", \"run_preprocessor\": \"\", \"run_algorithm\": \"\", \"dynamic_whitelisting_iterations\": \"<25>;\", \"automl_best_child_run_id\": \"AutoML_7dc1a82c-afc8-4e53-a5cf-4c2d3516a516_29\"}, \"end_time_utc\": \"2021-01-26T19:59:19.284136Z\", \"status\": \"Completed\", \"log_files\": {}, \"log_groups\": [], \"run_duration\": \"0:41:58\"}, \"child_runs\": [{\"run_id\": \"AutoML_7dc1a82c-afc8-4e53-a5cf-4c2d3516a516_0\", \"run_number\": 5, \"metric\": null, \"status\": \"Completed\", \"run_type\": \"azureml.scriptrun\", \"training_percent\": \"100\", \"start_time\": \"2021-01-26T19:26:04.952688Z\", \"end_time\": \"2021-01-26T19:26:50.115012Z\", \"created_time\": \"2021-01-26T19:25:53.767964Z\", \"created_time_dt\": \"2021-01-26T19:25:53.767964Z\", \"duration\": \"0:00:56\", \"iteration\": \"0\", \"goal\": \"accuracy_max\", \"run_name\": \"MaxAbsScaler, LightGBM\", \"run_properties\": \"copy=True\", \"primary_metric\": 0.81781447, \"best_metric\": 0.81781447}, {\"run_id\": \"AutoML_7dc1a82c-afc8-4e53-a5cf-4c2d3516a516_1\", \"run_number\": 6, \"metric\": null, \"status\": \"Completed\", \"run_type\": \"azureml.scriptrun\", \"training_percent\": \"100\", \"start_time\": \"2021-01-26T19:27:03.647718Z\", \"end_time\": \"2021-01-26T19:27:55.42307Z\", \"created_time\": \"2021-01-26T19:26:51.12498Z\", \"created_time_dt\": \"2021-01-26T19:26:51.12498Z\", \"duration\": \"0:01:04\", \"iteration\": \"1\", \"goal\": \"accuracy_max\", \"run_name\": \"MaxAbsScaler, XGBoostClassifier\", \"run_properties\": \"copy=True\", \"primary_metric\": 0.82286164, \"best_metric\": 0.82286164}, {\"run_id\": \"AutoML_7dc1a82c-afc8-4e53-a5cf-4c2d3516a516_2\", \"run_number\": 7, \"metric\": null, \"status\": \"Completed\", \"run_type\": \"azureml.scriptrun\", \"training_percent\": \"100\", \"start_time\": \"2021-01-26T19:28:09.450643Z\", \"end_time\": \"2021-01-26T19:28:54.680351Z\", \"created_time\": \"2021-01-26T19:27:57.246914Z\", \"created_time_dt\": \"2021-01-26T19:27:57.246914Z\", \"duration\": \"0:00:57\", \"iteration\": \"2\", \"goal\": \"accuracy_max\", \"run_name\": \"MaxAbsScaler, RandomForest\", \"run_properties\": \"copy=True\", \"primary_metric\": 0.79522799, \"best_metric\": 0.82286164}, {\"run_id\": \"AutoML_7dc1a82c-afc8-4e53-a5cf-4c2d3516a516_3\", \"run_number\": 8, \"metric\": null, \"status\": \"Completed\", \"run_type\": \"azureml.scriptrun\", \"training_percent\": \"100\", \"start_time\": \"2021-01-26T19:29:08.29286Z\", \"end_time\": \"2021-01-26T19:29:45.47029Z\", \"created_time\": \"2021-01-26T19:28:56.795065Z\", \"created_time_dt\": \"2021-01-26T19:28:56.795065Z\", \"duration\": \"0:00:48\", \"iteration\": \"3\", \"goal\": \"accuracy_max\", \"run_name\": \"MaxAbsScaler, RandomForest\", \"run_properties\": \"copy=True\", \"primary_metric\": 0.70112421, \"best_metric\": 0.82286164}, {\"run_id\": \"AutoML_7dc1a82c-afc8-4e53-a5cf-4c2d3516a516_4\", \"run_number\": 9, \"metric\": null, \"status\": \"Completed\", \"run_type\": \"azureml.scriptrun\", \"training_percent\": \"100\", \"start_time\": \"2021-01-26T19:29:58.398053Z\", \"end_time\": \"2021-01-26T19:30:46.317035Z\", \"created_time\": \"2021-01-26T19:29:48.042558Z\", \"created_time_dt\": \"2021-01-26T19:29:48.042558Z\", \"duration\": \"0:00:58\", \"iteration\": \"4\", \"goal\": \"accuracy_max\", \"run_name\": \"MaxAbsScaler, RandomForest\", \"run_properties\": \"copy=True\", \"primary_metric\": 0.6707783, \"best_metric\": 0.82286164}, {\"run_id\": \"AutoML_7dc1a82c-afc8-4e53-a5cf-4c2d3516a516_5\", \"run_number\": 10, \"metric\": null, \"status\": \"Completed\", \"run_type\": \"azureml.scriptrun\", \"training_percent\": \"100\", \"start_time\": \"2021-01-26T19:30:59.157098Z\", \"end_time\": \"2021-01-26T19:31:43.922153Z\", \"created_time\": \"2021-01-26T19:30:48.790033Z\", \"created_time_dt\": \"2021-01-26T19:30:48.790033Z\", \"duration\": \"0:00:55\", \"iteration\": \"5\", \"goal\": \"accuracy_max\", \"run_name\": \"MaxAbsScaler, RandomForest\", \"run_properties\": \"copy=True\", \"primary_metric\": 0.78643082, \"best_metric\": 0.82286164}, {\"run_id\": \"AutoML_7dc1a82c-afc8-4e53-a5cf-4c2d3516a516_6\", \"run_number\": 11, \"metric\": null, \"status\": \"Completed\", \"run_type\": \"azureml.scriptrun\", \"training_percent\": \"100\", \"start_time\": \"2021-01-26T19:31:55.81644Z\", \"end_time\": \"2021-01-26T19:32:49.268347Z\", \"created_time\": \"2021-01-26T19:31:45.957727Z\", \"created_time_dt\": \"2021-01-26T19:31:45.957727Z\", \"duration\": \"0:01:03\", \"iteration\": \"6\", \"goal\": \"accuracy_max\", \"run_name\": \"SparseNormalizer, XGBoostClassifier\", \"run_properties\": \"<azureml.automl.runtime.shared.model_wrappers.SparseNormalizer object at 0x7f55704685f8\", \"primary_metric\": 0.8165566, \"best_metric\": 0.82286164}, {\"run_id\": \"AutoML_7dc1a82c-afc8-4e53-a5cf-4c2d3516a516_7\", \"run_number\": 12, \"metric\": null, \"status\": \"Completed\", \"run_type\": \"azureml.scriptrun\", \"training_percent\": \"100\", \"start_time\": \"2021-01-26T19:33:01.313178Z\", \"end_time\": \"2021-01-26T19:33:45.561014Z\", \"created_time\": \"2021-01-26T19:32:51.445019Z\", \"created_time_dt\": \"2021-01-26T19:32:51.445019Z\", \"duration\": \"0:00:54\", \"iteration\": \"7\", \"goal\": \"accuracy_max\", \"run_name\": \"SparseNormalizer, XGBoostClassifier\", \"run_properties\": \"<azureml.automl.runtime.shared.model_wrappers.SparseNormalizer object at 0x7f0353a33f28\", \"primary_metric\": 0.79897799, \"best_metric\": 0.82286164}, {\"run_id\": \"AutoML_7dc1a82c-afc8-4e53-a5cf-4c2d3516a516_8\", \"run_number\": 13, \"metric\": null, \"status\": \"Completed\", \"run_type\": \"azureml.scriptrun\", \"training_percent\": \"100\", \"start_time\": \"2021-01-26T19:33:59.301311Z\", \"end_time\": \"2021-01-26T19:34:56.440924Z\", \"created_time\": \"2021-01-26T19:33:47.530757Z\", \"created_time_dt\": \"2021-01-26T19:33:47.530757Z\", \"duration\": \"0:01:08\", \"iteration\": \"8\", \"goal\": \"accuracy_max\", \"run_name\": \"MaxAbsScaler, RandomForest\", \"run_properties\": \"copy=True\", \"primary_metric\": 0.79143868, \"best_metric\": 0.82286164}, {\"run_id\": \"AutoML_7dc1a82c-afc8-4e53-a5cf-4c2d3516a516_9\", \"run_number\": 14, \"metric\": null, \"status\": \"Completed\", \"run_type\": \"azureml.scriptrun\", \"training_percent\": \"100\", \"start_time\": \"2021-01-26T19:35:10.438557Z\", \"end_time\": \"2021-01-26T19:36:04.610306Z\", \"created_time\": \"2021-01-26T19:34:59.104673Z\", \"created_time_dt\": \"2021-01-26T19:34:59.104673Z\", \"duration\": \"0:01:05\", \"iteration\": \"9\", \"goal\": \"accuracy_max\", \"run_name\": \"MaxAbsScaler, LogisticRegression\", \"run_properties\": \"copy=True\", \"primary_metric\": 0.8065173, \"best_metric\": 0.82286164}, {\"run_id\": \"AutoML_7dc1a82c-afc8-4e53-a5cf-4c2d3516a516_10\", \"run_number\": 15, \"metric\": null, \"status\": \"Completed\", \"run_type\": \"azureml.scriptrun\", \"training_percent\": \"100\", \"start_time\": \"2021-01-26T19:36:16.728933Z\", \"end_time\": \"2021-01-26T19:36:58.910848Z\", \"created_time\": \"2021-01-26T19:36:06.559566Z\", \"created_time_dt\": \"2021-01-26T19:36:06.559566Z\", \"duration\": \"0:00:52\", \"iteration\": \"10\", \"goal\": \"accuracy_max\", \"run_name\": \"MaxAbsScaler, LightGBM\", \"run_properties\": \"copy=True\", \"primary_metric\": 0.81157233, \"best_metric\": 0.82286164}, {\"run_id\": \"AutoML_7dc1a82c-afc8-4e53-a5cf-4c2d3516a516_11\", \"run_number\": 16, \"metric\": null, \"status\": \"Completed\", \"run_type\": \"azureml.scriptrun\", \"training_percent\": \"100\", \"start_time\": \"2021-01-26T19:37:11.583585Z\", \"end_time\": \"2021-01-26T19:37:56.822346Z\", \"created_time\": \"2021-01-26T19:37:00.774226Z\", \"created_time_dt\": \"2021-01-26T19:37:00.774226Z\", \"duration\": \"0:00:56\", \"iteration\": \"11\", \"goal\": \"accuracy_max\", \"run_name\": \"StandardScalerWrapper, LightGBM\", \"run_properties\": \"<azureml.automl.runtime.shared.model_wrappers.StandardScalerWrapper object at 0x7f3f0b349710\", \"primary_metric\": 0.80406447, \"best_metric\": 0.82286164}, {\"run_id\": \"AutoML_7dc1a82c-afc8-4e53-a5cf-4c2d3516a516_12\", \"run_number\": 17, \"metric\": null, \"status\": \"Completed\", \"run_type\": \"azureml.scriptrun\", \"training_percent\": \"100\", \"start_time\": \"2021-01-26T19:38:10.262894Z\", \"end_time\": \"2021-01-26T19:39:04.471494Z\", \"created_time\": \"2021-01-26T19:37:59.235618Z\", \"created_time_dt\": \"2021-01-26T19:37:59.235618Z\", \"duration\": \"0:01:05\", \"iteration\": \"12\", \"goal\": \"accuracy_max\", \"run_name\": \"SparseNormalizer, XGBoostClassifier\", \"run_properties\": \"<azureml.automl.runtime.shared.model_wrappers.SparseNormalizer object at 0x7f2dfce500f0\", \"primary_metric\": 0.81656447, \"best_metric\": 0.82286164}, {\"run_id\": \"AutoML_7dc1a82c-afc8-4e53-a5cf-4c2d3516a516_13\", \"run_number\": 18, \"metric\": null, \"status\": \"Completed\", \"run_type\": \"azureml.scriptrun\", \"training_percent\": \"100\", \"start_time\": \"2021-01-26T19:39:17.202534Z\", \"end_time\": \"2021-01-26T19:40:14.312699Z\", \"created_time\": \"2021-01-26T19:39:06.348173Z\", \"created_time_dt\": \"2021-01-26T19:39:06.348173Z\", \"duration\": \"0:01:07\", \"iteration\": \"13\", \"goal\": \"accuracy_max\", \"run_name\": \"MaxAbsScaler, RandomForest\", \"run_properties\": \"copy=True\", \"primary_metric\": 0.78891509, \"best_metric\": 0.82286164}, {\"run_id\": \"AutoML_7dc1a82c-afc8-4e53-a5cf-4c2d3516a516_14\", \"run_number\": 19, \"metric\": null, \"status\": \"Completed\", \"run_type\": \"azureml.scriptrun\", \"training_percent\": \"100\", \"start_time\": \"2021-01-26T19:40:26.34317Z\", \"end_time\": \"2021-01-26T19:41:11.13088Z\", \"created_time\": \"2021-01-26T19:40:16.213336Z\", \"created_time_dt\": \"2021-01-26T19:40:16.213336Z\", \"duration\": \"0:00:54\", \"iteration\": \"14\", \"goal\": \"accuracy_max\", \"run_name\": \"StandardScalerWrapper, ExtremeRandomTrees\", \"run_properties\": \"<azureml.automl.runtime.shared.model_wrappers.StandardScalerWrapper object at 0x7f8f69e8d780\", \"primary_metric\": 0.79143082, \"best_metric\": 0.82286164}, {\"run_id\": \"AutoML_7dc1a82c-afc8-4e53-a5cf-4c2d3516a516_15\", \"run_number\": 20, \"metric\": null, \"status\": \"Completed\", \"run_type\": \"azureml.scriptrun\", \"training_percent\": \"100\", \"start_time\": \"2021-01-26T19:41:22.893439Z\", \"end_time\": \"2021-01-26T19:42:07.453433Z\", \"created_time\": \"2021-01-26T19:41:13.21204Z\", \"created_time_dt\": \"2021-01-26T19:41:13.21204Z\", \"duration\": \"0:00:54\", \"iteration\": \"15\", \"goal\": \"accuracy_max\", \"run_name\": \"SparseNormalizer, LightGBM\", \"run_properties\": \"<azureml.automl.runtime.shared.model_wrappers.SparseNormalizer object at 0x7fbdd4270ef0\", \"primary_metric\": 0.80275943, \"best_metric\": 0.82286164}, {\"run_id\": \"AutoML_7dc1a82c-afc8-4e53-a5cf-4c2d3516a516_16\", \"run_number\": 21, \"metric\": null, \"status\": \"Completed\", \"run_type\": \"azureml.scriptrun\", \"training_percent\": \"100\", \"start_time\": \"2021-01-26T19:42:21.230142Z\", \"end_time\": \"2021-01-26T19:43:06.352176Z\", \"created_time\": \"2021-01-26T19:42:09.573228Z\", \"created_time_dt\": \"2021-01-26T19:42:09.573228Z\", \"duration\": \"0:00:56\", \"iteration\": \"16\", \"goal\": \"accuracy_max\", \"run_name\": \"MaxAbsScaler, RandomForest\", \"run_properties\": \"copy=True\", \"primary_metric\": 0.69356918, \"best_metric\": 0.82286164}, {\"run_id\": \"AutoML_7dc1a82c-afc8-4e53-a5cf-4c2d3516a516_17\", \"run_number\": 22, \"metric\": null, \"status\": \"Completed\", \"run_type\": \"azureml.scriptrun\", \"training_percent\": \"100\", \"start_time\": \"2021-01-26T19:43:20.300788Z\", \"end_time\": \"2021-01-26T19:44:20.608594Z\", \"created_time\": \"2021-01-26T19:43:08.126134Z\", \"created_time_dt\": \"2021-01-26T19:43:08.126134Z\", \"duration\": \"0:01:12\", \"iteration\": \"17\", \"goal\": \"accuracy_max\", \"run_name\": \"StandardScalerWrapper, LogisticRegression\", \"run_properties\": \"<azureml.automl.runtime.shared.model_wrappers.StandardScalerWrapper object at 0x7fcaa2f12ac8\", \"primary_metric\": 0.79147799, \"best_metric\": 0.82286164}, {\"run_id\": \"AutoML_7dc1a82c-afc8-4e53-a5cf-4c2d3516a516_18\", \"run_number\": 23, \"metric\": null, \"status\": \"Completed\", \"run_type\": \"azureml.scriptrun\", \"training_percent\": \"100\", \"start_time\": \"2021-01-26T19:44:36.645434Z\", \"end_time\": \"2021-01-26T19:45:29.309279Z\", \"created_time\": \"2021-01-26T19:44:22.336974Z\", \"created_time_dt\": \"2021-01-26T19:44:22.336974Z\", \"duration\": \"0:01:06\", \"iteration\": \"18\", \"goal\": \"accuracy_max\", \"run_name\": \"SparseNormalizer, XGBoostClassifier\", \"run_properties\": \"<azureml.automl.runtime.shared.model_wrappers.SparseNormalizer object at 0x7fb28bd76240\", \"primary_metric\": 0.78768082, \"best_metric\": 0.82286164}, {\"run_id\": \"AutoML_7dc1a82c-afc8-4e53-a5cf-4c2d3516a516_19\", \"run_number\": 24, \"metric\": null, \"status\": \"Completed\", \"run_type\": \"azureml.scriptrun\", \"training_percent\": \"100\", \"start_time\": \"2021-01-26T19:45:44.173856Z\", \"end_time\": \"2021-01-26T19:46:34.999084Z\", \"created_time\": \"2021-01-26T19:45:32.603267Z\", \"created_time_dt\": \"2021-01-26T19:45:32.603267Z\", \"duration\": \"0:01:02\", \"iteration\": \"19\", \"goal\": \"accuracy_max\", \"run_name\": \"StandardScalerWrapper, ExtremeRandomTrees\", \"run_properties\": \"<azureml.automl.runtime.shared.model_wrappers.StandardScalerWrapper object at 0x7f459ffbcf60\", \"primary_metric\": 0.78016509, \"best_metric\": 0.82286164}, {\"run_id\": \"AutoML_7dc1a82c-afc8-4e53-a5cf-4c2d3516a516_20\", \"run_number\": 25, \"metric\": null, \"status\": \"Completed\", \"run_type\": \"azureml.scriptrun\", \"training_percent\": \"100\", \"start_time\": \"2021-01-26T19:46:51.729703Z\", \"end_time\": \"2021-01-26T19:47:39.268841Z\", \"created_time\": \"2021-01-26T19:46:38.087859Z\", \"created_time_dt\": \"2021-01-26T19:46:38.087859Z\", \"duration\": \"0:01:01\", \"iteration\": \"20\", \"goal\": \"accuracy_max\", \"run_name\": \"StandardScalerWrapper, ExtremeRandomTrees\", \"run_properties\": \"<azureml.automl.runtime.shared.model_wrappers.StandardScalerWrapper object at 0x7f57320933c8\", \"primary_metric\": 0.7989544, \"best_metric\": 0.82286164}, {\"run_id\": \"AutoML_7dc1a82c-afc8-4e53-a5cf-4c2d3516a516_21\", \"run_number\": 26, \"metric\": null, \"status\": \"Completed\", \"run_type\": \"azureml.scriptrun\", \"training_percent\": \"100\", \"start_time\": \"2021-01-26T19:47:53.17685Z\", \"end_time\": \"2021-01-26T19:48:41.083173Z\", \"created_time\": \"2021-01-26T19:47:42.171418Z\", \"created_time_dt\": \"2021-01-26T19:47:42.171418Z\", \"duration\": \"0:00:58\", \"iteration\": \"21\", \"goal\": \"accuracy_max\", \"run_name\": \"StandardScalerWrapper, RandomForest\", \"run_properties\": \"<azureml.automl.runtime.shared.model_wrappers.StandardScalerWrapper object at 0x7ffac4aa9128\", \"primary_metric\": 0.79268868, \"best_metric\": 0.82286164}, {\"run_id\": \"AutoML_7dc1a82c-afc8-4e53-a5cf-4c2d3516a516_22\", \"run_number\": 27, \"metric\": null, \"status\": \"Completed\", \"run_type\": \"azureml.scriptrun\", \"training_percent\": \"100\", \"start_time\": \"2021-01-26T19:48:55.129738Z\", \"end_time\": \"2021-01-26T19:49:51.474098Z\", \"created_time\": \"2021-01-26T19:48:43.976952Z\", \"created_time_dt\": \"2021-01-26T19:48:43.976952Z\", \"duration\": \"0:01:07\", \"iteration\": \"22\", \"goal\": \"accuracy_max\", \"run_name\": \"SparseNormalizer, XGBoostClassifier\", \"run_properties\": \"<azureml.automl.runtime.shared.model_wrappers.SparseNormalizer object at 0x7f8f6031e320\", \"primary_metric\": 0.82158019, \"best_metric\": 0.82286164}, {\"run_id\": \"AutoML_7dc1a82c-afc8-4e53-a5cf-4c2d3516a516_23\", \"run_number\": 28, \"metric\": null, \"status\": \"Completed\", \"run_type\": \"azureml.scriptrun\", \"training_percent\": \"100\", \"start_time\": \"2021-01-26T19:50:05.981436Z\", \"end_time\": \"2021-01-26T19:51:00.12278Z\", \"created_time\": \"2021-01-26T19:49:54.001435Z\", \"created_time_dt\": \"2021-01-26T19:49:54.001435Z\", \"duration\": \"0:01:06\", \"iteration\": \"23\", \"goal\": \"accuracy_max\", \"run_name\": \"TruncatedSVDWrapper, XGBoostClassifier\", \"run_properties\": \"n_components=0.6036842105263158, random_state=None\", \"primary_metric\": 0.81532233, \"best_metric\": 0.82286164}, {\"run_id\": \"AutoML_7dc1a82c-afc8-4e53-a5cf-4c2d3516a516_24\", \"run_number\": 29, \"metric\": null, \"status\": \"Completed\", \"run_type\": \"azureml.scriptrun\", \"training_percent\": \"100\", \"start_time\": \"2021-01-26T19:51:14.548372Z\", \"end_time\": \"2021-01-26T19:52:12.160882Z\", \"created_time\": \"2021-01-26T19:51:02.468242Z\", \"created_time_dt\": \"2021-01-26T19:51:02.468242Z\", \"duration\": \"0:01:09\", \"iteration\": \"24\", \"goal\": \"accuracy_max\", \"run_name\": \"SparseNormalizer, XGBoostClassifier\", \"run_properties\": \"<azureml.automl.runtime.shared.model_wrappers.SparseNormalizer object at 0x7fcbcd6d9fd0\", \"primary_metric\": 0.80525157, \"best_metric\": 0.82286164}, {\"run_id\": \"AutoML_7dc1a82c-afc8-4e53-a5cf-4c2d3516a516_25\", \"run_number\": 30, \"metric\": null, \"status\": \"Completed\", \"run_type\": \"azureml.scriptrun\", \"training_percent\": \"100\", \"start_time\": \"2021-01-26T19:52:27.263161Z\", \"end_time\": \"2021-01-26T19:53:09.563862Z\", \"created_time\": \"2021-01-26T19:52:15.616595Z\", \"created_time_dt\": \"2021-01-26T19:52:15.616595Z\", \"duration\": \"0:00:53\", \"iteration\": \"25\", \"goal\": \"accuracy_max\", \"run_name\": \"StandardScalerWrapper, XGBoostClassifier\", \"run_properties\": \"<azureml.automl.runtime.shared.model_wrappers.StandardScalerWrapper object at 0x7fcf775cb5f8\", \"primary_metric\": 0.62568396, \"best_metric\": 0.82286164}, {\"run_id\": \"AutoML_7dc1a82c-afc8-4e53-a5cf-4c2d3516a516_26\", \"run_number\": 31, \"metric\": null, \"status\": \"Completed\", \"run_type\": \"azureml.scriptrun\", \"training_percent\": \"100\", \"start_time\": \"2021-01-26T19:53:24.50146Z\", \"end_time\": \"2021-01-26T19:54:06.99792Z\", \"created_time\": \"2021-01-26T19:53:12.501452Z\", \"created_time_dt\": \"2021-01-26T19:53:12.501452Z\", \"duration\": \"0:00:54\", \"iteration\": \"26\", \"goal\": \"accuracy_max\", \"run_name\": \"MaxAbsScaler, RandomForest\", \"run_properties\": \"copy=True\", \"primary_metric\": 0.78517296, \"best_metric\": 0.82286164}, {\"run_id\": \"AutoML_7dc1a82c-afc8-4e53-a5cf-4c2d3516a516_27\", \"run_number\": 32, \"metric\": null, \"status\": \"Completed\", \"run_type\": \"azureml.scriptrun\", \"training_percent\": \"100\", \"start_time\": \"2021-01-26T19:54:20.705558Z\", \"end_time\": \"2021-01-26T19:55:05.898957Z\", \"created_time\": \"2021-01-26T19:54:09.135989Z\", \"created_time_dt\": \"2021-01-26T19:54:09.135989Z\", \"duration\": \"0:00:56\", \"iteration\": \"27\", \"goal\": \"accuracy_max\", \"run_name\": \"MaxAbsScaler, LogisticRegression\", \"run_properties\": \"copy=True\", \"primary_metric\": 0.80150157, \"best_metric\": 0.82286164}, {\"run_id\": \"AutoML_7dc1a82c-afc8-4e53-a5cf-4c2d3516a516_28\", \"run_number\": 33, \"metric\": null, \"status\": \"Completed\", \"run_type\": \"azureml.scriptrun\", \"training_percent\": \"100\", \"start_time\": \"2021-01-26T19:55:17.663735Z\", \"end_time\": \"2021-01-26T19:56:05.981502Z\", \"created_time\": \"2021-01-26T19:55:07.870945Z\", \"created_time_dt\": \"2021-01-26T19:55:07.870945Z\", \"duration\": \"0:00:58\", \"iteration\": \"28\", \"goal\": \"accuracy_max\", \"run_name\": \"MaxAbsScaler, RandomForest\", \"run_properties\": \"copy=True\", \"primary_metric\": 0.62568396, \"best_metric\": 0.82286164}, {\"run_id\": \"AutoML_7dc1a82c-afc8-4e53-a5cf-4c2d3516a516_29\", \"run_number\": 34, \"metric\": null, \"status\": \"Completed\", \"run_type\": \"azureml.scriptrun\", \"training_percent\": \"100\", \"start_time\": \"2021-01-26T19:56:17.976563Z\", \"end_time\": \"2021-01-26T19:57:37.730065Z\", \"created_time\": \"2021-01-26T19:56:07.022535Z\", \"created_time_dt\": \"2021-01-26T19:56:07.022535Z\", \"duration\": \"0:01:30\", \"iteration\": \"29\", \"goal\": \"accuracy_max\", \"run_name\": \"VotingEnsemble\", \"run_properties\": \"classification_labels=None,\\n                              estimators=[('1',\\n                                           Pipeline(memory=None,\\n                                                    steps=[('maxabsscaler',\\n                                                            MaxAbsScaler(copy=True\", \"primary_metric\": 0.84921384, \"best_metric\": 0.84921384}, {\"run_id\": \"AutoML_7dc1a82c-afc8-4e53-a5cf-4c2d3516a516_30\", \"run_number\": 35, \"metric\": null, \"status\": \"Completed\", \"run_type\": \"azureml.scriptrun\", \"training_percent\": \"100\", \"start_time\": \"2021-01-26T19:57:50.196385Z\", \"end_time\": \"2021-01-26T19:59:12.973036Z\", \"created_time\": \"2021-01-26T19:57:39.396625Z\", \"created_time_dt\": \"2021-01-26T19:57:39.396625Z\", \"duration\": \"0:01:33\", \"iteration\": \"30\", \"goal\": \"accuracy_max\", \"run_name\": \"StackEnsemble\", \"run_properties\": \"base_learners=[('1',\\n                                        Pipeline(memory=None,\\n                                                 steps=[('maxabsscaler',\\n                                                         MaxAbsScaler(copy=True\", \"primary_metric\": 0.83664308, \"best_metric\": 0.84921384}], \"children_metrics\": {\"categories\": [0], \"series\": {\"recall_score_micro\": [{\"categories\": [\"0\", \"1\", \"2\", \"3\", \"4\", \"5\", \"6\", \"7\", \"8\", \"9\", \"10\", \"11\", \"12\", \"13\", \"14\", \"15\", \"16\", \"17\", \"18\", \"19\", \"20\", \"21\", \"22\", \"23\", \"24\", \"25\", \"26\", \"27\", \"28\", \"29\", \"30\"], \"mode\": \"markers\", \"name\": \"recall_score_micro\", \"stepped\": false, \"type\": \"scatter\", \"data\": [0.8178144654088051, 0.8228616352201257, 0.7952279874213837, 0.7011242138364779, 0.6707783018867925, 0.7864308176100628, 0.816556603773585, 0.7989779874213838, 0.7914386792452831, 0.8065172955974843, 0.8115723270440253, 0.8040644654088052, 0.8165644654088051, 0.7889150943396227, 0.7914308176100628, 0.8027594339622641, 0.6935691823899371, 0.7914779874213836, 0.7876808176100629, 0.7801650943396228, 0.7989544025157234, 0.792688679245283, 0.8215801886792453, 0.8153223270440252, 0.805251572327044, 0.6256839622641509, 0.7851729559748428, 0.8015015723270441, 0.6256839622641509, 0.8492138364779874, 0.8366430817610062]}, {\"categories\": [\"0\", \"1\", \"2\", \"3\", \"4\", \"5\", \"6\", \"7\", \"8\", \"9\", \"10\", \"11\", \"12\", \"13\", \"14\", \"15\", \"16\", \"17\", \"18\", \"19\", \"20\", \"21\", \"22\", \"23\", \"24\", \"25\", \"26\", \"27\", \"28\", \"29\", \"30\"], \"mode\": \"lines\", \"name\": \"recall_score_micro_max\", \"stepped\": true, \"type\": \"scatter\", \"data\": [0.8178144654088051, 0.8228616352201257, 0.8228616352201257, 0.8228616352201257, 0.8228616352201257, 0.8228616352201257, 0.8228616352201257, 0.8228616352201257, 0.8228616352201257, 0.8228616352201257, 0.8228616352201257, 0.8228616352201257, 0.8228616352201257, 0.8228616352201257, 0.8228616352201257, 0.8228616352201257, 0.8228616352201257, 0.8228616352201257, 0.8228616352201257, 0.8228616352201257, 0.8228616352201257, 0.8228616352201257, 0.8228616352201257, 0.8228616352201257, 0.8228616352201257, 0.8228616352201257, 0.8228616352201257, 0.8228616352201257, 0.8228616352201257, 0.8492138364779874, 0.8492138364779874]}], \"average_precision_score_weighted\": [{\"categories\": [\"0\", \"1\", \"2\", \"3\", \"4\", \"5\", \"6\", \"7\", \"8\", \"9\", \"10\", \"11\", \"12\", \"13\", \"14\", \"15\", \"16\", \"17\", \"18\", \"19\", \"20\", \"21\", \"22\", \"23\", \"24\", \"25\", \"26\", \"27\", \"28\", \"29\", \"30\"], \"mode\": \"markers\", \"name\": \"average_precision_score_weighted\", \"stepped\": false, \"type\": \"scatter\", \"data\": [0.8442883183638553, 0.8540599355211388, 0.8293335139804879, 0.8015342039874767, 0.713401161915444, 0.8161511695470853, 0.8450803061844571, 0.8359613551869792, 0.8429828641282107, 0.8488608178866086, 0.8532717050362827, 0.8458040980802206, 0.8442927038897834, 0.8450000298258742, 0.8360117665385618, 0.851036348895683, 0.8323459432832372, 0.8312217430900504, 0.8430215781604833, 0.852474258048181, 0.8530735308631592, 0.8497246544675455, 0.8446980185574819, 0.845961105364786, 0.8476188067362467, 0.5329400593578181, 0.849886910119032, 0.8476627284068149, 0.8139262696531041, 0.8615063950402406, 0.8600000904446954]}, {\"categories\": [\"0\", \"1\", \"2\", \"3\", \"4\", \"5\", \"6\", \"7\", \"8\", \"9\", \"10\", \"11\", \"12\", \"13\", \"14\", \"15\", \"16\", \"17\", \"18\", \"19\", \"20\", \"21\", \"22\", \"23\", \"24\", \"25\", \"26\", \"27\", \"28\", \"29\", \"30\"], \"mode\": \"lines\", \"name\": \"average_precision_score_weighted_max\", \"stepped\": true, \"type\": \"scatter\", \"data\": [0.8442883183638553, 0.8540599355211388, 0.8540599355211388, 0.8540599355211388, 0.8540599355211388, 0.8540599355211388, 0.8540599355211388, 0.8540599355211388, 0.8540599355211388, 0.8540599355211388, 0.8540599355211388, 0.8540599355211388, 0.8540599355211388, 0.8540599355211388, 0.8540599355211388, 0.8540599355211388, 0.8540599355211388, 0.8540599355211388, 0.8540599355211388, 0.8540599355211388, 0.8540599355211388, 0.8540599355211388, 0.8540599355211388, 0.8540599355211388, 0.8540599355211388, 0.8540599355211388, 0.8540599355211388, 0.8540599355211388, 0.8540599355211388, 0.8615063950402406, 0.8615063950402406]}], \"log_loss\": [{\"categories\": [\"0\", \"1\", \"2\", \"3\", \"4\", \"5\", \"6\", \"7\", \"8\", \"9\", \"10\", \"11\", \"12\", \"13\", \"14\", \"15\", \"16\", \"17\", \"18\", \"19\", \"20\", \"21\", \"22\", \"23\", \"24\", \"25\", \"26\", \"27\", \"28\", \"29\", \"30\"], \"mode\": \"markers\", \"name\": \"log_loss\", \"stepped\": false, \"type\": \"scatter\", \"data\": [0.5341559999495072, 0.43057733676639, 0.4847502479604174, 0.5757259100120544, 0.6771693992037923, 0.5360119781480438, 0.4667463466863292, 0.49713874626136195, 0.4481207132353419, 0.6762999425006823, 0.4591952594369218, 0.493939984577129, 0.46330496515673153, 0.46884867774248606, 0.5108191026550901, 0.4440759408080542, 0.5743545221107855, 0.5159080056503242, 0.45506030562962874, 0.4429821634704023, 0.4625632317784526, 0.4535649021079756, 0.49458225980058074, 0.461013013594102, 0.5923784462016274, 0.6623993040633651, 0.46843316487230363, 0.7632329932306645, 0.6459879967968232, 0.47516086692762566, 0.41819442987945604]}, {\"categories\": [\"0\", \"1\", \"2\", \"3\", \"4\", \"5\", \"6\", \"7\", \"8\", \"9\", \"10\", \"11\", \"12\", \"13\", \"14\", \"15\", \"16\", \"17\", \"18\", \"19\", \"20\", \"21\", \"22\", \"23\", \"24\", \"25\", \"26\", \"27\", \"28\", \"29\", \"30\"], \"mode\": \"lines\", \"name\": \"log_loss_min\", \"stepped\": true, \"type\": \"scatter\", \"data\": [0.5341559999495072, 0.43057733676639, 0.43057733676639, 0.43057733676639, 0.43057733676639, 0.43057733676639, 0.43057733676639, 0.43057733676639, 0.43057733676639, 0.43057733676639, 0.43057733676639, 0.43057733676639, 0.43057733676639, 0.43057733676639, 0.43057733676639, 0.43057733676639, 0.43057733676639, 0.43057733676639, 0.43057733676639, 0.43057733676639, 0.43057733676639, 0.43057733676639, 0.43057733676639, 0.43057733676639, 0.43057733676639, 0.43057733676639, 0.43057733676639, 0.43057733676639, 0.43057733676639, 0.43057733676639, 0.41819442987945604]}], \"accuracy\": [{\"categories\": [\"0\", \"1\", \"2\", \"3\", \"4\", \"5\", \"6\", \"7\", \"8\", \"9\", \"10\", \"11\", \"12\", \"13\", \"14\", \"15\", \"16\", \"17\", \"18\", \"19\", \"20\", \"21\", \"22\", \"23\", \"24\", \"25\", \"26\", \"27\", \"28\", \"29\", \"30\"], \"mode\": \"markers\", \"name\": \"accuracy\", \"stepped\": false, \"type\": \"scatter\", \"data\": [0.8178144654088051, 0.8228616352201257, 0.7952279874213837, 0.7011242138364779, 0.6707783018867925, 0.7864308176100628, 0.816556603773585, 0.7989779874213838, 0.7914386792452831, 0.8065172955974843, 0.8115723270440253, 0.8040644654088052, 0.8165644654088051, 0.7889150943396227, 0.7914308176100628, 0.8027594339622641, 0.6935691823899371, 0.7914779874213836, 0.7876808176100629, 0.7801650943396228, 0.7989544025157234, 0.792688679245283, 0.8215801886792453, 0.8153223270440252, 0.805251572327044, 0.6256839622641509, 0.7851729559748428, 0.8015015723270441, 0.6256839622641509, 0.8492138364779874, 0.8366430817610062]}, {\"categories\": [\"0\", \"1\", \"2\", \"3\", \"4\", \"5\", \"6\", \"7\", \"8\", \"9\", \"10\", \"11\", \"12\", \"13\", \"14\", \"15\", \"16\", \"17\", \"18\", \"19\", \"20\", \"21\", \"22\", \"23\", \"24\", \"25\", \"26\", \"27\", \"28\", \"29\", \"30\"], \"mode\": \"lines\", \"name\": \"accuracy_max\", \"stepped\": true, \"type\": \"scatter\", \"data\": [0.8178144654088051, 0.8228616352201257, 0.8228616352201257, 0.8228616352201257, 0.8228616352201257, 0.8228616352201257, 0.8228616352201257, 0.8228616352201257, 0.8228616352201257, 0.8228616352201257, 0.8228616352201257, 0.8228616352201257, 0.8228616352201257, 0.8228616352201257, 0.8228616352201257, 0.8228616352201257, 0.8228616352201257, 0.8228616352201257, 0.8228616352201257, 0.8228616352201257, 0.8228616352201257, 0.8228616352201257, 0.8228616352201257, 0.8228616352201257, 0.8228616352201257, 0.8228616352201257, 0.8228616352201257, 0.8228616352201257, 0.8228616352201257, 0.8492138364779874, 0.8492138364779874]}], \"norm_macro_recall\": [{\"categories\": [\"0\", \"1\", \"2\", \"3\", \"4\", \"5\", \"6\", \"7\", \"8\", \"9\", \"10\", \"11\", \"12\", \"13\", \"14\", \"15\", \"16\", \"17\", \"18\", \"19\", \"20\", \"21\", \"22\", \"23\", \"24\", \"25\", \"26\", \"27\", \"28\", \"29\", \"30\"], \"mode\": \"markers\", \"name\": \"norm_macro_recall\", \"stepped\": false, \"type\": \"scatter\", \"data\": [0.5860844559395024, 0.5964505652784091, 0.5452349220688237, 0.24522656532846066, 0.32986098368327127, 0.5482257840511876, 0.5798097118407188, 0.5612722214308559, 0.5511715429084278, 0.5687914663465493, 0.5656277212567964, 0.5179731947018137, 0.57615191034095, 0.535057177154011, 0.5335254841883704, 0.550951511856918, 0.20102768405770224, 0.5318958724940428, 0.5161586759478526, 0.5032774938115977, 0.5579611171506739, 0.5528076033533497, 0.5922467918068584, 0.5578457348334204, 0.5627019250815668, 0.0, 0.5512788826128381, 0.5650747060147447, 0.0, 0.6458922933891598, 0.6229345316198389]}, {\"categories\": [\"0\", \"1\", \"2\", \"3\", \"4\", \"5\", \"6\", \"7\", \"8\", \"9\", \"10\", \"11\", \"12\", \"13\", \"14\", \"15\", \"16\", \"17\", \"18\", \"19\", \"20\", \"21\", \"22\", \"23\", \"24\", \"25\", \"26\", \"27\", \"28\", \"29\", \"30\"], \"mode\": \"lines\", \"name\": \"norm_macro_recall_max\", \"stepped\": true, \"type\": \"scatter\", \"data\": [0.5860844559395024, 0.5964505652784091, 0.5964505652784091, 0.5964505652784091, 0.5964505652784091, 0.5964505652784091, 0.5964505652784091, 0.5964505652784091, 0.5964505652784091, 0.5964505652784091, 0.5964505652784091, 0.5964505652784091, 0.5964505652784091, 0.5964505652784091, 0.5964505652784091, 0.5964505652784091, 0.5964505652784091, 0.5964505652784091, 0.5964505652784091, 0.5964505652784091, 0.5964505652784091, 0.5964505652784091, 0.5964505652784091, 0.5964505652784091, 0.5964505652784091, 0.5964505652784091, 0.5964505652784091, 0.5964505652784091, 0.5964505652784091, 0.6458922933891598, 0.6458922933891598]}], \"f1_score_macro\": [{\"categories\": [\"0\", \"1\", \"2\", \"3\", \"4\", \"5\", \"6\", \"7\", \"8\", \"9\", \"10\", \"11\", \"12\", \"13\", \"14\", \"15\", \"16\", \"17\", \"18\", \"19\", \"20\", \"21\", \"22\", \"23\", \"24\", \"25\", \"26\", \"27\", \"28\", \"29\", \"30\"], \"mode\": \"markers\", \"name\": \"f1_score_macro\", \"stepped\": false, \"type\": \"scatter\", \"data\": [0.7990692302578888, 0.8050981978105144, 0.775851582175394, 0.5856055117488701, 0.6493609826313338, 0.7720830700499872, 0.7964954391643448, 0.7821051797234577, 0.7756346070924356, 0.7887582224273629, 0.7907882692036241, 0.7714297935035509, 0.7958129624618927, 0.769987589540794, 0.7711191129299164, 0.7818885824575446, 0.563723759181051, 0.7712140683765105, 0.7637070066921859, 0.7541326985899558, 0.7812557463805293, 0.7765798373089623, 0.8021961107948339, 0.7901887150116318, 0.7862143225897048, 0.38471586189098694, 0.7719756684442627, 0.7850451275571625, 0.38471586189098694, 0.8316692322599881, 0.8187104040468712]}, {\"categories\": [\"0\", \"1\", \"2\", \"3\", \"4\", \"5\", \"6\", \"7\", \"8\", \"9\", \"10\", \"11\", \"12\", \"13\", \"14\", \"15\", \"16\", \"17\", \"18\", \"19\", \"20\", \"21\", \"22\", \"23\", \"24\", \"25\", \"26\", \"27\", \"28\", \"29\", \"30\"], \"mode\": \"lines\", \"name\": \"f1_score_macro_max\", \"stepped\": true, \"type\": \"scatter\", \"data\": [0.7990692302578888, 0.8050981978105144, 0.8050981978105144, 0.8050981978105144, 0.8050981978105144, 0.8050981978105144, 0.8050981978105144, 0.8050981978105144, 0.8050981978105144, 0.8050981978105144, 0.8050981978105144, 0.8050981978105144, 0.8050981978105144, 0.8050981978105144, 0.8050981978105144, 0.8050981978105144, 0.8050981978105144, 0.8050981978105144, 0.8050981978105144, 0.8050981978105144, 0.8050981978105144, 0.8050981978105144, 0.8050981978105144, 0.8050981978105144, 0.8050981978105144, 0.8050981978105144, 0.8050981978105144, 0.8050981978105144, 0.8050981978105144, 0.8316692322599881, 0.8316692322599881]}], \"AUC_weighted\": [{\"categories\": [\"0\", \"1\", \"2\", \"3\", \"4\", \"5\", \"6\", \"7\", \"8\", \"9\", \"10\", \"11\", \"12\", \"13\", \"14\", \"15\", \"16\", \"17\", \"18\", \"19\", \"20\", \"21\", \"22\", \"23\", \"24\", \"25\", \"26\", \"27\", \"28\", \"29\", \"30\"], \"mode\": \"markers\", \"name\": \"AUC_weighted\", \"stepped\": false, \"type\": \"scatter\", \"data\": [0.8527722226662368, 0.8566136774940489, 0.83262286891546, 0.8143565439871587, 0.7116756952027693, 0.8178697236222681, 0.8441793814955776, 0.8454715775018252, 0.8398820494006746, 0.8484870290673626, 0.8535142826299644, 0.8508882292023674, 0.840485731653251, 0.8443529327335627, 0.8340333865113493, 0.8463035012734217, 0.8294440308879583, 0.8312414130342981, 0.8480115102893327, 0.8495856315855264, 0.8481640076338465, 0.8472719695670671, 0.8462551774488978, 0.8429653235768519, 0.8404701459333733, 0.5, 0.847785462013093, 0.846626069827132, 0.8163779447006233, 0.8622953656272443, 0.8620805685819004]}, {\"categories\": [\"0\", \"1\", \"2\", \"3\", \"4\", \"5\", \"6\", \"7\", \"8\", \"9\", \"10\", \"11\", \"12\", \"13\", \"14\", \"15\", \"16\", \"17\", \"18\", \"19\", \"20\", \"21\", \"22\", \"23\", \"24\", \"25\", \"26\", \"27\", \"28\", \"29\", \"30\"], \"mode\": \"lines\", \"name\": \"AUC_weighted_max\", \"stepped\": true, \"type\": \"scatter\", \"data\": [0.8527722226662368, 0.8566136774940489, 0.8566136774940489, 0.8566136774940489, 0.8566136774940489, 0.8566136774940489, 0.8566136774940489, 0.8566136774940489, 0.8566136774940489, 0.8566136774940489, 0.8566136774940489, 0.8566136774940489, 0.8566136774940489, 0.8566136774940489, 0.8566136774940489, 0.8566136774940489, 0.8566136774940489, 0.8566136774940489, 0.8566136774940489, 0.8566136774940489, 0.8566136774940489, 0.8566136774940489, 0.8566136774940489, 0.8566136774940489, 0.8566136774940489, 0.8566136774940489, 0.8566136774940489, 0.8566136774940489, 0.8566136774940489, 0.8622953656272443, 0.8622953656272443]}], \"precision_score_macro\": [{\"categories\": [\"0\", \"1\", \"2\", \"3\", \"4\", \"5\", \"6\", \"7\", \"8\", \"9\", \"10\", \"11\", \"12\", \"13\", \"14\", \"15\", \"16\", \"17\", \"18\", \"19\", \"20\", \"21\", \"22\", \"23\", \"24\", \"25\", \"26\", \"27\", \"28\", \"29\", \"30\"], \"mode\": \"markers\", \"name\": \"precision_score_macro\", \"stepped\": false, \"type\": \"scatter\", \"data\": [0.8090657022278036, 0.8159790631455117, 0.783799250646995, 0.662067541994757, 0.6680506853328148, 0.7718760288822832, 0.8114380403550395, 0.7868462974535462, 0.7770379904579265, 0.795308766886393, 0.8055707526500516, 0.8194499014942365, 0.8116981318026509, 0.7749324468088372, 0.7791154548025659, 0.7945197774369988, 0.800663963059035, 0.7804436617976109, 0.7797599009981013, 0.7801396538538198, 0.7853631896745744, 0.7785012384401193, 0.8162365048765405, 0.8186471543434021, 0.7953036037138007, 0.31284198113207545, 0.771268710890654, 0.7883513122917655, 0.31284198113207545, 0.8489911417576252, 0.8318392976846927]}, {\"categories\": [\"0\", \"1\", \"2\", \"3\", \"4\", \"5\", \"6\", \"7\", \"8\", \"9\", \"10\", \"11\", \"12\", \"13\", \"14\", \"15\", \"16\", \"17\", \"18\", \"19\", \"20\", \"21\", \"22\", \"23\", \"24\", \"25\", \"26\", \"27\", \"28\", \"29\", \"30\"], \"mode\": \"lines\", \"name\": \"precision_score_macro_max\", \"stepped\": true, \"type\": \"scatter\", \"data\": [0.8090657022278036, 0.8159790631455117, 0.8159790631455117, 0.8159790631455117, 0.8159790631455117, 0.8159790631455117, 0.8159790631455117, 0.8159790631455117, 0.8159790631455117, 0.8159790631455117, 0.8159790631455117, 0.8194499014942365, 0.8194499014942365, 0.8194499014942365, 0.8194499014942365, 0.8194499014942365, 0.8194499014942365, 0.8194499014942365, 0.8194499014942365, 0.8194499014942365, 0.8194499014942365, 0.8194499014942365, 0.8194499014942365, 0.8194499014942365, 0.8194499014942365, 0.8194499014942365, 0.8194499014942365, 0.8194499014942365, 0.8194499014942365, 0.8489911417576252, 0.8489911417576252]}], \"AUC_micro\": [{\"categories\": [\"0\", \"1\", \"2\", \"3\", \"4\", \"5\", \"6\", \"7\", \"8\", \"9\", \"10\", \"11\", \"12\", \"13\", \"14\", \"15\", \"16\", \"17\", \"18\", \"19\", \"20\", \"21\", \"22\", \"23\", \"24\", \"25\", \"26\", \"27\", \"28\", \"29\", \"30\"], \"mode\": \"markers\", \"name\": \"AUC_micro\", \"stepped\": false, \"type\": \"scatter\", \"data\": [0.8746174962175152, 0.8784891438975911, 0.8523724023228907, 0.7962353054789171, 0.7153846907633203, 0.8284730065315851, 0.8704516595961393, 0.8718853143788813, 0.8662313079115739, 0.8681271332102172, 0.8732267970511451, 0.8648231107353348, 0.8687405002150825, 0.8622483380552589, 0.849175931900439, 0.871688030598572, 0.7951990038220403, 0.8530684790455283, 0.8737514666399668, 0.8706106942343064, 0.8666144161499743, 0.8683861774900123, 0.872028108745204, 0.8632577772709743, 0.866007875850441, 0.6256839622641509, 0.864744912187018, 0.8647190105093747, 0.7736830113894821, 0.8853589924251415, 0.8842464137469838]}, {\"categories\": [\"0\", \"1\", \"2\", \"3\", \"4\", \"5\", \"6\", \"7\", \"8\", \"9\", \"10\", \"11\", \"12\", \"13\", \"14\", \"15\", \"16\", \"17\", \"18\", \"19\", \"20\", \"21\", \"22\", \"23\", \"24\", \"25\", \"26\", \"27\", \"28\", \"29\", \"30\"], \"mode\": \"lines\", \"name\": \"AUC_micro_max\", \"stepped\": true, \"type\": \"scatter\", \"data\": [0.8746174962175152, 0.8784891438975911, 0.8784891438975911, 0.8784891438975911, 0.8784891438975911, 0.8784891438975911, 0.8784891438975911, 0.8784891438975911, 0.8784891438975911, 0.8784891438975911, 0.8784891438975911, 0.8784891438975911, 0.8784891438975911, 0.8784891438975911, 0.8784891438975911, 0.8784891438975911, 0.8784891438975911, 0.8784891438975911, 0.8784891438975911, 0.8784891438975911, 0.8784891438975911, 0.8784891438975911, 0.8784891438975911, 0.8784891438975911, 0.8784891438975911, 0.8784891438975911, 0.8784891438975911, 0.8784891438975911, 0.8784891438975911, 0.8853589924251415, 0.8853589924251415]}], \"weighted_accuracy\": [{\"categories\": [\"0\", \"1\", \"2\", \"3\", \"4\", \"5\", \"6\", \"7\", \"8\", \"9\", \"10\", \"11\", \"12\", \"13\", \"14\", \"15\", \"16\", \"17\", \"18\", \"19\", \"20\", \"21\", \"22\", \"23\", \"24\", \"25\", \"26\", \"27\", \"28\", \"29\", \"30\"], \"mode\": \"markers\", \"name\": \"weighted_accuracy\", \"stepped\": false, \"type\": \"scatter\", \"data\": [0.8391534203899227, 0.844138553221644, 0.8144616520840611, 0.7695097680628853, 0.6757894443268587, 0.7969978227610353, 0.8395167554381583, 0.8146344013623381, 0.8050041770903448, 0.8255910591704654, 0.836355568605574, 0.8430982217978059, 0.8410544460781951, 0.8072982734918914, 0.8127354083111402, 0.8262751474824126, 0.7748347349658807, 0.8136310288082468, 0.8133947598572391, 0.8051912299048987, 0.8161134029044081, 0.8066197325812545, 0.8434615781135676, 0.8467785864066169, 0.8257921580091427, 0.7348290632632446, 0.7931798890479815, 0.8178406249858666, 0.7348290632632446, 0.8717851658201852, 0.8583524762359662]}, {\"categories\": [\"0\", \"1\", \"2\", \"3\", \"4\", \"5\", \"6\", \"7\", \"8\", \"9\", \"10\", \"11\", \"12\", \"13\", \"14\", \"15\", \"16\", \"17\", \"18\", \"19\", \"20\", \"21\", \"22\", \"23\", \"24\", \"25\", \"26\", \"27\", \"28\", \"29\", \"30\"], \"mode\": \"lines\", \"name\": \"weighted_accuracy_max\", \"stepped\": true, \"type\": \"scatter\", \"data\": [0.8391534203899227, 0.844138553221644, 0.844138553221644, 0.844138553221644, 0.844138553221644, 0.844138553221644, 0.844138553221644, 0.844138553221644, 0.844138553221644, 0.844138553221644, 0.844138553221644, 0.844138553221644, 0.844138553221644, 0.844138553221644, 0.844138553221644, 0.844138553221644, 0.844138553221644, 0.844138553221644, 0.844138553221644, 0.844138553221644, 0.844138553221644, 0.844138553221644, 0.844138553221644, 0.8467785864066169, 0.8467785864066169, 0.8467785864066169, 0.8467785864066169, 0.8467785864066169, 0.8467785864066169, 0.8717851658201852, 0.8717851658201852]}], \"precision_score_weighted\": [{\"categories\": [\"0\", \"1\", \"2\", \"3\", \"4\", \"5\", \"6\", \"7\", \"8\", \"9\", \"10\", \"11\", \"12\", \"13\", \"14\", \"15\", \"16\", \"17\", \"18\", \"19\", \"20\", \"21\", \"22\", \"23\", \"24\", \"25\", \"26\", \"27\", \"28\", \"29\", \"30\"], \"mode\": \"markers\", \"name\": \"precision_score_weighted\", \"stepped\": false, \"type\": \"scatter\", \"data\": [0.815771192112455, 0.8211453252460966, 0.7945380598098433, 0.6774446814294119, 0.6958554884032125, 0.7888293436439536, 0.8164524119493898, 0.7992930224197552, 0.7919862966575074, 0.8045280354885165, 0.8098778014643664, 0.8123377834006726, 0.8155930529759627, 0.7876383059188354, 0.7895563725743677, 0.8011002137728879, 0.7727255292086088, 0.7890436954595536, 0.7874794569139464, 0.7876070879721399, 0.7977876444594771, 0.7932390543656022, 0.8214692221997317, 0.8173352494585373, 0.8036474511146772, 0.39215399194306, 0.7897190663704335, 0.7998897575714423, 0.39215399194306, 0.8497408973206989, 0.8356637973778586]}, {\"categories\": [\"0\", \"1\", \"2\", \"3\", \"4\", \"5\", \"6\", \"7\", \"8\", \"9\", \"10\", \"11\", \"12\", \"13\", \"14\", \"15\", \"16\", \"17\", \"18\", \"19\", \"20\", \"21\", \"22\", \"23\", \"24\", \"25\", \"26\", \"27\", \"28\", \"29\", \"30\"], \"mode\": \"lines\", \"name\": \"precision_score_weighted_max\", \"stepped\": true, \"type\": \"scatter\", \"data\": [0.815771192112455, 0.8211453252460966, 0.8211453252460966, 0.8211453252460966, 0.8211453252460966, 0.8211453252460966, 0.8211453252460966, 0.8211453252460966, 0.8211453252460966, 0.8211453252460966, 0.8211453252460966, 0.8211453252460966, 0.8211453252460966, 0.8211453252460966, 0.8211453252460966, 0.8211453252460966, 0.8211453252460966, 0.8211453252460966, 0.8211453252460966, 0.8211453252460966, 0.8211453252460966, 0.8211453252460966, 0.8214692221997317, 0.8214692221997317, 0.8214692221997317, 0.8214692221997317, 0.8214692221997317, 0.8214692221997317, 0.8214692221997317, 0.8497408973206989, 0.8497408973206989]}], \"recall_score_weighted\": [{\"categories\": [\"0\", \"1\", \"2\", \"3\", \"4\", \"5\", \"6\", \"7\", \"8\", \"9\", \"10\", \"11\", \"12\", \"13\", \"14\", \"15\", \"16\", \"17\", \"18\", \"19\", \"20\", \"21\", \"22\", \"23\", \"24\", \"25\", \"26\", \"27\", \"28\", \"29\", \"30\"], \"mode\": \"markers\", \"name\": \"recall_score_weighted\", \"stepped\": false, \"type\": \"scatter\", \"data\": [0.8178144654088051, 0.8228616352201257, 0.7952279874213837, 0.7011242138364779, 0.6707783018867925, 0.7864308176100628, 0.816556603773585, 0.7989779874213838, 0.7914386792452831, 0.8065172955974843, 0.8115723270440253, 0.8040644654088052, 0.8165644654088051, 0.7889150943396227, 0.7914308176100628, 0.8027594339622641, 0.6935691823899371, 0.7914779874213836, 0.7876808176100629, 0.7801650943396228, 0.7989544025157234, 0.792688679245283, 0.8215801886792453, 0.8153223270440252, 0.805251572327044, 0.6256839622641509, 0.7851729559748428, 0.8015015723270441, 0.6256839622641509, 0.8492138364779874, 0.8366430817610062]}, {\"categories\": [\"0\", \"1\", \"2\", \"3\", \"4\", \"5\", \"6\", \"7\", \"8\", \"9\", \"10\", \"11\", \"12\", \"13\", \"14\", \"15\", \"16\", \"17\", \"18\", \"19\", \"20\", \"21\", \"22\", \"23\", \"24\", \"25\", \"26\", \"27\", \"28\", \"29\", \"30\"], \"mode\": \"lines\", \"name\": \"recall_score_weighted_max\", \"stepped\": true, \"type\": \"scatter\", \"data\": [0.8178144654088051, 0.8228616352201257, 0.8228616352201257, 0.8228616352201257, 0.8228616352201257, 0.8228616352201257, 0.8228616352201257, 0.8228616352201257, 0.8228616352201257, 0.8228616352201257, 0.8228616352201257, 0.8228616352201257, 0.8228616352201257, 0.8228616352201257, 0.8228616352201257, 0.8228616352201257, 0.8228616352201257, 0.8228616352201257, 0.8228616352201257, 0.8228616352201257, 0.8228616352201257, 0.8228616352201257, 0.8228616352201257, 0.8228616352201257, 0.8228616352201257, 0.8228616352201257, 0.8228616352201257, 0.8228616352201257, 0.8228616352201257, 0.8492138364779874, 0.8492138364779874]}], \"average_precision_score_micro\": [{\"categories\": [\"0\", \"1\", \"2\", \"3\", \"4\", \"5\", \"6\", \"7\", \"8\", \"9\", \"10\", \"11\", \"12\", \"13\", \"14\", \"15\", \"16\", \"17\", \"18\", \"19\", \"20\", \"21\", \"22\", \"23\", \"24\", \"25\", \"26\", \"27\", \"28\", \"29\", \"30\"], \"mode\": \"markers\", \"name\": \"average_precision_score_micro\", \"stepped\": false, \"type\": \"scatter\", \"data\": [0.8489299730746813, 0.8606357198316624, 0.8349131934686775, 0.7874571559589558, 0.7000940765502531, 0.8134146324093952, 0.8512223493498379, 0.8517405379230324, 0.8447841634700364, 0.8550999723259762, 0.8505626020645751, 0.8366623574119684, 0.8534966809331804, 0.8413292924349168, 0.8349872352401683, 0.8548730636259079, 0.7908629934126713, 0.8410478887449233, 0.8559895247339175, 0.8552497930754411, 0.8505798849953405, 0.8496345876576401, 0.8492172235363347, 0.8440536791381549, 0.8531053134786486, 0.5793120108109845, 0.8558667842733202, 0.8526258847386881, 0.7764059358668742, 0.8654153204989659, 0.867852594742909]}, {\"categories\": [\"0\", \"1\", \"2\", \"3\", \"4\", \"5\", \"6\", \"7\", \"8\", \"9\", \"10\", \"11\", \"12\", \"13\", \"14\", \"15\", \"16\", \"17\", \"18\", \"19\", \"20\", \"21\", \"22\", \"23\", \"24\", \"25\", \"26\", \"27\", \"28\", \"29\", \"30\"], \"mode\": \"lines\", \"name\": \"average_precision_score_micro_max\", \"stepped\": true, \"type\": \"scatter\", \"data\": [0.8489299730746813, 0.8606357198316624, 0.8606357198316624, 0.8606357198316624, 0.8606357198316624, 0.8606357198316624, 0.8606357198316624, 0.8606357198316624, 0.8606357198316624, 0.8606357198316624, 0.8606357198316624, 0.8606357198316624, 0.8606357198316624, 0.8606357198316624, 0.8606357198316624, 0.8606357198316624, 0.8606357198316624, 0.8606357198316624, 0.8606357198316624, 0.8606357198316624, 0.8606357198316624, 0.8606357198316624, 0.8606357198316624, 0.8606357198316624, 0.8606357198316624, 0.8606357198316624, 0.8606357198316624, 0.8606357198316624, 0.8606357198316624, 0.8654153204989659, 0.867852594742909]}], \"balanced_accuracy\": [{\"categories\": [\"0\", \"1\", \"2\", \"3\", \"4\", \"5\", \"6\", \"7\", \"8\", \"9\", \"10\", \"11\", \"12\", \"13\", \"14\", \"15\", \"16\", \"17\", \"18\", \"19\", \"20\", \"21\", \"22\", \"23\", \"24\", \"25\", \"26\", \"27\", \"28\", \"29\", \"30\"], \"mode\": \"markers\", \"name\": \"balanced_accuracy\", \"stepped\": false, \"type\": \"scatter\", \"data\": [0.7930422279697511, 0.7982252826392046, 0.7726174610344119, 0.6226132826642303, 0.6649304918416356, 0.7741128920255937, 0.7899048559203594, 0.7806361107154279, 0.7755857714542139, 0.7843957331732746, 0.7828138606283982, 0.7589865973509069, 0.788075955170475, 0.7675285885770056, 0.7667627420941854, 0.7754757559284592, 0.6005138420288512, 0.7659479362470213, 0.7580793379739263, 0.7516387469057988, 0.7789805585753369, 0.7764038016766748, 0.7961233959034293, 0.7789228674167102, 0.7813509625407834, 0.5, 0.7756394413064189, 0.7825373530073724, 0.5, 0.82294614669458, 0.8114672658099196]}, {\"categories\": [\"0\", \"1\", \"2\", \"3\", \"4\", \"5\", \"6\", \"7\", \"8\", \"9\", \"10\", \"11\", \"12\", \"13\", \"14\", \"15\", \"16\", \"17\", \"18\", \"19\", \"20\", \"21\", \"22\", \"23\", \"24\", \"25\", \"26\", \"27\", \"28\", \"29\", \"30\"], \"mode\": \"lines\", \"name\": \"balanced_accuracy_max\", \"stepped\": true, \"type\": \"scatter\", \"data\": [0.7930422279697511, 0.7982252826392046, 0.7982252826392046, 0.7982252826392046, 0.7982252826392046, 0.7982252826392046, 0.7982252826392046, 0.7982252826392046, 0.7982252826392046, 0.7982252826392046, 0.7982252826392046, 0.7982252826392046, 0.7982252826392046, 0.7982252826392046, 0.7982252826392046, 0.7982252826392046, 0.7982252826392046, 0.7982252826392046, 0.7982252826392046, 0.7982252826392046, 0.7982252826392046, 0.7982252826392046, 0.7982252826392046, 0.7982252826392046, 0.7982252826392046, 0.7982252826392046, 0.7982252826392046, 0.7982252826392046, 0.7982252826392046, 0.82294614669458, 0.82294614669458]}], \"f1_score_micro\": [{\"categories\": [\"0\", \"1\", \"2\", \"3\", \"4\", \"5\", \"6\", \"7\", \"8\", \"9\", \"10\", \"11\", \"12\", \"13\", \"14\", \"15\", \"16\", \"17\", \"18\", \"19\", \"20\", \"21\", \"22\", \"23\", \"24\", \"25\", \"26\", \"27\", \"28\", \"29\", \"30\"], \"mode\": \"markers\", \"name\": \"f1_score_micro\", \"stepped\": false, \"type\": \"scatter\", \"data\": [0.8178144654088051, 0.8228616352201257, 0.7952279874213837, 0.7011242138364779, 0.6707783018867925, 0.7864308176100628, 0.816556603773585, 0.7989779874213838, 0.7914386792452831, 0.8065172955974843, 0.8115723270440253, 0.8040644654088052, 0.8165644654088051, 0.7889150943396227, 0.7914308176100628, 0.8027594339622641, 0.6935691823899371, 0.7914779874213836, 0.7876808176100629, 0.7801650943396228, 0.7989544025157234, 0.792688679245283, 0.8215801886792453, 0.8153223270440252, 0.805251572327044, 0.6256839622641509, 0.7851729559748428, 0.8015015723270441, 0.6256839622641509, 0.8492138364779874, 0.8366430817610062]}, {\"categories\": [\"0\", \"1\", \"2\", \"3\", \"4\", \"5\", \"6\", \"7\", \"8\", \"9\", \"10\", \"11\", \"12\", \"13\", \"14\", \"15\", \"16\", \"17\", \"18\", \"19\", \"20\", \"21\", \"22\", \"23\", \"24\", \"25\", \"26\", \"27\", \"28\", \"29\", \"30\"], \"mode\": \"lines\", \"name\": \"f1_score_micro_max\", \"stepped\": true, \"type\": \"scatter\", \"data\": [0.8178144654088051, 0.8228616352201257, 0.8228616352201257, 0.8228616352201257, 0.8228616352201257, 0.8228616352201257, 0.8228616352201257, 0.8228616352201257, 0.8228616352201257, 0.8228616352201257, 0.8228616352201257, 0.8228616352201257, 0.8228616352201257, 0.8228616352201257, 0.8228616352201257, 0.8228616352201257, 0.8228616352201257, 0.8228616352201257, 0.8228616352201257, 0.8228616352201257, 0.8228616352201257, 0.8228616352201257, 0.8228616352201257, 0.8228616352201257, 0.8228616352201257, 0.8228616352201257, 0.8228616352201257, 0.8228616352201257, 0.8228616352201257, 0.8492138364779874, 0.8492138364779874]}], \"recall_score_macro\": [{\"categories\": [\"0\", \"1\", \"2\", \"3\", \"4\", \"5\", \"6\", \"7\", \"8\", \"9\", \"10\", \"11\", \"12\", \"13\", \"14\", \"15\", \"16\", \"17\", \"18\", \"19\", \"20\", \"21\", \"22\", \"23\", \"24\", \"25\", \"26\", \"27\", \"28\", \"29\", \"30\"], \"mode\": \"markers\", \"name\": \"recall_score_macro\", \"stepped\": false, \"type\": \"scatter\", \"data\": [0.7930422279697511, 0.7982252826392046, 0.7726174610344119, 0.6226132826642303, 0.6649304918416356, 0.7741128920255937, 0.7899048559203594, 0.7806361107154279, 0.7755857714542139, 0.7843957331732746, 0.7828138606283982, 0.7589865973509069, 0.788075955170475, 0.7675285885770056, 0.7667627420941854, 0.7754757559284592, 0.6005138420288512, 0.7659479362470213, 0.7580793379739263, 0.7516387469057988, 0.7789805585753369, 0.7764038016766748, 0.7961233959034293, 0.7789228674167102, 0.7813509625407834, 0.5, 0.7756394413064189, 0.7825373530073724, 0.5, 0.82294614669458, 0.8114672658099196]}, {\"categories\": [\"0\", \"1\", \"2\", \"3\", \"4\", \"5\", \"6\", \"7\", \"8\", \"9\", \"10\", \"11\", \"12\", \"13\", \"14\", \"15\", \"16\", \"17\", \"18\", \"19\", \"20\", \"21\", \"22\", \"23\", \"24\", \"25\", \"26\", \"27\", \"28\", \"29\", \"30\"], \"mode\": \"lines\", \"name\": \"recall_score_macro_max\", \"stepped\": true, \"type\": \"scatter\", \"data\": [0.7930422279697511, 0.7982252826392046, 0.7982252826392046, 0.7982252826392046, 0.7982252826392046, 0.7982252826392046, 0.7982252826392046, 0.7982252826392046, 0.7982252826392046, 0.7982252826392046, 0.7982252826392046, 0.7982252826392046, 0.7982252826392046, 0.7982252826392046, 0.7982252826392046, 0.7982252826392046, 0.7982252826392046, 0.7982252826392046, 0.7982252826392046, 0.7982252826392046, 0.7982252826392046, 0.7982252826392046, 0.7982252826392046, 0.7982252826392046, 0.7982252826392046, 0.7982252826392046, 0.7982252826392046, 0.7982252826392046, 0.7982252826392046, 0.82294614669458, 0.82294614669458]}], \"precision_score_micro\": [{\"categories\": [\"0\", \"1\", \"2\", \"3\", \"4\", \"5\", \"6\", \"7\", \"8\", \"9\", \"10\", \"11\", \"12\", \"13\", \"14\", \"15\", \"16\", \"17\", \"18\", \"19\", \"20\", \"21\", \"22\", \"23\", \"24\", \"25\", \"26\", \"27\", \"28\", \"29\", \"30\"], \"mode\": \"markers\", \"name\": \"precision_score_micro\", \"stepped\": false, \"type\": \"scatter\", \"data\": [0.8178144654088051, 0.8228616352201257, 0.7952279874213837, 0.7011242138364779, 0.6707783018867925, 0.7864308176100628, 0.816556603773585, 0.7989779874213838, 0.7914386792452831, 0.8065172955974843, 0.8115723270440253, 0.8040644654088052, 0.8165644654088051, 0.7889150943396227, 0.7914308176100628, 0.8027594339622641, 0.6935691823899371, 0.7914779874213836, 0.7876808176100629, 0.7801650943396228, 0.7989544025157234, 0.792688679245283, 0.8215801886792453, 0.8153223270440252, 0.805251572327044, 0.6256839622641509, 0.7851729559748428, 0.8015015723270441, 0.6256839622641509, 0.8492138364779874, 0.8366430817610062]}, {\"categories\": [\"0\", \"1\", \"2\", \"3\", \"4\", \"5\", \"6\", \"7\", \"8\", \"9\", \"10\", \"11\", \"12\", \"13\", \"14\", \"15\", \"16\", \"17\", \"18\", \"19\", \"20\", \"21\", \"22\", \"23\", \"24\", \"25\", \"26\", \"27\", \"28\", \"29\", \"30\"], \"mode\": \"lines\", \"name\": \"precision_score_micro_max\", \"stepped\": true, \"type\": \"scatter\", \"data\": [0.8178144654088051, 0.8228616352201257, 0.8228616352201257, 0.8228616352201257, 0.8228616352201257, 0.8228616352201257, 0.8228616352201257, 0.8228616352201257, 0.8228616352201257, 0.8228616352201257, 0.8228616352201257, 0.8228616352201257, 0.8228616352201257, 0.8228616352201257, 0.8228616352201257, 0.8228616352201257, 0.8228616352201257, 0.8228616352201257, 0.8228616352201257, 0.8228616352201257, 0.8228616352201257, 0.8228616352201257, 0.8228616352201257, 0.8228616352201257, 0.8228616352201257, 0.8228616352201257, 0.8228616352201257, 0.8228616352201257, 0.8228616352201257, 0.8492138364779874, 0.8492138364779874]}], \"average_precision_score_macro\": [{\"categories\": [\"0\", \"1\", \"2\", \"3\", \"4\", \"5\", \"6\", \"7\", \"8\", \"9\", \"10\", \"11\", \"12\", \"13\", \"14\", \"15\", \"16\", \"17\", \"18\", \"19\", \"20\", \"21\", \"22\", \"23\", \"24\", \"25\", \"26\", \"27\", \"28\", \"29\", \"30\"], \"mode\": \"markers\", \"name\": \"average_precision_score_macro\", \"stepped\": false, \"type\": \"scatter\", \"data\": [0.8357959557815142, 0.8462178900012747, 0.8161916385678755, 0.7823862083505436, 0.6883260163042194, 0.798437971251766, 0.8389491101537226, 0.8257037323273136, 0.8358632342518353, 0.8374947768503563, 0.8469932375451652, 0.8406180695181409, 0.838633925040903, 0.8366545413533961, 0.8230945180443395, 0.8441344035193827, 0.8194165937087039, 0.8172963592556137, 0.8345766439630273, 0.844310462550762, 0.8440999352740153, 0.8415017306599655, 0.8392099158447361, 0.8375296443101133, 0.8401704944183755, 0.5, 0.8425449852172505, 0.8356600226069449, 0.7966568519425218, 0.8563664319902132, 0.8543670787020469]}, {\"categories\": [\"0\", \"1\", \"2\", \"3\", \"4\", \"5\", \"6\", \"7\", \"8\", \"9\", \"10\", \"11\", \"12\", \"13\", \"14\", \"15\", \"16\", \"17\", \"18\", \"19\", \"20\", \"21\", \"22\", \"23\", \"24\", \"25\", \"26\", \"27\", \"28\", \"29\", \"30\"], \"mode\": \"lines\", \"name\": \"average_precision_score_macro_max\", \"stepped\": true, \"type\": \"scatter\", \"data\": [0.8357959557815142, 0.8462178900012747, 0.8462178900012747, 0.8462178900012747, 0.8462178900012747, 0.8462178900012747, 0.8462178900012747, 0.8462178900012747, 0.8462178900012747, 0.8462178900012747, 0.8469932375451652, 0.8469932375451652, 0.8469932375451652, 0.8469932375451652, 0.8469932375451652, 0.8469932375451652, 0.8469932375451652, 0.8469932375451652, 0.8469932375451652, 0.8469932375451652, 0.8469932375451652, 0.8469932375451652, 0.8469932375451652, 0.8469932375451652, 0.8469932375451652, 0.8469932375451652, 0.8469932375451652, 0.8469932375451652, 0.8469932375451652, 0.8563664319902132, 0.8563664319902132]}], \"matthews_correlation\": [{\"categories\": [\"0\", \"1\", \"2\", \"3\", \"4\", \"5\", \"6\", \"7\", \"8\", \"9\", \"10\", \"11\", \"12\", \"13\", \"14\", \"15\", \"16\", \"17\", \"18\", \"19\", \"20\", \"21\", \"22\", \"23\", \"24\", \"25\", \"26\", \"27\", \"28\", \"29\", \"30\"], \"mode\": \"markers\", \"name\": \"matthews_correlation\", \"stepped\": false, \"type\": \"scatter\", \"data\": [0.6018276530756322, 0.6139302289639177, 0.556134941645804, 0.2989765744193821, 0.3326917510641952, 0.5459090156558148, 0.600600328866494, 0.5672666452580291, 0.5525544142451215, 0.5795670684820283, 0.587863662174074, 0.5742520119081893, 0.5990529371217893, 0.5422828635493387, 0.5456290248831593, 0.5694841019625023, 0.32296685838761324, 0.5461669475967283, 0.5370376927651735, 0.5291684510973031, 0.5642192490900848, 0.5548163090749728, 0.6116135944968923, 0.5959584338364996, 0.5762979848173317, 0.0, 0.5468497090599092, 0.5708433025942987, 0.0, 0.6711350433177925, 0.6428542157591178]}, {\"categories\": [\"0\", \"1\", \"2\", \"3\", \"4\", \"5\", \"6\", \"7\", \"8\", \"9\", \"10\", \"11\", \"12\", \"13\", \"14\", \"15\", \"16\", \"17\", \"18\", \"19\", \"20\", \"21\", \"22\", \"23\", \"24\", \"25\", \"26\", \"27\", \"28\", \"29\", \"30\"], \"mode\": \"lines\", \"name\": \"matthews_correlation_max\", \"stepped\": true, \"type\": \"scatter\", \"data\": [0.6018276530756322, 0.6139302289639177, 0.6139302289639177, 0.6139302289639177, 0.6139302289639177, 0.6139302289639177, 0.6139302289639177, 0.6139302289639177, 0.6139302289639177, 0.6139302289639177, 0.6139302289639177, 0.6139302289639177, 0.6139302289639177, 0.6139302289639177, 0.6139302289639177, 0.6139302289639177, 0.6139302289639177, 0.6139302289639177, 0.6139302289639177, 0.6139302289639177, 0.6139302289639177, 0.6139302289639177, 0.6139302289639177, 0.6139302289639177, 0.6139302289639177, 0.6139302289639177, 0.6139302289639177, 0.6139302289639177, 0.6139302289639177, 0.6711350433177925, 0.6711350433177925]}], \"f1_score_weighted\": [{\"categories\": [\"0\", \"1\", \"2\", \"3\", \"4\", \"5\", \"6\", \"7\", \"8\", \"9\", \"10\", \"11\", \"12\", \"13\", \"14\", \"15\", \"16\", \"17\", \"18\", \"19\", \"20\", \"21\", \"22\", \"23\", \"24\", \"25\", \"26\", \"27\", \"28\", \"29\", \"30\"], \"mode\": \"markers\", \"name\": \"f1_score_weighted\", \"stepped\": false, \"type\": \"scatter\", \"data\": [0.8150833929939278, 0.8202674037214246, 0.7928053033257909, 0.6386896199453908, 0.6665347442981957, 0.7868121934186794, 0.8129571547617822, 0.7977071292418684, 0.7911068148208276, 0.8045696414352491, 0.8078093020026664, 0.793352572185196, 0.8126412365137474, 0.7872035636901544, 0.7889062152465477, 0.799276296568473, 0.6212921052514073, 0.7885028206856235, 0.7830282369300893, 0.7738351549517057, 0.7975771044921247, 0.7921819977114419, 0.8181680010404564, 0.8090340442919111, 0.802669471549958, 0.481936200746328, 0.7860526854510604, 0.8003465058404226, 0.481936200746328, 0.8458554568430406, 0.8336233824450975]}, {\"categories\": [\"0\", \"1\", \"2\", \"3\", \"4\", \"5\", \"6\", \"7\", \"8\", \"9\", \"10\", \"11\", \"12\", \"13\", \"14\", \"15\", \"16\", \"17\", \"18\", \"19\", \"20\", \"21\", \"22\", \"23\", \"24\", \"25\", \"26\", \"27\", \"28\", \"29\", \"30\"], \"mode\": \"lines\", \"name\": \"f1_score_weighted_max\", \"stepped\": true, \"type\": \"scatter\", \"data\": [0.8150833929939278, 0.8202674037214246, 0.8202674037214246, 0.8202674037214246, 0.8202674037214246, 0.8202674037214246, 0.8202674037214246, 0.8202674037214246, 0.8202674037214246, 0.8202674037214246, 0.8202674037214246, 0.8202674037214246, 0.8202674037214246, 0.8202674037214246, 0.8202674037214246, 0.8202674037214246, 0.8202674037214246, 0.8202674037214246, 0.8202674037214246, 0.8202674037214246, 0.8202674037214246, 0.8202674037214246, 0.8202674037214246, 0.8202674037214246, 0.8202674037214246, 0.8202674037214246, 0.8202674037214246, 0.8202674037214246, 0.8202674037214246, 0.8458554568430406, 0.8458554568430406]}], \"AUC_macro\": [{\"categories\": [\"0\", \"1\", \"2\", \"3\", \"4\", \"5\", \"6\", \"7\", \"8\", \"9\", \"10\", \"11\", \"12\", \"13\", \"14\", \"15\", \"16\", \"17\", \"18\", \"19\", \"20\", \"21\", \"22\", \"23\", \"24\", \"25\", \"26\", \"27\", \"28\", \"29\", \"30\"], \"mode\": \"markers\", \"name\": \"AUC_macro\", \"stepped\": false, \"type\": \"scatter\", \"data\": [0.8527722226662368, 0.8566136774940489, 0.8326228689154602, 0.8143565439871587, 0.7116756952027693, 0.8178697236222681, 0.8441793814955776, 0.8454715775018252, 0.8398820494006746, 0.8484870290673626, 0.8535142826299644, 0.8508882292023674, 0.840485731653251, 0.8443529327335625, 0.8340333865113492, 0.8463035012734217, 0.8294440308879583, 0.8312414130342981, 0.8480115102893327, 0.8495856315855264, 0.8481640076338464, 0.8472719695670671, 0.8462551774488978, 0.8429653235768519, 0.8404701459333733, 0.5, 0.847785462013093, 0.846626069827132, 0.8163779447006233, 0.8622953656272443, 0.8620805685819004]}, {\"categories\": [\"0\", \"1\", \"2\", \"3\", \"4\", \"5\", \"6\", \"7\", \"8\", \"9\", \"10\", \"11\", \"12\", \"13\", \"14\", \"15\", \"16\", \"17\", \"18\", \"19\", \"20\", \"21\", \"22\", \"23\", \"24\", \"25\", \"26\", \"27\", \"28\", \"29\", \"30\"], \"mode\": \"lines\", \"name\": \"AUC_macro_max\", \"stepped\": true, \"type\": \"scatter\", \"data\": [0.8527722226662368, 0.8566136774940489, 0.8566136774940489, 0.8566136774940489, 0.8566136774940489, 0.8566136774940489, 0.8566136774940489, 0.8566136774940489, 0.8566136774940489, 0.8566136774940489, 0.8566136774940489, 0.8566136774940489, 0.8566136774940489, 0.8566136774940489, 0.8566136774940489, 0.8566136774940489, 0.8566136774940489, 0.8566136774940489, 0.8566136774940489, 0.8566136774940489, 0.8566136774940489, 0.8566136774940489, 0.8566136774940489, 0.8566136774940489, 0.8566136774940489, 0.8566136774940489, 0.8566136774940489, 0.8566136774940489, 0.8566136774940489, 0.8622953656272443, 0.8622953656272443]}]}, \"metricName\": null, \"primaryMetricName\": \"accuracy\", \"showLegend\": false}, \"run_metrics\": [{\"name\": \"experiment_status\", \"run_id\": \"AutoML_7dc1a82c-afc8-4e53-a5cf-4c2d3516a516\", \"categories\": [0, 1, 2, 3, 4, 5], \"series\": [{\"data\": [\"DatasetEvaluation\", \"FeaturesGeneration\", \"DatasetFeaturization\", \"DatasetFeaturizationCompleted\", \"DatasetCrossValidationSplit\", \"ModelSelection\"]}]}, {\"name\": \"experiment_status_description\", \"run_id\": \"AutoML_7dc1a82c-afc8-4e53-a5cf-4c2d3516a516\", \"categories\": [0, 1, 2, 3, 4, 5], \"series\": [{\"data\": [\"Gathering dataset statistics.\", \"Generating features for the dataset.\", \"Beginning to fit featurizers and featurize the dataset.\", \"Completed fit featurizers and featurizing the dataset.\", \"Generating individually featurized CV splits.\", \"Beginning model selection.\"]}]}, {\"name\": \"matthews_correlation\", \"run_id\": \"AutoML_7dc1a82c-afc8-4e53-a5cf-4c2d3516a516\", \"categories\": [0], \"series\": [{\"data\": [0.6711350433177925]}]}, {\"name\": \"f1_score_macro\", \"run_id\": \"AutoML_7dc1a82c-afc8-4e53-a5cf-4c2d3516a516\", \"categories\": [0], \"series\": [{\"data\": [0.8316692322599881]}]}, {\"name\": \"f1_score_micro\", \"run_id\": \"AutoML_7dc1a82c-afc8-4e53-a5cf-4c2d3516a516\", \"categories\": [0], \"series\": [{\"data\": [0.8492138364779874]}]}, {\"name\": \"precision_score_micro\", \"run_id\": \"AutoML_7dc1a82c-afc8-4e53-a5cf-4c2d3516a516\", \"categories\": [0], \"series\": [{\"data\": [0.8492138364779874]}]}, {\"name\": \"AUC_micro\", \"run_id\": \"AutoML_7dc1a82c-afc8-4e53-a5cf-4c2d3516a516\", \"categories\": [0], \"series\": [{\"data\": [0.8853589924251415]}]}, {\"name\": \"weighted_accuracy\", \"run_id\": \"AutoML_7dc1a82c-afc8-4e53-a5cf-4c2d3516a516\", \"categories\": [0], \"series\": [{\"data\": [0.8717851658201852]}]}, {\"name\": \"accuracy\", \"run_id\": \"AutoML_7dc1a82c-afc8-4e53-a5cf-4c2d3516a516\", \"categories\": [0], \"series\": [{\"data\": [0.8492138364779874]}]}, {\"name\": \"average_precision_score_weighted\", \"run_id\": \"AutoML_7dc1a82c-afc8-4e53-a5cf-4c2d3516a516\", \"categories\": [0], \"series\": [{\"data\": [0.8615063950402406]}]}, {\"name\": \"log_loss\", \"run_id\": \"AutoML_7dc1a82c-afc8-4e53-a5cf-4c2d3516a516\", \"categories\": [0], \"series\": [{\"data\": [0.47516086692762566]}]}, {\"name\": \"balanced_accuracy\", \"run_id\": \"AutoML_7dc1a82c-afc8-4e53-a5cf-4c2d3516a516\", \"categories\": [0], \"series\": [{\"data\": [0.82294614669458]}]}, {\"name\": \"precision_score_weighted\", \"run_id\": \"AutoML_7dc1a82c-afc8-4e53-a5cf-4c2d3516a516\", \"categories\": [0], \"series\": [{\"data\": [0.8497408973206989]}]}, {\"name\": \"average_precision_score_macro\", \"run_id\": \"AutoML_7dc1a82c-afc8-4e53-a5cf-4c2d3516a516\", \"categories\": [0], \"series\": [{\"data\": [0.8563664319902132]}]}, {\"name\": \"AUC_macro\", \"run_id\": \"AutoML_7dc1a82c-afc8-4e53-a5cf-4c2d3516a516\", \"categories\": [0], \"series\": [{\"data\": [0.8622953656272443]}]}, {\"name\": \"AUC_weighted\", \"run_id\": \"AutoML_7dc1a82c-afc8-4e53-a5cf-4c2d3516a516\", \"categories\": [0], \"series\": [{\"data\": [0.8622953656272443]}]}, {\"name\": \"recall_score_macro\", \"run_id\": \"AutoML_7dc1a82c-afc8-4e53-a5cf-4c2d3516a516\", \"categories\": [0], \"series\": [{\"data\": [0.82294614669458]}]}, {\"name\": \"average_precision_score_micro\", \"run_id\": \"AutoML_7dc1a82c-afc8-4e53-a5cf-4c2d3516a516\", \"categories\": [0], \"series\": [{\"data\": [0.8654153204989659]}]}, {\"name\": \"recall_score_micro\", \"run_id\": \"AutoML_7dc1a82c-afc8-4e53-a5cf-4c2d3516a516\", \"categories\": [0], \"series\": [{\"data\": [0.8492138364779874]}]}, {\"name\": \"f1_score_weighted\", \"run_id\": \"AutoML_7dc1a82c-afc8-4e53-a5cf-4c2d3516a516\", \"categories\": [0], \"series\": [{\"data\": [0.8458554568430406]}]}, {\"name\": \"norm_macro_recall\", \"run_id\": \"AutoML_7dc1a82c-afc8-4e53-a5cf-4c2d3516a516\", \"categories\": [0], \"series\": [{\"data\": [0.6458922933891598]}]}, {\"name\": \"recall_score_weighted\", \"run_id\": \"AutoML_7dc1a82c-afc8-4e53-a5cf-4c2d3516a516\", \"categories\": [0], \"series\": [{\"data\": [0.8492138364779874]}]}, {\"name\": \"precision_score_macro\", \"run_id\": \"AutoML_7dc1a82c-afc8-4e53-a5cf-4c2d3516a516\", \"categories\": [0], \"series\": [{\"data\": [0.8489911417576252]}]}], \"run_logs\": \"\\nRun is completed.\", \"graph\": {}, \"widget_settings\": {\"childWidgetDisplay\": \"popup\", \"send_telemetry\": false, \"log_level\": \"INFO\", \"sdk_version\": \"1.21.0\"}, \"loading\": false}"
          },
          "metadata": {}
        }
      ],
      "execution_count": 13,
      "metadata": {
        "gather": {
          "logged": 1611691177482
        }
      }
    },
    {
      "cell_type": "markdown",
      "source": [
        "### Measure Parent Run Time needed for the whole AutoML process"
      ],
      "metadata": {}
    },
    {
      "cell_type": "code",
      "source": [
        "import time\n",
        "import datetime as dt\n",
        "\n",
        "run_details = run.get_details()\n",
        "\n",
        "end_time_utc_str = run_details['endTimeUtc'].split(\".\")[0]\n",
        "start_time_utc_str = run_details['startTimeUtc'].split(\".\")[0]\n",
        "timestamp_end = time.mktime(datetime.strptime(end_time_utc_str, \"%Y-%m-%dT%H:%M:%S\").timetuple())\n",
        "timestamp_start = time.mktime(datetime.strptime(start_time_utc_str, \"%Y-%m-%dT%H:%M:%S\").timetuple())\n",
        "\n",
        "parent_run_time = timestamp_end - timestamp_start\n",
        "print('Run Timing: --- %s seconds needed for running the whole Remote AutoML Experiment ---' % (parent_run_time))"
      ],
      "outputs": [
        {
          "output_type": "stream",
          "name": "stdout",
          "text": [
            "Run Timing: --- 2504.0 seconds needed for running the whole Remote AutoML Experiment ---\n"
          ]
        }
      ],
      "execution_count": 14,
      "metadata": {
        "gather": {
          "logged": 1611691178046
        }
      }
    },
    {
      "cell_type": "markdown",
      "source": [
        "### Retrieve the 'Best Model'"
      ],
      "metadata": {}
    },
    {
      "cell_type": "code",
      "source": [
        "fitted_model = run.get_output(iteration=29)"
      ],
      "outputs": [
        {
          "output_type": "error",
          "ename": "ImportError",
          "evalue": "cannot import name 'UnhashableValueInColumn'",
          "traceback": [
            "\u001b[0;31m---------------------------------------------------------------------------\u001b[0m",
            "\u001b[0;31mImportError\u001b[0m                               Traceback (most recent call last)",
            "\u001b[0;32m<ipython-input-24-9fab22c25f75>\u001b[0m in \u001b[0;36m<module>\u001b[0;34m\u001b[0m\n\u001b[0;32m----> 1\u001b[0;31m \u001b[0mfitted_model\u001b[0m \u001b[0;34m=\u001b[0m \u001b[0mrun\u001b[0m\u001b[0;34m.\u001b[0m\u001b[0mget_output\u001b[0m\u001b[0;34m(\u001b[0m\u001b[0miteration\u001b[0m\u001b[0;34m=\u001b[0m\u001b[0;36m29\u001b[0m\u001b[0;34m)\u001b[0m\u001b[0;34m\u001b[0m\u001b[0;34m\u001b[0m\u001b[0m\n\u001b[0m",
            "\u001b[0;32m/anaconda/envs/azureml_py36/lib/python3.6/site-packages/azureml/train/automl/run.py\u001b[0m in \u001b[0;36mget_output\u001b[0;34m(self, iteration, metric, return_onnx_model, return_split_onnx_model, **kwargs)\u001b[0m\n\u001b[1;32m    697\u001b[0m                     \u001b[0mfitted_model\u001b[0m \u001b[0;34m=\u001b[0m \u001b[0m_download_automl_onnx_model\u001b[0m\u001b[0;34m(\u001b[0m\u001b[0mcurr_run\u001b[0m\u001b[0;34m,\u001b[0m \u001b[0mmodel_name\u001b[0m\u001b[0;34m)\u001b[0m\u001b[0;34m\u001b[0m\u001b[0;34m\u001b[0m\u001b[0m\n\u001b[1;32m    698\u001b[0m                 \u001b[0;32melse\u001b[0m\u001b[0;34m:\u001b[0m\u001b[0;34m\u001b[0m\u001b[0;34m\u001b[0m\u001b[0m\n\u001b[0;32m--> 699\u001b[0;31m                     \u001b[0mfitted_model\u001b[0m \u001b[0;34m=\u001b[0m \u001b[0m_download_automl_model\u001b[0m\u001b[0;34m(\u001b[0m\u001b[0mcurr_run\u001b[0m\u001b[0;34m,\u001b[0m \u001b[0mmodel_name\u001b[0m\u001b[0;34m)\u001b[0m\u001b[0;34m\u001b[0m\u001b[0;34m\u001b[0m\u001b[0m\n\u001b[0m\u001b[1;32m    700\u001b[0m \u001b[0;34m\u001b[0m\u001b[0m\n\u001b[1;32m    701\u001b[0m             \u001b[0;32mreturn\u001b[0m \u001b[0mcurr_run\u001b[0m\u001b[0;34m,\u001b[0m \u001b[0mfitted_model\u001b[0m\u001b[0;34m\u001b[0m\u001b[0;34m\u001b[0m\u001b[0m\n",
            "\u001b[0;32m/anaconda/envs/azureml_py36/lib/python3.6/site-packages/azureml/train/automl/_model_download_utilities.py\u001b[0m in \u001b[0;36m_download_automl_model\u001b[0;34m(run, model_name)\u001b[0m\n\u001b[1;32m     85\u001b[0m             \u001b[0;31m# Pass through any exceptions from loading the model.\u001b[0m\u001b[0;34m\u001b[0m\u001b[0;34m\u001b[0m\u001b[0;34m\u001b[0m\u001b[0m\n\u001b[1;32m     86\u001b[0m             \u001b[0;31m# Try is used here to ensure we can cleanup the side effect of model downlad.\u001b[0m\u001b[0;34m\u001b[0m\u001b[0;34m\u001b[0m\u001b[0;34m\u001b[0m\u001b[0m\n\u001b[0;32m---> 87\u001b[0;31m             \u001b[0mmodel\u001b[0m \u001b[0;34m=\u001b[0m \u001b[0m_load_automl_model\u001b[0m\u001b[0;34m(\u001b[0m\u001b[0mmodel_path\u001b[0m\u001b[0;34m)\u001b[0m\u001b[0;34m\u001b[0m\u001b[0;34m\u001b[0m\u001b[0m\n\u001b[0m\u001b[1;32m     88\u001b[0m             \u001b[0;32mif\u001b[0m \u001b[0mmodel\u001b[0m \u001b[0;32mis\u001b[0m \u001b[0;32mNone\u001b[0m\u001b[0;34m:\u001b[0m\u001b[0;34m\u001b[0m\u001b[0;34m\u001b[0m\u001b[0m\n\u001b[1;32m     89\u001b[0m                 \u001b[0;31m# If we can retrieve the automl runtime version, we do so we can inform the user what to install.\u001b[0m\u001b[0;34m\u001b[0m\u001b[0;34m\u001b[0m\u001b[0;34m\u001b[0m\u001b[0m\n",
            "\u001b[0;32m/anaconda/envs/azureml_py36/lib/python3.6/site-packages/azureml/train/automl/_model_download_utilities.py\u001b[0m in \u001b[0;36m_load_automl_model\u001b[0;34m(model_path)\u001b[0m\n\u001b[1;32m    151\u001b[0m         \u001b[0;32mimport\u001b[0m \u001b[0mazureml\u001b[0m\u001b[0;34m.\u001b[0m\u001b[0mtrain\u001b[0m\u001b[0;34m.\u001b[0m\u001b[0mautoml\u001b[0m\u001b[0;34m.\u001b[0m\u001b[0mruntime\u001b[0m\u001b[0;34m\u001b[0m\u001b[0;34m\u001b[0m\u001b[0m\n\u001b[1;32m    152\u001b[0m         \u001b[0;32mwith\u001b[0m \u001b[0mopen\u001b[0m\u001b[0;34m(\u001b[0m\u001b[0mmodel_path\u001b[0m\u001b[0;34m,\u001b[0m \u001b[0;34m\"rb\"\u001b[0m\u001b[0;34m)\u001b[0m \u001b[0;32mas\u001b[0m \u001b[0mmodel_file\u001b[0m\u001b[0;34m:\u001b[0m\u001b[0;34m\u001b[0m\u001b[0;34m\u001b[0m\u001b[0m\n\u001b[0;32m--> 153\u001b[0;31m             \u001b[0mfitted_model\u001b[0m \u001b[0;34m=\u001b[0m \u001b[0mpickle\u001b[0m\u001b[0;34m.\u001b[0m\u001b[0mload\u001b[0m\u001b[0;34m(\u001b[0m\u001b[0mmodel_file\u001b[0m\u001b[0;34m)\u001b[0m  \u001b[0;31m# type: Optional[Any]\u001b[0m\u001b[0;34m\u001b[0m\u001b[0;34m\u001b[0m\u001b[0m\n\u001b[0m\u001b[1;32m    154\u001b[0m             \u001b[0;32mreturn\u001b[0m \u001b[0mfitted_model\u001b[0m\u001b[0;34m\u001b[0m\u001b[0;34m\u001b[0m\u001b[0m\n\u001b[1;32m    155\u001b[0m     \u001b[0;32mexcept\u001b[0m \u001b[0mImportError\u001b[0m \u001b[0;32mas\u001b[0m \u001b[0me\u001b[0m\u001b[0;34m:\u001b[0m\u001b[0;34m\u001b[0m\u001b[0;34m\u001b[0m\u001b[0m\n",
            "\u001b[0;32m/anaconda/envs/azureml_py36/lib/python3.6/site-packages/azureml/automl/runtime/_ml_engine/__init__.py\u001b[0m in \u001b[0;36m<module>\u001b[0;34m\u001b[0m\n\u001b[1;32m      4\u001b[0m \u001b[0;34m\"\"\"Classes and methods for MLEngine.\"\"\"\u001b[0m\u001b[0;34m\u001b[0m\u001b[0;34m\u001b[0m\u001b[0m\n\u001b[1;32m      5\u001b[0m \u001b[0;34m\u001b[0m\u001b[0m\n\u001b[0;32m----> 6\u001b[0;31m \u001b[0;32mfrom\u001b[0m \u001b[0;34m.\u001b[0m\u001b[0mml_engine\u001b[0m \u001b[0;32mimport\u001b[0m \u001b[0mvalidate\u001b[0m\u001b[0;34m,\u001b[0m \u001b[0mfeaturize\u001b[0m\u001b[0;34m,\u001b[0m \u001b[0mtrain\u001b[0m\u001b[0;34m,\u001b[0m \u001b[0mevaluate_classifier\u001b[0m\u001b[0;34m\u001b[0m\u001b[0;34m\u001b[0m\u001b[0m\n\u001b[0m\u001b[1;32m      7\u001b[0m \u001b[0;34m\u001b[0m\u001b[0m\n\u001b[1;32m      8\u001b[0m \u001b[0;32mfrom\u001b[0m \u001b[0;34m.\u001b[0m\u001b[0mfeaturizer_suggestion\u001b[0m \u001b[0;32mimport\u001b[0m \u001b[0msuggest_featurizers\u001b[0m\u001b[0;34m\u001b[0m\u001b[0;34m\u001b[0m\u001b[0m\n",
            "\u001b[0;32m/anaconda/envs/azureml_py36/lib/python3.6/site-packages/azureml/automl/runtime/_ml_engine/ml_engine.py\u001b[0m in \u001b[0;36m<module>\u001b[0;34m\u001b[0m\n\u001b[1;32m     47\u001b[0m \u001b[0;32mfrom\u001b[0m \u001b[0mazureml\u001b[0m\u001b[0;34m.\u001b[0m\u001b[0mautoml\u001b[0m\u001b[0;34m.\u001b[0m\u001b[0mcore\u001b[0m\u001b[0;34m.\u001b[0m\u001b[0mautoml_base_settings\u001b[0m \u001b[0;32mimport\u001b[0m \u001b[0mAutoMLBaseSettings\u001b[0m\u001b[0;34m\u001b[0m\u001b[0;34m\u001b[0m\u001b[0m\n\u001b[1;32m     48\u001b[0m \u001b[0;32mfrom\u001b[0m \u001b[0mazureml\u001b[0m\u001b[0;34m.\u001b[0m\u001b[0mautoml\u001b[0m\u001b[0;34m.\u001b[0m\u001b[0mruntime\u001b[0m\u001b[0;34m.\u001b[0m\u001b[0m_data_definition\u001b[0m \u001b[0;32mimport\u001b[0m \u001b[0mRawExperimentData\u001b[0m\u001b[0;34m\u001b[0m\u001b[0;34m\u001b[0m\u001b[0m\n\u001b[0;32m---> 49\u001b[0;31m \u001b[0;32mfrom\u001b[0m \u001b[0mazureml\u001b[0m\u001b[0;34m.\u001b[0m\u001b[0mautoml\u001b[0m\u001b[0;34m.\u001b[0m\u001b[0mruntime\u001b[0m\u001b[0;34m.\u001b[0m\u001b[0m_ml_engine\u001b[0m\u001b[0;34m.\u001b[0m\u001b[0mvalidation\u001b[0m \u001b[0;32mimport\u001b[0m \u001b[0mRawExperimentDataValidator\u001b[0m\u001b[0;34m\u001b[0m\u001b[0;34m\u001b[0m\u001b[0m\n\u001b[0m\u001b[1;32m     50\u001b[0m \u001b[0;32mfrom\u001b[0m \u001b[0mazureml\u001b[0m\u001b[0;34m.\u001b[0m\u001b[0mautoml\u001b[0m\u001b[0;34m.\u001b[0m\u001b[0mruntime\u001b[0m\u001b[0;34m.\u001b[0m\u001b[0mfeaturization\u001b[0m \u001b[0;32mimport\u001b[0m \u001b[0mAutoMLTransformer\u001b[0m\u001b[0;34m\u001b[0m\u001b[0;34m\u001b[0m\u001b[0m\n\u001b[1;32m     51\u001b[0m \u001b[0;32mfrom\u001b[0m \u001b[0mazureml\u001b[0m\u001b[0;34m.\u001b[0m\u001b[0mautoml\u001b[0m\u001b[0;34m.\u001b[0m\u001b[0mruntime\u001b[0m\u001b[0;34m.\u001b[0m\u001b[0mshared\u001b[0m\u001b[0;34m.\u001b[0m\u001b[0mtypes\u001b[0m \u001b[0;32mimport\u001b[0m \u001b[0mDataInputType\u001b[0m\u001b[0;34m\u001b[0m\u001b[0;34m\u001b[0m\u001b[0m\n",
            "\u001b[0;32m/anaconda/envs/azureml_py36/lib/python3.6/site-packages/azureml/automl/runtime/_ml_engine/validation/__init__.py\u001b[0m in \u001b[0;36m<module>\u001b[0;34m\u001b[0m\n\u001b[1;32m      5\u001b[0m \u001b[0;31m# Module containing all common interfaces related to data validations.\u001b[0m\u001b[0;34m\u001b[0m\u001b[0;34m\u001b[0m\u001b[0;34m\u001b[0m\u001b[0m\n\u001b[1;32m      6\u001b[0m \u001b[0;32mfrom\u001b[0m \u001b[0;34m.\u001b[0m\u001b[0mvalidators\u001b[0m \u001b[0;32mimport\u001b[0m \u001b[0mAbstractRawExperimentDataValidator\u001b[0m\u001b[0;34m,\u001b[0m \u001b[0mAbstractTabularDataValidator\u001b[0m\u001b[0;34m\u001b[0m\u001b[0;34m\u001b[0m\u001b[0m\n\u001b[0;32m----> 7\u001b[0;31m \u001b[0;32mfrom\u001b[0m \u001b[0;34m.\u001b[0m\u001b[0mmaterialized_tabular_data_validator\u001b[0m \u001b[0;32mimport\u001b[0m \u001b[0mMaterializedTabularDataValidator\u001b[0m\u001b[0;34m\u001b[0m\u001b[0;34m\u001b[0m\u001b[0m\n\u001b[0m\u001b[1;32m      8\u001b[0m \u001b[0;32mfrom\u001b[0m \u001b[0;34m.\u001b[0m\u001b[0mraw_experiment_data_validator\u001b[0m \u001b[0;32mimport\u001b[0m \u001b[0mRawExperimentDataValidator\u001b[0m\u001b[0;34m\u001b[0m\u001b[0;34m\u001b[0m\u001b[0m\n",
            "\u001b[0;32m/anaconda/envs/azureml_py36/lib/python3.6/site-packages/azureml/automl/runtime/_ml_engine/validation/materialized_tabular_data_validator.py\u001b[0m in \u001b[0;36m<module>\u001b[0;34m\u001b[0m\n\u001b[1;32m     24\u001b[0m \u001b[0;32mfrom\u001b[0m \u001b[0mazureml\u001b[0m\u001b[0;34m.\u001b[0m\u001b[0mautoml\u001b[0m\u001b[0;34m.\u001b[0m\u001b[0mruntime\u001b[0m \u001b[0;32mimport\u001b[0m \u001b[0m_common_training_utilities\u001b[0m\u001b[0;34m\u001b[0m\u001b[0;34m\u001b[0m\u001b[0m\n\u001b[1;32m     25\u001b[0m \u001b[0;32mfrom\u001b[0m \u001b[0mazureml\u001b[0m\u001b[0;34m.\u001b[0m\u001b[0mautoml\u001b[0m\u001b[0;34m.\u001b[0m\u001b[0mruntime\u001b[0m\u001b[0;34m.\u001b[0m\u001b[0m_data_definition\u001b[0m \u001b[0;32mimport\u001b[0m \u001b[0mMaterializedTabularData\u001b[0m\u001b[0;34m\u001b[0m\u001b[0;34m\u001b[0m\u001b[0m\n\u001b[0;32m---> 26\u001b[0;31m \u001b[0;32mfrom\u001b[0m \u001b[0mazureml\u001b[0m\u001b[0;34m.\u001b[0m\u001b[0mautoml\u001b[0m\u001b[0;34m.\u001b[0m\u001b[0mruntime\u001b[0m\u001b[0;34m.\u001b[0m\u001b[0m_ml_engine\u001b[0m\u001b[0;34m.\u001b[0m\u001b[0mvalidation\u001b[0m \u001b[0;32mimport\u001b[0m \u001b[0mcommon_data_validations\u001b[0m\u001b[0;34m\u001b[0m\u001b[0;34m\u001b[0m\u001b[0m\n\u001b[0m\u001b[1;32m     27\u001b[0m \u001b[0;32mfrom\u001b[0m \u001b[0mazureml\u001b[0m\u001b[0;34m.\u001b[0m\u001b[0mautoml\u001b[0m\u001b[0;34m.\u001b[0m\u001b[0mruntime\u001b[0m\u001b[0;34m.\u001b[0m\u001b[0m_ml_engine\u001b[0m\u001b[0;34m.\u001b[0m\u001b[0mvalidation\u001b[0m\u001b[0;34m.\u001b[0m\u001b[0mvalidators\u001b[0m \u001b[0;32mimport\u001b[0m \u001b[0mAbstractTabularDataValidator\u001b[0m\u001b[0;34m\u001b[0m\u001b[0;34m\u001b[0m\u001b[0m\n\u001b[1;32m     28\u001b[0m \u001b[0;32mfrom\u001b[0m \u001b[0mazureml\u001b[0m\u001b[0;34m.\u001b[0m\u001b[0mautoml\u001b[0m\u001b[0;34m.\u001b[0m\u001b[0mruntime\u001b[0m\u001b[0;34m.\u001b[0m\u001b[0mshared\u001b[0m \u001b[0;32mimport\u001b[0m \u001b[0mutilities\u001b[0m \u001b[0;32mas\u001b[0m \u001b[0mruntime_utilities\u001b[0m\u001b[0;34m\u001b[0m\u001b[0;34m\u001b[0m\u001b[0m\n",
            "\u001b[0;32m/anaconda/envs/azureml_py36/lib/python3.6/site-packages/azureml/automl/runtime/_ml_engine/validation/common_data_validations.py\u001b[0m in \u001b[0;36m<module>\u001b[0;34m\u001b[0m\n\u001b[1;32m     17\u001b[0m \u001b[0;32mfrom\u001b[0m \u001b[0mazureml\u001b[0m\u001b[0;34m.\u001b[0m\u001b[0mautoml\u001b[0m\u001b[0;34m.\u001b[0m\u001b[0mcore\u001b[0m\u001b[0;34m.\u001b[0m\u001b[0mfeaturization\u001b[0m \u001b[0;32mimport\u001b[0m \u001b[0mFeaturizationConfig\u001b[0m\u001b[0;34m\u001b[0m\u001b[0;34m\u001b[0m\u001b[0m\n\u001b[1;32m     18\u001b[0m \u001b[0;32mfrom\u001b[0m \u001b[0mazureml\u001b[0m\u001b[0;34m.\u001b[0m\u001b[0mautoml\u001b[0m\u001b[0;34m.\u001b[0m\u001b[0mcore\u001b[0m\u001b[0;34m.\u001b[0m\u001b[0mshared\u001b[0m \u001b[0;32mimport\u001b[0m \u001b[0mconstants\u001b[0m\u001b[0;34m,\u001b[0m \u001b[0mutilities\u001b[0m\u001b[0;34m\u001b[0m\u001b[0;34m\u001b[0m\u001b[0m\n\u001b[0;32m---> 19\u001b[0;31m from azureml.automl.core.shared._diagnostics.automl_error_definitions import (\n\u001b[0m\u001b[1;32m     20\u001b[0m     \u001b[0mDatasetContainsInf\u001b[0m\u001b[0;34m,\u001b[0m \u001b[0mDataShapeMismatch\u001b[0m\u001b[0;34m,\u001b[0m \u001b[0mExperimentTimeoutForDataSize\u001b[0m\u001b[0;34m,\u001b[0m \u001b[0mFeaturizationConfigColumnMissing\u001b[0m\u001b[0;34m,\u001b[0m\u001b[0;34m\u001b[0m\u001b[0;34m\u001b[0m\u001b[0m\n\u001b[1;32m     21\u001b[0m     \u001b[0mInvalidMetricForSingleValuedColumn\u001b[0m\u001b[0;34m,\u001b[0m \u001b[0mInvalidValuesInData\u001b[0m\u001b[0;34m,\u001b[0m \u001b[0mSampleCountMismatch\u001b[0m\u001b[0;34m,\u001b[0m \u001b[0mUnhashableValueInColumn\u001b[0m\u001b[0;34m,\u001b[0m\u001b[0;34m\u001b[0m\u001b[0;34m\u001b[0m\u001b[0m\n",
            "\u001b[0;31mImportError\u001b[0m: cannot import name 'UnhashableValueInColumn'"
          ]
        }
      ],
      "execution_count": 24,
      "metadata": {
        "collapsed": true,
        "jupyter": {
          "source_hidden": false,
          "outputs_hidden": false
        },
        "nteract": {
          "transient": {
            "deleting": false
          }
        }
      }
    },
    {
      "cell_type": "code",
      "source": [
        "best_run, fitted_model = run.get_output()\n",
        "print(best_run)\n",
        "print(fitted_model)"
      ],
      "outputs": [
        {
          "output_type": "error",
          "ename": "ImportError",
          "evalue": "cannot import name 'UnhashableValueInColumn'",
          "traceback": [
            "\u001b[0;31m---------------------------------------------------------------------------\u001b[0m",
            "\u001b[0;31mImportError\u001b[0m                               Traceback (most recent call last)",
            "\u001b[0;32m<ipython-input-15-161599dc225e>\u001b[0m in \u001b[0;36m<module>\u001b[0;34m\u001b[0m\n\u001b[0;32m----> 1\u001b[0;31m \u001b[0mbest_run\u001b[0m\u001b[0;34m,\u001b[0m \u001b[0mfitted_model\u001b[0m \u001b[0;34m=\u001b[0m \u001b[0mrun\u001b[0m\u001b[0;34m.\u001b[0m\u001b[0mget_output\u001b[0m\u001b[0;34m(\u001b[0m\u001b[0;34m)\u001b[0m\u001b[0;34m\u001b[0m\u001b[0;34m\u001b[0m\u001b[0m\n\u001b[0m\u001b[1;32m      2\u001b[0m \u001b[0mprint\u001b[0m\u001b[0;34m(\u001b[0m\u001b[0mbest_run\u001b[0m\u001b[0;34m)\u001b[0m\u001b[0;34m\u001b[0m\u001b[0;34m\u001b[0m\u001b[0m\n\u001b[1;32m      3\u001b[0m \u001b[0mprint\u001b[0m\u001b[0;34m(\u001b[0m\u001b[0mfitted_model\u001b[0m\u001b[0;34m)\u001b[0m\u001b[0;34m\u001b[0m\u001b[0;34m\u001b[0m\u001b[0m\n",
            "\u001b[0;32m/anaconda/envs/azureml_py36/lib/python3.6/site-packages/azureml/train/automl/run.py\u001b[0m in \u001b[0;36mget_output\u001b[0;34m(self, iteration, metric, return_onnx_model, return_split_onnx_model, **kwargs)\u001b[0m\n\u001b[1;32m    697\u001b[0m                     \u001b[0mfitted_model\u001b[0m \u001b[0;34m=\u001b[0m \u001b[0m_download_automl_onnx_model\u001b[0m\u001b[0;34m(\u001b[0m\u001b[0mcurr_run\u001b[0m\u001b[0;34m,\u001b[0m \u001b[0mmodel_name\u001b[0m\u001b[0;34m)\u001b[0m\u001b[0;34m\u001b[0m\u001b[0;34m\u001b[0m\u001b[0m\n\u001b[1;32m    698\u001b[0m                 \u001b[0;32melse\u001b[0m\u001b[0;34m:\u001b[0m\u001b[0;34m\u001b[0m\u001b[0;34m\u001b[0m\u001b[0m\n\u001b[0;32m--> 699\u001b[0;31m                     \u001b[0mfitted_model\u001b[0m \u001b[0;34m=\u001b[0m \u001b[0m_download_automl_model\u001b[0m\u001b[0;34m(\u001b[0m\u001b[0mcurr_run\u001b[0m\u001b[0;34m,\u001b[0m \u001b[0mmodel_name\u001b[0m\u001b[0;34m)\u001b[0m\u001b[0;34m\u001b[0m\u001b[0;34m\u001b[0m\u001b[0m\n\u001b[0m\u001b[1;32m    700\u001b[0m \u001b[0;34m\u001b[0m\u001b[0m\n\u001b[1;32m    701\u001b[0m             \u001b[0;32mreturn\u001b[0m \u001b[0mcurr_run\u001b[0m\u001b[0;34m,\u001b[0m \u001b[0mfitted_model\u001b[0m\u001b[0;34m\u001b[0m\u001b[0;34m\u001b[0m\u001b[0m\n",
            "\u001b[0;32m/anaconda/envs/azureml_py36/lib/python3.6/site-packages/azureml/train/automl/_model_download_utilities.py\u001b[0m in \u001b[0;36m_download_automl_model\u001b[0;34m(run, model_name)\u001b[0m\n\u001b[1;32m     85\u001b[0m             \u001b[0;31m# Pass through any exceptions from loading the model.\u001b[0m\u001b[0;34m\u001b[0m\u001b[0;34m\u001b[0m\u001b[0;34m\u001b[0m\u001b[0m\n\u001b[1;32m     86\u001b[0m             \u001b[0;31m# Try is used here to ensure we can cleanup the side effect of model downlad.\u001b[0m\u001b[0;34m\u001b[0m\u001b[0;34m\u001b[0m\u001b[0;34m\u001b[0m\u001b[0m\n\u001b[0;32m---> 87\u001b[0;31m             \u001b[0mmodel\u001b[0m \u001b[0;34m=\u001b[0m \u001b[0m_load_automl_model\u001b[0m\u001b[0;34m(\u001b[0m\u001b[0mmodel_path\u001b[0m\u001b[0;34m)\u001b[0m\u001b[0;34m\u001b[0m\u001b[0;34m\u001b[0m\u001b[0m\n\u001b[0m\u001b[1;32m     88\u001b[0m             \u001b[0;32mif\u001b[0m \u001b[0mmodel\u001b[0m \u001b[0;32mis\u001b[0m \u001b[0;32mNone\u001b[0m\u001b[0;34m:\u001b[0m\u001b[0;34m\u001b[0m\u001b[0;34m\u001b[0m\u001b[0m\n\u001b[1;32m     89\u001b[0m                 \u001b[0;31m# If we can retrieve the automl runtime version, we do so we can inform the user what to install.\u001b[0m\u001b[0;34m\u001b[0m\u001b[0;34m\u001b[0m\u001b[0;34m\u001b[0m\u001b[0m\n",
            "\u001b[0;32m/anaconda/envs/azureml_py36/lib/python3.6/site-packages/azureml/train/automl/_model_download_utilities.py\u001b[0m in \u001b[0;36m_load_automl_model\u001b[0;34m(model_path)\u001b[0m\n\u001b[1;32m    151\u001b[0m         \u001b[0;32mimport\u001b[0m \u001b[0mazureml\u001b[0m\u001b[0;34m.\u001b[0m\u001b[0mtrain\u001b[0m\u001b[0;34m.\u001b[0m\u001b[0mautoml\u001b[0m\u001b[0;34m.\u001b[0m\u001b[0mruntime\u001b[0m\u001b[0;34m\u001b[0m\u001b[0;34m\u001b[0m\u001b[0m\n\u001b[1;32m    152\u001b[0m         \u001b[0;32mwith\u001b[0m \u001b[0mopen\u001b[0m\u001b[0;34m(\u001b[0m\u001b[0mmodel_path\u001b[0m\u001b[0;34m,\u001b[0m \u001b[0;34m\"rb\"\u001b[0m\u001b[0;34m)\u001b[0m \u001b[0;32mas\u001b[0m \u001b[0mmodel_file\u001b[0m\u001b[0;34m:\u001b[0m\u001b[0;34m\u001b[0m\u001b[0;34m\u001b[0m\u001b[0m\n\u001b[0;32m--> 153\u001b[0;31m             \u001b[0mfitted_model\u001b[0m \u001b[0;34m=\u001b[0m \u001b[0mpickle\u001b[0m\u001b[0;34m.\u001b[0m\u001b[0mload\u001b[0m\u001b[0;34m(\u001b[0m\u001b[0mmodel_file\u001b[0m\u001b[0;34m)\u001b[0m  \u001b[0;31m# type: Optional[Any]\u001b[0m\u001b[0;34m\u001b[0m\u001b[0;34m\u001b[0m\u001b[0m\n\u001b[0m\u001b[1;32m    154\u001b[0m             \u001b[0;32mreturn\u001b[0m \u001b[0mfitted_model\u001b[0m\u001b[0;34m\u001b[0m\u001b[0;34m\u001b[0m\u001b[0m\n\u001b[1;32m    155\u001b[0m     \u001b[0;32mexcept\u001b[0m \u001b[0mImportError\u001b[0m \u001b[0;32mas\u001b[0m \u001b[0me\u001b[0m\u001b[0;34m:\u001b[0m\u001b[0;34m\u001b[0m\u001b[0;34m\u001b[0m\u001b[0m\n",
            "\u001b[0;32m/anaconda/envs/azureml_py36/lib/python3.6/site-packages/azureml/automl/runtime/_ml_engine/__init__.py\u001b[0m in \u001b[0;36m<module>\u001b[0;34m\u001b[0m\n\u001b[1;32m      4\u001b[0m \u001b[0;34m\"\"\"Classes and methods for MLEngine.\"\"\"\u001b[0m\u001b[0;34m\u001b[0m\u001b[0;34m\u001b[0m\u001b[0m\n\u001b[1;32m      5\u001b[0m \u001b[0;34m\u001b[0m\u001b[0m\n\u001b[0;32m----> 6\u001b[0;31m \u001b[0;32mfrom\u001b[0m \u001b[0;34m.\u001b[0m\u001b[0mml_engine\u001b[0m \u001b[0;32mimport\u001b[0m \u001b[0mvalidate\u001b[0m\u001b[0;34m,\u001b[0m \u001b[0mfeaturize\u001b[0m\u001b[0;34m,\u001b[0m \u001b[0mtrain\u001b[0m\u001b[0;34m,\u001b[0m \u001b[0mevaluate_classifier\u001b[0m\u001b[0;34m\u001b[0m\u001b[0;34m\u001b[0m\u001b[0m\n\u001b[0m\u001b[1;32m      7\u001b[0m \u001b[0;34m\u001b[0m\u001b[0m\n\u001b[1;32m      8\u001b[0m \u001b[0;32mfrom\u001b[0m \u001b[0;34m.\u001b[0m\u001b[0mfeaturizer_suggestion\u001b[0m \u001b[0;32mimport\u001b[0m \u001b[0msuggest_featurizers\u001b[0m\u001b[0;34m\u001b[0m\u001b[0;34m\u001b[0m\u001b[0m\n",
            "\u001b[0;32m/anaconda/envs/azureml_py36/lib/python3.6/site-packages/azureml/automl/runtime/_ml_engine/ml_engine.py\u001b[0m in \u001b[0;36m<module>\u001b[0;34m\u001b[0m\n\u001b[1;32m     47\u001b[0m \u001b[0;32mfrom\u001b[0m \u001b[0mazureml\u001b[0m\u001b[0;34m.\u001b[0m\u001b[0mautoml\u001b[0m\u001b[0;34m.\u001b[0m\u001b[0mcore\u001b[0m\u001b[0;34m.\u001b[0m\u001b[0mautoml_base_settings\u001b[0m \u001b[0;32mimport\u001b[0m \u001b[0mAutoMLBaseSettings\u001b[0m\u001b[0;34m\u001b[0m\u001b[0;34m\u001b[0m\u001b[0m\n\u001b[1;32m     48\u001b[0m \u001b[0;32mfrom\u001b[0m \u001b[0mazureml\u001b[0m\u001b[0;34m.\u001b[0m\u001b[0mautoml\u001b[0m\u001b[0;34m.\u001b[0m\u001b[0mruntime\u001b[0m\u001b[0;34m.\u001b[0m\u001b[0m_data_definition\u001b[0m \u001b[0;32mimport\u001b[0m \u001b[0mRawExperimentData\u001b[0m\u001b[0;34m\u001b[0m\u001b[0;34m\u001b[0m\u001b[0m\n\u001b[0;32m---> 49\u001b[0;31m \u001b[0;32mfrom\u001b[0m \u001b[0mazureml\u001b[0m\u001b[0;34m.\u001b[0m\u001b[0mautoml\u001b[0m\u001b[0;34m.\u001b[0m\u001b[0mruntime\u001b[0m\u001b[0;34m.\u001b[0m\u001b[0m_ml_engine\u001b[0m\u001b[0;34m.\u001b[0m\u001b[0mvalidation\u001b[0m \u001b[0;32mimport\u001b[0m \u001b[0mRawExperimentDataValidator\u001b[0m\u001b[0;34m\u001b[0m\u001b[0;34m\u001b[0m\u001b[0m\n\u001b[0m\u001b[1;32m     50\u001b[0m \u001b[0;32mfrom\u001b[0m \u001b[0mazureml\u001b[0m\u001b[0;34m.\u001b[0m\u001b[0mautoml\u001b[0m\u001b[0;34m.\u001b[0m\u001b[0mruntime\u001b[0m\u001b[0;34m.\u001b[0m\u001b[0mfeaturization\u001b[0m \u001b[0;32mimport\u001b[0m \u001b[0mAutoMLTransformer\u001b[0m\u001b[0;34m\u001b[0m\u001b[0;34m\u001b[0m\u001b[0m\n\u001b[1;32m     51\u001b[0m \u001b[0;32mfrom\u001b[0m \u001b[0mazureml\u001b[0m\u001b[0;34m.\u001b[0m\u001b[0mautoml\u001b[0m\u001b[0;34m.\u001b[0m\u001b[0mruntime\u001b[0m\u001b[0;34m.\u001b[0m\u001b[0mshared\u001b[0m\u001b[0;34m.\u001b[0m\u001b[0mtypes\u001b[0m \u001b[0;32mimport\u001b[0m \u001b[0mDataInputType\u001b[0m\u001b[0;34m\u001b[0m\u001b[0;34m\u001b[0m\u001b[0m\n",
            "\u001b[0;32m/anaconda/envs/azureml_py36/lib/python3.6/site-packages/azureml/automl/runtime/_ml_engine/validation/__init__.py\u001b[0m in \u001b[0;36m<module>\u001b[0;34m\u001b[0m\n\u001b[1;32m      5\u001b[0m \u001b[0;31m# Module containing all common interfaces related to data validations.\u001b[0m\u001b[0;34m\u001b[0m\u001b[0;34m\u001b[0m\u001b[0;34m\u001b[0m\u001b[0m\n\u001b[1;32m      6\u001b[0m \u001b[0;32mfrom\u001b[0m \u001b[0;34m.\u001b[0m\u001b[0mvalidators\u001b[0m \u001b[0;32mimport\u001b[0m \u001b[0mAbstractRawExperimentDataValidator\u001b[0m\u001b[0;34m,\u001b[0m \u001b[0mAbstractTabularDataValidator\u001b[0m\u001b[0;34m\u001b[0m\u001b[0;34m\u001b[0m\u001b[0m\n\u001b[0;32m----> 7\u001b[0;31m \u001b[0;32mfrom\u001b[0m \u001b[0;34m.\u001b[0m\u001b[0mmaterialized_tabular_data_validator\u001b[0m \u001b[0;32mimport\u001b[0m \u001b[0mMaterializedTabularDataValidator\u001b[0m\u001b[0;34m\u001b[0m\u001b[0;34m\u001b[0m\u001b[0m\n\u001b[0m\u001b[1;32m      8\u001b[0m \u001b[0;32mfrom\u001b[0m \u001b[0;34m.\u001b[0m\u001b[0mraw_experiment_data_validator\u001b[0m \u001b[0;32mimport\u001b[0m \u001b[0mRawExperimentDataValidator\u001b[0m\u001b[0;34m\u001b[0m\u001b[0;34m\u001b[0m\u001b[0m\n",
            "\u001b[0;32m/anaconda/envs/azureml_py36/lib/python3.6/site-packages/azureml/automl/runtime/_ml_engine/validation/materialized_tabular_data_validator.py\u001b[0m in \u001b[0;36m<module>\u001b[0;34m\u001b[0m\n\u001b[1;32m     24\u001b[0m \u001b[0;32mfrom\u001b[0m \u001b[0mazureml\u001b[0m\u001b[0;34m.\u001b[0m\u001b[0mautoml\u001b[0m\u001b[0;34m.\u001b[0m\u001b[0mruntime\u001b[0m \u001b[0;32mimport\u001b[0m \u001b[0m_common_training_utilities\u001b[0m\u001b[0;34m\u001b[0m\u001b[0;34m\u001b[0m\u001b[0m\n\u001b[1;32m     25\u001b[0m \u001b[0;32mfrom\u001b[0m \u001b[0mazureml\u001b[0m\u001b[0;34m.\u001b[0m\u001b[0mautoml\u001b[0m\u001b[0;34m.\u001b[0m\u001b[0mruntime\u001b[0m\u001b[0;34m.\u001b[0m\u001b[0m_data_definition\u001b[0m \u001b[0;32mimport\u001b[0m \u001b[0mMaterializedTabularData\u001b[0m\u001b[0;34m\u001b[0m\u001b[0;34m\u001b[0m\u001b[0m\n\u001b[0;32m---> 26\u001b[0;31m \u001b[0;32mfrom\u001b[0m \u001b[0mazureml\u001b[0m\u001b[0;34m.\u001b[0m\u001b[0mautoml\u001b[0m\u001b[0;34m.\u001b[0m\u001b[0mruntime\u001b[0m\u001b[0;34m.\u001b[0m\u001b[0m_ml_engine\u001b[0m\u001b[0;34m.\u001b[0m\u001b[0mvalidation\u001b[0m \u001b[0;32mimport\u001b[0m \u001b[0mcommon_data_validations\u001b[0m\u001b[0;34m\u001b[0m\u001b[0;34m\u001b[0m\u001b[0m\n\u001b[0m\u001b[1;32m     27\u001b[0m \u001b[0;32mfrom\u001b[0m \u001b[0mazureml\u001b[0m\u001b[0;34m.\u001b[0m\u001b[0mautoml\u001b[0m\u001b[0;34m.\u001b[0m\u001b[0mruntime\u001b[0m\u001b[0;34m.\u001b[0m\u001b[0m_ml_engine\u001b[0m\u001b[0;34m.\u001b[0m\u001b[0mvalidation\u001b[0m\u001b[0;34m.\u001b[0m\u001b[0mvalidators\u001b[0m \u001b[0;32mimport\u001b[0m \u001b[0mAbstractTabularDataValidator\u001b[0m\u001b[0;34m\u001b[0m\u001b[0;34m\u001b[0m\u001b[0m\n\u001b[1;32m     28\u001b[0m \u001b[0;32mfrom\u001b[0m \u001b[0mazureml\u001b[0m\u001b[0;34m.\u001b[0m\u001b[0mautoml\u001b[0m\u001b[0;34m.\u001b[0m\u001b[0mruntime\u001b[0m\u001b[0;34m.\u001b[0m\u001b[0mshared\u001b[0m \u001b[0;32mimport\u001b[0m \u001b[0mutilities\u001b[0m \u001b[0;32mas\u001b[0m \u001b[0mruntime_utilities\u001b[0m\u001b[0;34m\u001b[0m\u001b[0;34m\u001b[0m\u001b[0m\n",
            "\u001b[0;32m/anaconda/envs/azureml_py36/lib/python3.6/site-packages/azureml/automl/runtime/_ml_engine/validation/common_data_validations.py\u001b[0m in \u001b[0;36m<module>\u001b[0;34m\u001b[0m\n\u001b[1;32m     17\u001b[0m \u001b[0;32mfrom\u001b[0m \u001b[0mazureml\u001b[0m\u001b[0;34m.\u001b[0m\u001b[0mautoml\u001b[0m\u001b[0;34m.\u001b[0m\u001b[0mcore\u001b[0m\u001b[0;34m.\u001b[0m\u001b[0mfeaturization\u001b[0m \u001b[0;32mimport\u001b[0m \u001b[0mFeaturizationConfig\u001b[0m\u001b[0;34m\u001b[0m\u001b[0;34m\u001b[0m\u001b[0m\n\u001b[1;32m     18\u001b[0m \u001b[0;32mfrom\u001b[0m \u001b[0mazureml\u001b[0m\u001b[0;34m.\u001b[0m\u001b[0mautoml\u001b[0m\u001b[0;34m.\u001b[0m\u001b[0mcore\u001b[0m\u001b[0;34m.\u001b[0m\u001b[0mshared\u001b[0m \u001b[0;32mimport\u001b[0m \u001b[0mconstants\u001b[0m\u001b[0;34m,\u001b[0m \u001b[0mutilities\u001b[0m\u001b[0;34m\u001b[0m\u001b[0;34m\u001b[0m\u001b[0m\n\u001b[0;32m---> 19\u001b[0;31m from azureml.automl.core.shared._diagnostics.automl_error_definitions import (\n\u001b[0m\u001b[1;32m     20\u001b[0m     \u001b[0mDatasetContainsInf\u001b[0m\u001b[0;34m,\u001b[0m \u001b[0mDataShapeMismatch\u001b[0m\u001b[0;34m,\u001b[0m \u001b[0mExperimentTimeoutForDataSize\u001b[0m\u001b[0;34m,\u001b[0m \u001b[0mFeaturizationConfigColumnMissing\u001b[0m\u001b[0;34m,\u001b[0m\u001b[0;34m\u001b[0m\u001b[0;34m\u001b[0m\u001b[0m\n\u001b[1;32m     21\u001b[0m     \u001b[0mInvalidMetricForSingleValuedColumn\u001b[0m\u001b[0;34m,\u001b[0m \u001b[0mInvalidValuesInData\u001b[0m\u001b[0;34m,\u001b[0m \u001b[0mSampleCountMismatch\u001b[0m\u001b[0;34m,\u001b[0m \u001b[0mUnhashableValueInColumn\u001b[0m\u001b[0;34m,\u001b[0m\u001b[0;34m\u001b[0m\u001b[0;34m\u001b[0m\u001b[0m\n",
            "\u001b[0;31mImportError\u001b[0m: cannot import name 'UnhashableValueInColumn'"
          ]
        }
      ],
      "execution_count": 15,
      "metadata": {}
    },
    {
      "cell_type": "markdown",
      "source": [
        "### Make predictions"
      ],
      "metadata": {}
    },
    {
      "cell_type": "markdown",
      "source": [
        "### Extract X values (feature columns) from test dataset and convert to NumPi array for predicting"
      ],
      "metadata": {}
    },
    {
      "cell_type": "code",
      "source": [
        "import pandas as pd\n",
        "\n",
        "#remove Y\n",
        "if 'Survived' in test_dataset_df.columns:\n",
        "    y_test_df = test_dataset_df.pop('Survived')\n",
        "\n",
        "x_test_df = test_dataset_df"
      ],
      "outputs": [],
      "execution_count": 18,
      "metadata": {
        "gather": {
          "logged": 1611691228083
        }
      }
    },
    {
      "cell_type": "markdown",
      "source": [
        "### Make the actual Predictions"
      ],
      "metadata": {}
    },
    {
      "cell_type": "code",
      "source": [
        "# Try the best model\n",
        "y_predictions = fitted_model.predict(x_test_df)\n",
        "\n",
        "print('10 predictions: ')\n",
        "print(y_predictions[:10])"
      ],
      "outputs": [
        {
          "output_type": "error",
          "ename": "NameError",
          "evalue": "name 'fitted_model' is not defined",
          "traceback": [
            "\u001b[0;31m---------------------------------------------------------------------------\u001b[0m",
            "\u001b[0;31mNameError\u001b[0m                                 Traceback (most recent call last)",
            "\u001b[0;32m<ipython-input-19-89a2eb5d9dc8>\u001b[0m in \u001b[0;36m<module>\u001b[0;34m\u001b[0m\n\u001b[1;32m      1\u001b[0m \u001b[0;31m# Try the best model\u001b[0m\u001b[0;34m\u001b[0m\u001b[0;34m\u001b[0m\u001b[0;34m\u001b[0m\u001b[0m\n\u001b[0;32m----> 2\u001b[0;31m \u001b[0my_predictions\u001b[0m \u001b[0;34m=\u001b[0m \u001b[0mfitted_model\u001b[0m\u001b[0;34m.\u001b[0m\u001b[0mpredict\u001b[0m\u001b[0;34m(\u001b[0m\u001b[0mx_test_df\u001b[0m\u001b[0;34m)\u001b[0m\u001b[0;34m\u001b[0m\u001b[0;34m\u001b[0m\u001b[0m\n\u001b[0m\u001b[1;32m      3\u001b[0m \u001b[0;34m\u001b[0m\u001b[0m\n\u001b[1;32m      4\u001b[0m \u001b[0mprint\u001b[0m\u001b[0;34m(\u001b[0m\u001b[0;34m'10 predictions: '\u001b[0m\u001b[0;34m)\u001b[0m\u001b[0;34m\u001b[0m\u001b[0;34m\u001b[0m\u001b[0m\n\u001b[1;32m      5\u001b[0m \u001b[0mprint\u001b[0m\u001b[0;34m(\u001b[0m\u001b[0my_predictions\u001b[0m\u001b[0;34m[\u001b[0m\u001b[0;34m:\u001b[0m\u001b[0;36m10\u001b[0m\u001b[0;34m]\u001b[0m\u001b[0;34m)\u001b[0m\u001b[0;34m\u001b[0m\u001b[0;34m\u001b[0m\u001b[0m\n",
            "\u001b[0;31mNameError\u001b[0m: name 'fitted_model' is not defined"
          ]
        }
      ],
      "execution_count": 19,
      "metadata": {}
    },
    {
      "cell_type": "code",
      "source": [
        "y_predictions.shape"
      ],
      "outputs": [
        {
          "output_type": "error",
          "ename": "NameError",
          "evalue": "name 'y_predictions' is not defined",
          "traceback": [
            "\u001b[0;31m---------------------------------------------------------------------------\u001b[0m",
            "\u001b[0;31mNameError\u001b[0m                                 Traceback (most recent call last)",
            "\u001b[0;32m<ipython-input-20-7c0e8711296d>\u001b[0m in \u001b[0;36m<module>\u001b[0;34m\u001b[0m\n\u001b[0;32m----> 1\u001b[0;31m \u001b[0my_predictions\u001b[0m\u001b[0;34m.\u001b[0m\u001b[0mshape\u001b[0m\u001b[0;34m\u001b[0m\u001b[0;34m\u001b[0m\u001b[0m\n\u001b[0m",
            "\u001b[0;31mNameError\u001b[0m: name 'y_predictions' is not defined"
          ]
        }
      ],
      "execution_count": 20,
      "metadata": {}
    },
    {
      "cell_type": "markdown",
      "source": [
        "### Calculate the R2 score with Test Dataset"
      ],
      "metadata": {}
    },
    {
      "cell_type": "code",
      "source": [
        "from sklearn.metrics import accuracy_score\n",
        "\n",
        "print('Accuracy:')\n",
        "accuracy_score(y_test_df, y_predictions)"
      ],
      "outputs": [
        {
          "output_type": "stream",
          "name": "stdout",
          "text": [
            "Accuracy:\n"
          ]
        },
        {
          "output_type": "error",
          "ename": "NameError",
          "evalue": "name 'y_predictions' is not defined",
          "traceback": [
            "\u001b[0;31m---------------------------------------------------------------------------\u001b[0m",
            "\u001b[0;31mNameError\u001b[0m                                 Traceback (most recent call last)",
            "\u001b[0;32m<ipython-input-21-80f057a017a5>\u001b[0m in \u001b[0;36m<module>\u001b[0;34m\u001b[0m\n\u001b[1;32m      2\u001b[0m \u001b[0;34m\u001b[0m\u001b[0m\n\u001b[1;32m      3\u001b[0m \u001b[0mprint\u001b[0m\u001b[0;34m(\u001b[0m\u001b[0;34m'Accuracy:'\u001b[0m\u001b[0;34m)\u001b[0m\u001b[0;34m\u001b[0m\u001b[0;34m\u001b[0m\u001b[0m\n\u001b[0;32m----> 4\u001b[0;31m \u001b[0maccuracy_score\u001b[0m\u001b[0;34m(\u001b[0m\u001b[0my_test_df\u001b[0m\u001b[0;34m,\u001b[0m \u001b[0my_predictions\u001b[0m\u001b[0;34m)\u001b[0m\u001b[0;34m\u001b[0m\u001b[0;34m\u001b[0m\u001b[0m\n\u001b[0m",
            "\u001b[0;31mNameError\u001b[0m: name 'y_predictions' is not defined"
          ]
        }
      ],
      "execution_count": 21,
      "metadata": {}
    }
  ],
  "metadata": {
    "kernel_info": {
      "name": "python3-azureml"
    },
    "kernelspec": {
      "name": "python3-azureml",
      "language": "python",
      "display_name": "Python 3.6 - AzureML"
    },
    "language_info": {
      "name": "python",
      "version": "3.6.9",
      "mimetype": "text/x-python",
      "codemirror_mode": {
        "name": "ipython",
        "version": 3
      },
      "pygments_lexer": "ipython3",
      "nbconvert_exporter": "python",
      "file_extension": ".py"
    },
    "nteract": {
      "version": "nteract-front-end@1.0.0"
    }
  },
  "nbformat": 4,
  "nbformat_minor": 2
}